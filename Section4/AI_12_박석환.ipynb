{
  "nbformat": 4,
  "nbformat_minor": 0,
  "metadata": {
    "colab": {
      "name": "AI_12_박석환.ipynb",
      "provenance": [],
      "authorship_tag": "ABX9TyPvI3j24AYwLS7yAliGCoro",
      "include_colab_link": true
    },
    "kernelspec": {
      "name": "python3",
      "display_name": "Python 3"
    },
    "language_info": {
      "name": "python"
    },
    "accelerator": "GPU",
    "widgets": {
      "application/vnd.jupyter.widget-state+json": {
        "0f9c083bd71e44698ebed6f4bf10b3ec": {
          "model_module": "@jupyter-widgets/controls",
          "model_name": "HBoxModel",
          "model_module_version": "1.5.0",
          "state": {
            "_dom_classes": [],
            "_model_module": "@jupyter-widgets/controls",
            "_model_module_version": "1.5.0",
            "_model_name": "HBoxModel",
            "_view_count": null,
            "_view_module": "@jupyter-widgets/controls",
            "_view_module_version": "1.5.0",
            "_view_name": "HBoxView",
            "box_style": "",
            "children": [
              "IPY_MODEL_b8df5ed6eee144f4889f0b10178af59f",
              "IPY_MODEL_0133037c6b41459e82e8860c7c0ff040",
              "IPY_MODEL_fda99a628f724e80b96e5c4df49e4d64"
            ],
            "layout": "IPY_MODEL_8abd7c28186c42c4b4b2fda0a6ded4e9"
          }
        },
        "b8df5ed6eee144f4889f0b10178af59f": {
          "model_module": "@jupyter-widgets/controls",
          "model_name": "HTMLModel",
          "model_module_version": "1.5.0",
          "state": {
            "_dom_classes": [],
            "_model_module": "@jupyter-widgets/controls",
            "_model_module_version": "1.5.0",
            "_model_name": "HTMLModel",
            "_view_count": null,
            "_view_module": "@jupyter-widgets/controls",
            "_view_module_version": "1.5.0",
            "_view_name": "HTMLView",
            "description": "",
            "description_tooltip": null,
            "layout": "IPY_MODEL_2a6de7400d8549edaba98c3889769e1c",
            "placeholder": "​",
            "style": "IPY_MODEL_da21ce87e97c404f8c662c65fdb18ba5",
            "value": "Training: 100%"
          }
        },
        "0133037c6b41459e82e8860c7c0ff040": {
          "model_module": "@jupyter-widgets/controls",
          "model_name": "FloatProgressModel",
          "model_module_version": "1.5.0",
          "state": {
            "_dom_classes": [],
            "_model_module": "@jupyter-widgets/controls",
            "_model_module_version": "1.5.0",
            "_model_name": "FloatProgressModel",
            "_view_count": null,
            "_view_module": "@jupyter-widgets/controls",
            "_view_module_version": "1.5.0",
            "_view_name": "ProgressView",
            "bar_style": "success",
            "description": "",
            "description_tooltip": null,
            "layout": "IPY_MODEL_88df5406ccf440368b4c3d7119a17a62",
            "max": 1,
            "min": 0,
            "orientation": "horizontal",
            "style": "IPY_MODEL_5966dd9f688140239238d4eca9a89624",
            "value": 1
          }
        },
        "fda99a628f724e80b96e5c4df49e4d64": {
          "model_module": "@jupyter-widgets/controls",
          "model_name": "HTMLModel",
          "model_module_version": "1.5.0",
          "state": {
            "_dom_classes": [],
            "_model_module": "@jupyter-widgets/controls",
            "_model_module_version": "1.5.0",
            "_model_name": "HTMLModel",
            "_view_count": null,
            "_view_module": "@jupyter-widgets/controls",
            "_view_module_version": "1.5.0",
            "_view_name": "HTMLView",
            "description": "",
            "description_tooltip": null,
            "layout": "IPY_MODEL_b4a155165ef34dc0b52798d293ec2a17",
            "placeholder": "​",
            "style": "IPY_MODEL_21f2a689ad554e26aab0c1842abbf7c8",
            "value": " 1/1 ETA: 00:00s,  3745.11s/epochs"
          }
        },
        "8abd7c28186c42c4b4b2fda0a6ded4e9": {
          "model_module": "@jupyter-widgets/base",
          "model_name": "LayoutModel",
          "model_module_version": "1.2.0",
          "state": {
            "_model_module": "@jupyter-widgets/base",
            "_model_module_version": "1.2.0",
            "_model_name": "LayoutModel",
            "_view_count": null,
            "_view_module": "@jupyter-widgets/base",
            "_view_module_version": "1.2.0",
            "_view_name": "LayoutView",
            "align_content": null,
            "align_items": null,
            "align_self": null,
            "border": null,
            "bottom": null,
            "display": "inline-flex",
            "flex": null,
            "flex_flow": "row wrap",
            "grid_area": null,
            "grid_auto_columns": null,
            "grid_auto_flow": null,
            "grid_auto_rows": null,
            "grid_column": null,
            "grid_gap": null,
            "grid_row": null,
            "grid_template_areas": null,
            "grid_template_columns": null,
            "grid_template_rows": null,
            "height": null,
            "justify_content": null,
            "justify_items": null,
            "left": null,
            "margin": null,
            "max_height": null,
            "max_width": null,
            "min_height": null,
            "min_width": null,
            "object_fit": null,
            "object_position": null,
            "order": null,
            "overflow": null,
            "overflow_x": null,
            "overflow_y": null,
            "padding": null,
            "right": null,
            "top": null,
            "visibility": null,
            "width": "100%"
          }
        },
        "2a6de7400d8549edaba98c3889769e1c": {
          "model_module": "@jupyter-widgets/base",
          "model_name": "LayoutModel",
          "model_module_version": "1.2.0",
          "state": {
            "_model_module": "@jupyter-widgets/base",
            "_model_module_version": "1.2.0",
            "_model_name": "LayoutModel",
            "_view_count": null,
            "_view_module": "@jupyter-widgets/base",
            "_view_module_version": "1.2.0",
            "_view_name": "LayoutView",
            "align_content": null,
            "align_items": null,
            "align_self": null,
            "border": null,
            "bottom": null,
            "display": null,
            "flex": null,
            "flex_flow": null,
            "grid_area": null,
            "grid_auto_columns": null,
            "grid_auto_flow": null,
            "grid_auto_rows": null,
            "grid_column": null,
            "grid_gap": null,
            "grid_row": null,
            "grid_template_areas": null,
            "grid_template_columns": null,
            "grid_template_rows": null,
            "height": null,
            "justify_content": null,
            "justify_items": null,
            "left": null,
            "margin": null,
            "max_height": null,
            "max_width": null,
            "min_height": null,
            "min_width": null,
            "object_fit": null,
            "object_position": null,
            "order": null,
            "overflow": null,
            "overflow_x": null,
            "overflow_y": null,
            "padding": null,
            "right": null,
            "top": null,
            "visibility": null,
            "width": null
          }
        },
        "da21ce87e97c404f8c662c65fdb18ba5": {
          "model_module": "@jupyter-widgets/controls",
          "model_name": "DescriptionStyleModel",
          "model_module_version": "1.5.0",
          "state": {
            "_model_module": "@jupyter-widgets/controls",
            "_model_module_version": "1.5.0",
            "_model_name": "DescriptionStyleModel",
            "_view_count": null,
            "_view_module": "@jupyter-widgets/base",
            "_view_module_version": "1.2.0",
            "_view_name": "StyleView",
            "description_width": ""
          }
        },
        "88df5406ccf440368b4c3d7119a17a62": {
          "model_module": "@jupyter-widgets/base",
          "model_name": "LayoutModel",
          "model_module_version": "1.2.0",
          "state": {
            "_model_module": "@jupyter-widgets/base",
            "_model_module_version": "1.2.0",
            "_model_name": "LayoutModel",
            "_view_count": null,
            "_view_module": "@jupyter-widgets/base",
            "_view_module_version": "1.2.0",
            "_view_name": "LayoutView",
            "align_content": null,
            "align_items": null,
            "align_self": null,
            "border": null,
            "bottom": null,
            "display": null,
            "flex": "2",
            "flex_flow": null,
            "grid_area": null,
            "grid_auto_columns": null,
            "grid_auto_flow": null,
            "grid_auto_rows": null,
            "grid_column": null,
            "grid_gap": null,
            "grid_row": null,
            "grid_template_areas": null,
            "grid_template_columns": null,
            "grid_template_rows": null,
            "height": null,
            "justify_content": null,
            "justify_items": null,
            "left": null,
            "margin": null,
            "max_height": null,
            "max_width": null,
            "min_height": null,
            "min_width": null,
            "object_fit": null,
            "object_position": null,
            "order": null,
            "overflow": null,
            "overflow_x": null,
            "overflow_y": null,
            "padding": null,
            "right": null,
            "top": null,
            "visibility": null,
            "width": null
          }
        },
        "5966dd9f688140239238d4eca9a89624": {
          "model_module": "@jupyter-widgets/controls",
          "model_name": "ProgressStyleModel",
          "model_module_version": "1.5.0",
          "state": {
            "_model_module": "@jupyter-widgets/controls",
            "_model_module_version": "1.5.0",
            "_model_name": "ProgressStyleModel",
            "_view_count": null,
            "_view_module": "@jupyter-widgets/base",
            "_view_module_version": "1.2.0",
            "_view_name": "StyleView",
            "bar_color": null,
            "description_width": ""
          }
        },
        "b4a155165ef34dc0b52798d293ec2a17": {
          "model_module": "@jupyter-widgets/base",
          "model_name": "LayoutModel",
          "model_module_version": "1.2.0",
          "state": {
            "_model_module": "@jupyter-widgets/base",
            "_model_module_version": "1.2.0",
            "_model_name": "LayoutModel",
            "_view_count": null,
            "_view_module": "@jupyter-widgets/base",
            "_view_module_version": "1.2.0",
            "_view_name": "LayoutView",
            "align_content": null,
            "align_items": null,
            "align_self": null,
            "border": null,
            "bottom": null,
            "display": null,
            "flex": null,
            "flex_flow": null,
            "grid_area": null,
            "grid_auto_columns": null,
            "grid_auto_flow": null,
            "grid_auto_rows": null,
            "grid_column": null,
            "grid_gap": null,
            "grid_row": null,
            "grid_template_areas": null,
            "grid_template_columns": null,
            "grid_template_rows": null,
            "height": null,
            "justify_content": null,
            "justify_items": null,
            "left": null,
            "margin": null,
            "max_height": null,
            "max_width": null,
            "min_height": null,
            "min_width": null,
            "object_fit": null,
            "object_position": null,
            "order": null,
            "overflow": null,
            "overflow_x": null,
            "overflow_y": null,
            "padding": null,
            "right": null,
            "top": null,
            "visibility": null,
            "width": null
          }
        },
        "21f2a689ad554e26aab0c1842abbf7c8": {
          "model_module": "@jupyter-widgets/controls",
          "model_name": "DescriptionStyleModel",
          "model_module_version": "1.5.0",
          "state": {
            "_model_module": "@jupyter-widgets/controls",
            "_model_module_version": "1.5.0",
            "_model_name": "DescriptionStyleModel",
            "_view_count": null,
            "_view_module": "@jupyter-widgets/base",
            "_view_module_version": "1.2.0",
            "_view_name": "StyleView",
            "description_width": ""
          }
        },
        "d68fce5112df4d9298e2d0c1d590e0c1": {
          "model_module": "@jupyter-widgets/controls",
          "model_name": "HBoxModel",
          "model_module_version": "1.5.0",
          "state": {
            "_dom_classes": [],
            "_model_module": "@jupyter-widgets/controls",
            "_model_module_version": "1.5.0",
            "_model_name": "HBoxModel",
            "_view_count": null,
            "_view_module": "@jupyter-widgets/controls",
            "_view_module_version": "1.5.0",
            "_view_name": "HBoxView",
            "box_style": "",
            "children": [
              "IPY_MODEL_7d21336f888d4035af7be95464026893",
              "IPY_MODEL_21d44fb0aeb243c9a6f220ce321edb92",
              "IPY_MODEL_5893beede133421cb5d52b9bb9bac715"
            ],
            "layout": "IPY_MODEL_2649cc4715fc4bfaa7950499504c3850"
          }
        },
        "7d21336f888d4035af7be95464026893": {
          "model_module": "@jupyter-widgets/controls",
          "model_name": "HTMLModel",
          "model_module_version": "1.5.0",
          "state": {
            "_dom_classes": [],
            "_model_module": "@jupyter-widgets/controls",
            "_model_module_version": "1.5.0",
            "_model_name": "HTMLModel",
            "_view_count": null,
            "_view_module": "@jupyter-widgets/controls",
            "_view_module_version": "1.5.0",
            "_view_name": "HTMLView",
            "description": "",
            "description_tooltip": null,
            "layout": "IPY_MODEL_d07c620f89a84aaba364f122b092ac9d",
            "placeholder": "​",
            "style": "IPY_MODEL_c080d49bd6b24b1ba5acef53bd7ef8cb",
            "value": "118/118"
          }
        },
        "21d44fb0aeb243c9a6f220ce321edb92": {
          "model_module": "@jupyter-widgets/controls",
          "model_name": "FloatProgressModel",
          "model_module_version": "1.5.0",
          "state": {
            "_dom_classes": [],
            "_model_module": "@jupyter-widgets/controls",
            "_model_module_version": "1.5.0",
            "_model_name": "FloatProgressModel",
            "_view_count": null,
            "_view_module": "@jupyter-widgets/controls",
            "_view_module_version": "1.5.0",
            "_view_name": "ProgressView",
            "bar_style": "success",
            "description": "",
            "description_tooltip": null,
            "layout": "IPY_MODEL_ba0e39b414c7478e94d3e1024cc5bc93",
            "max": 118,
            "min": 0,
            "orientation": "horizontal",
            "style": "IPY_MODEL_8a70c201424a452d8f15a10a5f724737",
            "value": 118
          }
        },
        "5893beede133421cb5d52b9bb9bac715": {
          "model_module": "@jupyter-widgets/controls",
          "model_name": "HTMLModel",
          "model_module_version": "1.5.0",
          "state": {
            "_dom_classes": [],
            "_model_module": "@jupyter-widgets/controls",
            "_model_module_version": "1.5.0",
            "_model_name": "HTMLModel",
            "_view_count": null,
            "_view_module": "@jupyter-widgets/controls",
            "_view_module_version": "1.5.0",
            "_view_name": "HTMLView",
            "description": "",
            "description_tooltip": null,
            "layout": "IPY_MODEL_dda07ee032284eebbd2fe022a90df41f",
            "placeholder": "​",
            "style": "IPY_MODEL_86ba09e5405142659e336f301b04c3ec",
            "value": " ETA: 00:00s - loss: 1.9498 - accuracy: 0.3119 - val_loss: 1.7800 - val_accuracy: 0.3863"
          }
        },
        "2649cc4715fc4bfaa7950499504c3850": {
          "model_module": "@jupyter-widgets/base",
          "model_name": "LayoutModel",
          "model_module_version": "1.2.0",
          "state": {
            "_model_module": "@jupyter-widgets/base",
            "_model_module_version": "1.2.0",
            "_model_name": "LayoutModel",
            "_view_count": null,
            "_view_module": "@jupyter-widgets/base",
            "_view_module_version": "1.2.0",
            "_view_name": "LayoutView",
            "align_content": null,
            "align_items": null,
            "align_self": null,
            "border": null,
            "bottom": null,
            "display": "inline-flex",
            "flex": null,
            "flex_flow": "row wrap",
            "grid_area": null,
            "grid_auto_columns": null,
            "grid_auto_flow": null,
            "grid_auto_rows": null,
            "grid_column": null,
            "grid_gap": null,
            "grid_row": null,
            "grid_template_areas": null,
            "grid_template_columns": null,
            "grid_template_rows": null,
            "height": null,
            "justify_content": null,
            "justify_items": null,
            "left": null,
            "margin": null,
            "max_height": null,
            "max_width": null,
            "min_height": null,
            "min_width": null,
            "object_fit": null,
            "object_position": null,
            "order": null,
            "overflow": null,
            "overflow_x": null,
            "overflow_y": null,
            "padding": null,
            "right": null,
            "top": null,
            "visibility": null,
            "width": "100%"
          }
        },
        "d07c620f89a84aaba364f122b092ac9d": {
          "model_module": "@jupyter-widgets/base",
          "model_name": "LayoutModel",
          "model_module_version": "1.2.0",
          "state": {
            "_model_module": "@jupyter-widgets/base",
            "_model_module_version": "1.2.0",
            "_model_name": "LayoutModel",
            "_view_count": null,
            "_view_module": "@jupyter-widgets/base",
            "_view_module_version": "1.2.0",
            "_view_name": "LayoutView",
            "align_content": null,
            "align_items": null,
            "align_self": null,
            "border": null,
            "bottom": null,
            "display": null,
            "flex": null,
            "flex_flow": null,
            "grid_area": null,
            "grid_auto_columns": null,
            "grid_auto_flow": null,
            "grid_auto_rows": null,
            "grid_column": null,
            "grid_gap": null,
            "grid_row": null,
            "grid_template_areas": null,
            "grid_template_columns": null,
            "grid_template_rows": null,
            "height": null,
            "justify_content": null,
            "justify_items": null,
            "left": null,
            "margin": null,
            "max_height": null,
            "max_width": null,
            "min_height": null,
            "min_width": null,
            "object_fit": null,
            "object_position": null,
            "order": null,
            "overflow": null,
            "overflow_x": null,
            "overflow_y": null,
            "padding": null,
            "right": null,
            "top": null,
            "visibility": null,
            "width": null
          }
        },
        "c080d49bd6b24b1ba5acef53bd7ef8cb": {
          "model_module": "@jupyter-widgets/controls",
          "model_name": "DescriptionStyleModel",
          "model_module_version": "1.5.0",
          "state": {
            "_model_module": "@jupyter-widgets/controls",
            "_model_module_version": "1.5.0",
            "_model_name": "DescriptionStyleModel",
            "_view_count": null,
            "_view_module": "@jupyter-widgets/base",
            "_view_module_version": "1.2.0",
            "_view_name": "StyleView",
            "description_width": ""
          }
        },
        "ba0e39b414c7478e94d3e1024cc5bc93": {
          "model_module": "@jupyter-widgets/base",
          "model_name": "LayoutModel",
          "model_module_version": "1.2.0",
          "state": {
            "_model_module": "@jupyter-widgets/base",
            "_model_module_version": "1.2.0",
            "_model_name": "LayoutModel",
            "_view_count": null,
            "_view_module": "@jupyter-widgets/base",
            "_view_module_version": "1.2.0",
            "_view_name": "LayoutView",
            "align_content": null,
            "align_items": null,
            "align_self": null,
            "border": null,
            "bottom": null,
            "display": null,
            "flex": "2",
            "flex_flow": null,
            "grid_area": null,
            "grid_auto_columns": null,
            "grid_auto_flow": null,
            "grid_auto_rows": null,
            "grid_column": null,
            "grid_gap": null,
            "grid_row": null,
            "grid_template_areas": null,
            "grid_template_columns": null,
            "grid_template_rows": null,
            "height": null,
            "justify_content": null,
            "justify_items": null,
            "left": null,
            "margin": null,
            "max_height": null,
            "max_width": null,
            "min_height": null,
            "min_width": null,
            "object_fit": null,
            "object_position": null,
            "order": null,
            "overflow": null,
            "overflow_x": null,
            "overflow_y": null,
            "padding": null,
            "right": null,
            "top": null,
            "visibility": null,
            "width": null
          }
        },
        "8a70c201424a452d8f15a10a5f724737": {
          "model_module": "@jupyter-widgets/controls",
          "model_name": "ProgressStyleModel",
          "model_module_version": "1.5.0",
          "state": {
            "_model_module": "@jupyter-widgets/controls",
            "_model_module_version": "1.5.0",
            "_model_name": "ProgressStyleModel",
            "_view_count": null,
            "_view_module": "@jupyter-widgets/base",
            "_view_module_version": "1.2.0",
            "_view_name": "StyleView",
            "bar_color": null,
            "description_width": ""
          }
        },
        "dda07ee032284eebbd2fe022a90df41f": {
          "model_module": "@jupyter-widgets/base",
          "model_name": "LayoutModel",
          "model_module_version": "1.2.0",
          "state": {
            "_model_module": "@jupyter-widgets/base",
            "_model_module_version": "1.2.0",
            "_model_name": "LayoutModel",
            "_view_count": null,
            "_view_module": "@jupyter-widgets/base",
            "_view_module_version": "1.2.0",
            "_view_name": "LayoutView",
            "align_content": null,
            "align_items": null,
            "align_self": null,
            "border": null,
            "bottom": null,
            "display": null,
            "flex": null,
            "flex_flow": null,
            "grid_area": null,
            "grid_auto_columns": null,
            "grid_auto_flow": null,
            "grid_auto_rows": null,
            "grid_column": null,
            "grid_gap": null,
            "grid_row": null,
            "grid_template_areas": null,
            "grid_template_columns": null,
            "grid_template_rows": null,
            "height": null,
            "justify_content": null,
            "justify_items": null,
            "left": null,
            "margin": null,
            "max_height": null,
            "max_width": null,
            "min_height": null,
            "min_width": null,
            "object_fit": null,
            "object_position": null,
            "order": null,
            "overflow": null,
            "overflow_x": null,
            "overflow_y": null,
            "padding": null,
            "right": null,
            "top": null,
            "visibility": null,
            "width": null
          }
        },
        "86ba09e5405142659e336f301b04c3ec": {
          "model_module": "@jupyter-widgets/controls",
          "model_name": "DescriptionStyleModel",
          "model_module_version": "1.5.0",
          "state": {
            "_model_module": "@jupyter-widgets/controls",
            "_model_module_version": "1.5.0",
            "_model_name": "DescriptionStyleModel",
            "_view_count": null,
            "_view_module": "@jupyter-widgets/base",
            "_view_module_version": "1.2.0",
            "_view_name": "StyleView",
            "description_width": ""
          }
        },
        "3098e0eff1a948918ca1c378b9e1cce6": {
          "model_module": "@jupyter-widgets/controls",
          "model_name": "HBoxModel",
          "model_module_version": "1.5.0",
          "state": {
            "_dom_classes": [],
            "_model_module": "@jupyter-widgets/controls",
            "_model_module_version": "1.5.0",
            "_model_name": "HBoxModel",
            "_view_count": null,
            "_view_module": "@jupyter-widgets/controls",
            "_view_module_version": "1.5.0",
            "_view_name": "HBoxView",
            "box_style": "",
            "children": [
              "IPY_MODEL_99e5621e5e7c485e8a33b857ecfc17e8",
              "IPY_MODEL_bc2aa0c9b3a04ed5a8b97a0e953abef5",
              "IPY_MODEL_6113e1cb5fd5485eb7da14e16e1412b6"
            ],
            "layout": "IPY_MODEL_007e39bec8c649b29d2f71b960d57d61"
          }
        },
        "99e5621e5e7c485e8a33b857ecfc17e8": {
          "model_module": "@jupyter-widgets/controls",
          "model_name": "HTMLModel",
          "model_module_version": "1.5.0",
          "state": {
            "_dom_classes": [],
            "_model_module": "@jupyter-widgets/controls",
            "_model_module_version": "1.5.0",
            "_model_name": "HTMLModel",
            "_view_count": null,
            "_view_module": "@jupyter-widgets/controls",
            "_view_module_version": "1.5.0",
            "_view_name": "HTMLView",
            "description": "",
            "description_tooltip": null,
            "layout": "IPY_MODEL_dcdf2838d0db48c8b8d223af6096b417",
            "placeholder": "​",
            "style": "IPY_MODEL_6c1ff2a37f0544b4924fb68e00157365",
            "value": "Training: 100%"
          }
        },
        "bc2aa0c9b3a04ed5a8b97a0e953abef5": {
          "model_module": "@jupyter-widgets/controls",
          "model_name": "FloatProgressModel",
          "model_module_version": "1.5.0",
          "state": {
            "_dom_classes": [],
            "_model_module": "@jupyter-widgets/controls",
            "_model_module_version": "1.5.0",
            "_model_name": "FloatProgressModel",
            "_view_count": null,
            "_view_module": "@jupyter-widgets/controls",
            "_view_module_version": "1.5.0",
            "_view_name": "ProgressView",
            "bar_style": "success",
            "description": "",
            "description_tooltip": null,
            "layout": "IPY_MODEL_ae88a51bc2bd463c960c2b7fb3dc911a",
            "max": 10,
            "min": 0,
            "orientation": "horizontal",
            "style": "IPY_MODEL_a68b9df83c0745d5b39a2759248f3263",
            "value": 10
          }
        },
        "6113e1cb5fd5485eb7da14e16e1412b6": {
          "model_module": "@jupyter-widgets/controls",
          "model_name": "HTMLModel",
          "model_module_version": "1.5.0",
          "state": {
            "_dom_classes": [],
            "_model_module": "@jupyter-widgets/controls",
            "_model_module_version": "1.5.0",
            "_model_name": "HTMLModel",
            "_view_count": null,
            "_view_module": "@jupyter-widgets/controls",
            "_view_module_version": "1.5.0",
            "_view_name": "HTMLView",
            "description": "",
            "description_tooltip": null,
            "layout": "IPY_MODEL_9e79c7b1ea6c418a867cbbb191650419",
            "placeholder": "​",
            "style": "IPY_MODEL_368aa9e90841461eac7d2d9aaa83b45e",
            "value": " 10/10 ETA: 00:00s,  209.66s/epochs"
          }
        },
        "007e39bec8c649b29d2f71b960d57d61": {
          "model_module": "@jupyter-widgets/base",
          "model_name": "LayoutModel",
          "model_module_version": "1.2.0",
          "state": {
            "_model_module": "@jupyter-widgets/base",
            "_model_module_version": "1.2.0",
            "_model_name": "LayoutModel",
            "_view_count": null,
            "_view_module": "@jupyter-widgets/base",
            "_view_module_version": "1.2.0",
            "_view_name": "LayoutView",
            "align_content": null,
            "align_items": null,
            "align_self": null,
            "border": null,
            "bottom": null,
            "display": "inline-flex",
            "flex": null,
            "flex_flow": "row wrap",
            "grid_area": null,
            "grid_auto_columns": null,
            "grid_auto_flow": null,
            "grid_auto_rows": null,
            "grid_column": null,
            "grid_gap": null,
            "grid_row": null,
            "grid_template_areas": null,
            "grid_template_columns": null,
            "grid_template_rows": null,
            "height": null,
            "justify_content": null,
            "justify_items": null,
            "left": null,
            "margin": null,
            "max_height": null,
            "max_width": null,
            "min_height": null,
            "min_width": null,
            "object_fit": null,
            "object_position": null,
            "order": null,
            "overflow": null,
            "overflow_x": null,
            "overflow_y": null,
            "padding": null,
            "right": null,
            "top": null,
            "visibility": null,
            "width": "100%"
          }
        },
        "dcdf2838d0db48c8b8d223af6096b417": {
          "model_module": "@jupyter-widgets/base",
          "model_name": "LayoutModel",
          "model_module_version": "1.2.0",
          "state": {
            "_model_module": "@jupyter-widgets/base",
            "_model_module_version": "1.2.0",
            "_model_name": "LayoutModel",
            "_view_count": null,
            "_view_module": "@jupyter-widgets/base",
            "_view_module_version": "1.2.0",
            "_view_name": "LayoutView",
            "align_content": null,
            "align_items": null,
            "align_self": null,
            "border": null,
            "bottom": null,
            "display": null,
            "flex": null,
            "flex_flow": null,
            "grid_area": null,
            "grid_auto_columns": null,
            "grid_auto_flow": null,
            "grid_auto_rows": null,
            "grid_column": null,
            "grid_gap": null,
            "grid_row": null,
            "grid_template_areas": null,
            "grid_template_columns": null,
            "grid_template_rows": null,
            "height": null,
            "justify_content": null,
            "justify_items": null,
            "left": null,
            "margin": null,
            "max_height": null,
            "max_width": null,
            "min_height": null,
            "min_width": null,
            "object_fit": null,
            "object_position": null,
            "order": null,
            "overflow": null,
            "overflow_x": null,
            "overflow_y": null,
            "padding": null,
            "right": null,
            "top": null,
            "visibility": null,
            "width": null
          }
        },
        "6c1ff2a37f0544b4924fb68e00157365": {
          "model_module": "@jupyter-widgets/controls",
          "model_name": "DescriptionStyleModel",
          "model_module_version": "1.5.0",
          "state": {
            "_model_module": "@jupyter-widgets/controls",
            "_model_module_version": "1.5.0",
            "_model_name": "DescriptionStyleModel",
            "_view_count": null,
            "_view_module": "@jupyter-widgets/base",
            "_view_module_version": "1.2.0",
            "_view_name": "StyleView",
            "description_width": ""
          }
        },
        "ae88a51bc2bd463c960c2b7fb3dc911a": {
          "model_module": "@jupyter-widgets/base",
          "model_name": "LayoutModel",
          "model_module_version": "1.2.0",
          "state": {
            "_model_module": "@jupyter-widgets/base",
            "_model_module_version": "1.2.0",
            "_model_name": "LayoutModel",
            "_view_count": null,
            "_view_module": "@jupyter-widgets/base",
            "_view_module_version": "1.2.0",
            "_view_name": "LayoutView",
            "align_content": null,
            "align_items": null,
            "align_self": null,
            "border": null,
            "bottom": null,
            "display": null,
            "flex": "2",
            "flex_flow": null,
            "grid_area": null,
            "grid_auto_columns": null,
            "grid_auto_flow": null,
            "grid_auto_rows": null,
            "grid_column": null,
            "grid_gap": null,
            "grid_row": null,
            "grid_template_areas": null,
            "grid_template_columns": null,
            "grid_template_rows": null,
            "height": null,
            "justify_content": null,
            "justify_items": null,
            "left": null,
            "margin": null,
            "max_height": null,
            "max_width": null,
            "min_height": null,
            "min_width": null,
            "object_fit": null,
            "object_position": null,
            "order": null,
            "overflow": null,
            "overflow_x": null,
            "overflow_y": null,
            "padding": null,
            "right": null,
            "top": null,
            "visibility": null,
            "width": null
          }
        },
        "a68b9df83c0745d5b39a2759248f3263": {
          "model_module": "@jupyter-widgets/controls",
          "model_name": "ProgressStyleModel",
          "model_module_version": "1.5.0",
          "state": {
            "_model_module": "@jupyter-widgets/controls",
            "_model_module_version": "1.5.0",
            "_model_name": "ProgressStyleModel",
            "_view_count": null,
            "_view_module": "@jupyter-widgets/base",
            "_view_module_version": "1.2.0",
            "_view_name": "StyleView",
            "bar_color": null,
            "description_width": ""
          }
        },
        "9e79c7b1ea6c418a867cbbb191650419": {
          "model_module": "@jupyter-widgets/base",
          "model_name": "LayoutModel",
          "model_module_version": "1.2.0",
          "state": {
            "_model_module": "@jupyter-widgets/base",
            "_model_module_version": "1.2.0",
            "_model_name": "LayoutModel",
            "_view_count": null,
            "_view_module": "@jupyter-widgets/base",
            "_view_module_version": "1.2.0",
            "_view_name": "LayoutView",
            "align_content": null,
            "align_items": null,
            "align_self": null,
            "border": null,
            "bottom": null,
            "display": null,
            "flex": null,
            "flex_flow": null,
            "grid_area": null,
            "grid_auto_columns": null,
            "grid_auto_flow": null,
            "grid_auto_rows": null,
            "grid_column": null,
            "grid_gap": null,
            "grid_row": null,
            "grid_template_areas": null,
            "grid_template_columns": null,
            "grid_template_rows": null,
            "height": null,
            "justify_content": null,
            "justify_items": null,
            "left": null,
            "margin": null,
            "max_height": null,
            "max_width": null,
            "min_height": null,
            "min_width": null,
            "object_fit": null,
            "object_position": null,
            "order": null,
            "overflow": null,
            "overflow_x": null,
            "overflow_y": null,
            "padding": null,
            "right": null,
            "top": null,
            "visibility": null,
            "width": null
          }
        },
        "368aa9e90841461eac7d2d9aaa83b45e": {
          "model_module": "@jupyter-widgets/controls",
          "model_name": "DescriptionStyleModel",
          "model_module_version": "1.5.0",
          "state": {
            "_model_module": "@jupyter-widgets/controls",
            "_model_module_version": "1.5.0",
            "_model_name": "DescriptionStyleModel",
            "_view_count": null,
            "_view_module": "@jupyter-widgets/base",
            "_view_module_version": "1.2.0",
            "_view_name": "StyleView",
            "description_width": ""
          }
        },
        "e0de3f0c6b314109bd4774ae16f376f3": {
          "model_module": "@jupyter-widgets/controls",
          "model_name": "HBoxModel",
          "model_module_version": "1.5.0",
          "state": {
            "_dom_classes": [],
            "_model_module": "@jupyter-widgets/controls",
            "_model_module_version": "1.5.0",
            "_model_name": "HBoxModel",
            "_view_count": null,
            "_view_module": "@jupyter-widgets/controls",
            "_view_module_version": "1.5.0",
            "_view_name": "HBoxView",
            "box_style": "",
            "children": [
              "IPY_MODEL_747bb33af8e7403aad8de24023af37ba",
              "IPY_MODEL_7c923c6b6bbd483c821563bfd5b35c6a",
              "IPY_MODEL_be8da7070ff041478eec5e091dc723f3"
            ],
            "layout": "IPY_MODEL_6ad836c9465241a1b2af0e5ae9d45a3b"
          }
        },
        "747bb33af8e7403aad8de24023af37ba": {
          "model_module": "@jupyter-widgets/controls",
          "model_name": "HTMLModel",
          "model_module_version": "1.5.0",
          "state": {
            "_dom_classes": [],
            "_model_module": "@jupyter-widgets/controls",
            "_model_module_version": "1.5.0",
            "_model_name": "HTMLModel",
            "_view_count": null,
            "_view_module": "@jupyter-widgets/controls",
            "_view_module_version": "1.5.0",
            "_view_name": "HTMLView",
            "description": "",
            "description_tooltip": null,
            "layout": "IPY_MODEL_3d5196c76a794bc79570f9ea5d2ddfc1",
            "placeholder": "​",
            "style": "IPY_MODEL_c1971fc13e1f49e0bf983c8b25cfc4a7",
            "value": "235/235"
          }
        },
        "7c923c6b6bbd483c821563bfd5b35c6a": {
          "model_module": "@jupyter-widgets/controls",
          "model_name": "FloatProgressModel",
          "model_module_version": "1.5.0",
          "state": {
            "_dom_classes": [],
            "_model_module": "@jupyter-widgets/controls",
            "_model_module_version": "1.5.0",
            "_model_name": "FloatProgressModel",
            "_view_count": null,
            "_view_module": "@jupyter-widgets/controls",
            "_view_module_version": "1.5.0",
            "_view_name": "ProgressView",
            "bar_style": "success",
            "description": "",
            "description_tooltip": null,
            "layout": "IPY_MODEL_03ac795b20f04c5bbe559d3819522007",
            "max": 235,
            "min": 0,
            "orientation": "horizontal",
            "style": "IPY_MODEL_fce573cb2ac140979efdd9d546edb836",
            "value": 235
          }
        },
        "be8da7070ff041478eec5e091dc723f3": {
          "model_module": "@jupyter-widgets/controls",
          "model_name": "HTMLModel",
          "model_module_version": "1.5.0",
          "state": {
            "_dom_classes": [],
            "_model_module": "@jupyter-widgets/controls",
            "_model_module_version": "1.5.0",
            "_model_name": "HTMLModel",
            "_view_count": null,
            "_view_module": "@jupyter-widgets/controls",
            "_view_module_version": "1.5.0",
            "_view_name": "HTMLView",
            "description": "",
            "description_tooltip": null,
            "layout": "IPY_MODEL_6e91ae91bc104b958b73949eb21ea517",
            "placeholder": "​",
            "style": "IPY_MODEL_61bdbf7481b14a8bb880630baa2e92a1",
            "value": " ETA: 00:00s - loss: 2.1059 - accuracy: 0.2225 - val_loss: 1.9944 - val_accuracy: 0.2552"
          }
        },
        "6ad836c9465241a1b2af0e5ae9d45a3b": {
          "model_module": "@jupyter-widgets/base",
          "model_name": "LayoutModel",
          "model_module_version": "1.2.0",
          "state": {
            "_model_module": "@jupyter-widgets/base",
            "_model_module_version": "1.2.0",
            "_model_name": "LayoutModel",
            "_view_count": null,
            "_view_module": "@jupyter-widgets/base",
            "_view_module_version": "1.2.0",
            "_view_name": "LayoutView",
            "align_content": null,
            "align_items": null,
            "align_self": null,
            "border": null,
            "bottom": null,
            "display": "inline-flex",
            "flex": null,
            "flex_flow": "row wrap",
            "grid_area": null,
            "grid_auto_columns": null,
            "grid_auto_flow": null,
            "grid_auto_rows": null,
            "grid_column": null,
            "grid_gap": null,
            "grid_row": null,
            "grid_template_areas": null,
            "grid_template_columns": null,
            "grid_template_rows": null,
            "height": null,
            "justify_content": null,
            "justify_items": null,
            "left": null,
            "margin": null,
            "max_height": null,
            "max_width": null,
            "min_height": null,
            "min_width": null,
            "object_fit": null,
            "object_position": null,
            "order": null,
            "overflow": null,
            "overflow_x": null,
            "overflow_y": null,
            "padding": null,
            "right": null,
            "top": null,
            "visibility": null,
            "width": "100%"
          }
        },
        "3d5196c76a794bc79570f9ea5d2ddfc1": {
          "model_module": "@jupyter-widgets/base",
          "model_name": "LayoutModel",
          "model_module_version": "1.2.0",
          "state": {
            "_model_module": "@jupyter-widgets/base",
            "_model_module_version": "1.2.0",
            "_model_name": "LayoutModel",
            "_view_count": null,
            "_view_module": "@jupyter-widgets/base",
            "_view_module_version": "1.2.0",
            "_view_name": "LayoutView",
            "align_content": null,
            "align_items": null,
            "align_self": null,
            "border": null,
            "bottom": null,
            "display": null,
            "flex": null,
            "flex_flow": null,
            "grid_area": null,
            "grid_auto_columns": null,
            "grid_auto_flow": null,
            "grid_auto_rows": null,
            "grid_column": null,
            "grid_gap": null,
            "grid_row": null,
            "grid_template_areas": null,
            "grid_template_columns": null,
            "grid_template_rows": null,
            "height": null,
            "justify_content": null,
            "justify_items": null,
            "left": null,
            "margin": null,
            "max_height": null,
            "max_width": null,
            "min_height": null,
            "min_width": null,
            "object_fit": null,
            "object_position": null,
            "order": null,
            "overflow": null,
            "overflow_x": null,
            "overflow_y": null,
            "padding": null,
            "right": null,
            "top": null,
            "visibility": null,
            "width": null
          }
        },
        "c1971fc13e1f49e0bf983c8b25cfc4a7": {
          "model_module": "@jupyter-widgets/controls",
          "model_name": "DescriptionStyleModel",
          "model_module_version": "1.5.0",
          "state": {
            "_model_module": "@jupyter-widgets/controls",
            "_model_module_version": "1.5.0",
            "_model_name": "DescriptionStyleModel",
            "_view_count": null,
            "_view_module": "@jupyter-widgets/base",
            "_view_module_version": "1.2.0",
            "_view_name": "StyleView",
            "description_width": ""
          }
        },
        "03ac795b20f04c5bbe559d3819522007": {
          "model_module": "@jupyter-widgets/base",
          "model_name": "LayoutModel",
          "model_module_version": "1.2.0",
          "state": {
            "_model_module": "@jupyter-widgets/base",
            "_model_module_version": "1.2.0",
            "_model_name": "LayoutModel",
            "_view_count": null,
            "_view_module": "@jupyter-widgets/base",
            "_view_module_version": "1.2.0",
            "_view_name": "LayoutView",
            "align_content": null,
            "align_items": null,
            "align_self": null,
            "border": null,
            "bottom": null,
            "display": null,
            "flex": "2",
            "flex_flow": null,
            "grid_area": null,
            "grid_auto_columns": null,
            "grid_auto_flow": null,
            "grid_auto_rows": null,
            "grid_column": null,
            "grid_gap": null,
            "grid_row": null,
            "grid_template_areas": null,
            "grid_template_columns": null,
            "grid_template_rows": null,
            "height": null,
            "justify_content": null,
            "justify_items": null,
            "left": null,
            "margin": null,
            "max_height": null,
            "max_width": null,
            "min_height": null,
            "min_width": null,
            "object_fit": null,
            "object_position": null,
            "order": null,
            "overflow": null,
            "overflow_x": null,
            "overflow_y": null,
            "padding": null,
            "right": null,
            "top": null,
            "visibility": null,
            "width": null
          }
        },
        "fce573cb2ac140979efdd9d546edb836": {
          "model_module": "@jupyter-widgets/controls",
          "model_name": "ProgressStyleModel",
          "model_module_version": "1.5.0",
          "state": {
            "_model_module": "@jupyter-widgets/controls",
            "_model_module_version": "1.5.0",
            "_model_name": "ProgressStyleModel",
            "_view_count": null,
            "_view_module": "@jupyter-widgets/base",
            "_view_module_version": "1.2.0",
            "_view_name": "StyleView",
            "bar_color": null,
            "description_width": ""
          }
        },
        "6e91ae91bc104b958b73949eb21ea517": {
          "model_module": "@jupyter-widgets/base",
          "model_name": "LayoutModel",
          "model_module_version": "1.2.0",
          "state": {
            "_model_module": "@jupyter-widgets/base",
            "_model_module_version": "1.2.0",
            "_model_name": "LayoutModel",
            "_view_count": null,
            "_view_module": "@jupyter-widgets/base",
            "_view_module_version": "1.2.0",
            "_view_name": "LayoutView",
            "align_content": null,
            "align_items": null,
            "align_self": null,
            "border": null,
            "bottom": null,
            "display": null,
            "flex": null,
            "flex_flow": null,
            "grid_area": null,
            "grid_auto_columns": null,
            "grid_auto_flow": null,
            "grid_auto_rows": null,
            "grid_column": null,
            "grid_gap": null,
            "grid_row": null,
            "grid_template_areas": null,
            "grid_template_columns": null,
            "grid_template_rows": null,
            "height": null,
            "justify_content": null,
            "justify_items": null,
            "left": null,
            "margin": null,
            "max_height": null,
            "max_width": null,
            "min_height": null,
            "min_width": null,
            "object_fit": null,
            "object_position": null,
            "order": null,
            "overflow": null,
            "overflow_x": null,
            "overflow_y": null,
            "padding": null,
            "right": null,
            "top": null,
            "visibility": null,
            "width": null
          }
        },
        "61bdbf7481b14a8bb880630baa2e92a1": {
          "model_module": "@jupyter-widgets/controls",
          "model_name": "DescriptionStyleModel",
          "model_module_version": "1.5.0",
          "state": {
            "_model_module": "@jupyter-widgets/controls",
            "_model_module_version": "1.5.0",
            "_model_name": "DescriptionStyleModel",
            "_view_count": null,
            "_view_module": "@jupyter-widgets/base",
            "_view_module_version": "1.2.0",
            "_view_name": "StyleView",
            "description_width": ""
          }
        },
        "28e7b91046a74b269725f38bfd50f4bd": {
          "model_module": "@jupyter-widgets/controls",
          "model_name": "HBoxModel",
          "model_module_version": "1.5.0",
          "state": {
            "_dom_classes": [],
            "_model_module": "@jupyter-widgets/controls",
            "_model_module_version": "1.5.0",
            "_model_name": "HBoxModel",
            "_view_count": null,
            "_view_module": "@jupyter-widgets/controls",
            "_view_module_version": "1.5.0",
            "_view_name": "HBoxView",
            "box_style": "",
            "children": [
              "IPY_MODEL_5a88b31c50f747d5a83f604f65073be7",
              "IPY_MODEL_5eee6a1b6c4442c58d5cda25f50a105a",
              "IPY_MODEL_32877fed272b4ea2a0a31797b6e613b0"
            ],
            "layout": "IPY_MODEL_a96b6b2f2645494ba47a4526c2920de8"
          }
        },
        "5a88b31c50f747d5a83f604f65073be7": {
          "model_module": "@jupyter-widgets/controls",
          "model_name": "HTMLModel",
          "model_module_version": "1.5.0",
          "state": {
            "_dom_classes": [],
            "_model_module": "@jupyter-widgets/controls",
            "_model_module_version": "1.5.0",
            "_model_name": "HTMLModel",
            "_view_count": null,
            "_view_module": "@jupyter-widgets/controls",
            "_view_module_version": "1.5.0",
            "_view_name": "HTMLView",
            "description": "",
            "description_tooltip": null,
            "layout": "IPY_MODEL_adfe6249fc5546f58505f999f8be8ee4",
            "placeholder": "​",
            "style": "IPY_MODEL_e8145fb7bcb549418aeba094360a01e6",
            "value": "235/235"
          }
        },
        "5eee6a1b6c4442c58d5cda25f50a105a": {
          "model_module": "@jupyter-widgets/controls",
          "model_name": "FloatProgressModel",
          "model_module_version": "1.5.0",
          "state": {
            "_dom_classes": [],
            "_model_module": "@jupyter-widgets/controls",
            "_model_module_version": "1.5.0",
            "_model_name": "FloatProgressModel",
            "_view_count": null,
            "_view_module": "@jupyter-widgets/controls",
            "_view_module_version": "1.5.0",
            "_view_name": "ProgressView",
            "bar_style": "success",
            "description": "",
            "description_tooltip": null,
            "layout": "IPY_MODEL_813ade6dd62d4498b4c0c4507737da63",
            "max": 235,
            "min": 0,
            "orientation": "horizontal",
            "style": "IPY_MODEL_54c85a9f007c4c37972d065cf199b257",
            "value": 235
          }
        },
        "32877fed272b4ea2a0a31797b6e613b0": {
          "model_module": "@jupyter-widgets/controls",
          "model_name": "HTMLModel",
          "model_module_version": "1.5.0",
          "state": {
            "_dom_classes": [],
            "_model_module": "@jupyter-widgets/controls",
            "_model_module_version": "1.5.0",
            "_model_name": "HTMLModel",
            "_view_count": null,
            "_view_module": "@jupyter-widgets/controls",
            "_view_module_version": "1.5.0",
            "_view_name": "HTMLView",
            "description": "",
            "description_tooltip": null,
            "layout": "IPY_MODEL_fa8c0b30829444679775313e554ba46c",
            "placeholder": "​",
            "style": "IPY_MODEL_27e4e0c051d24551a00f2ae676b69485",
            "value": " ETA: 00:00s - loss: 1.9312 - accuracy: 0.3002 - val_loss: 1.7249 - val_accuracy: 0.3980"
          }
        },
        "a96b6b2f2645494ba47a4526c2920de8": {
          "model_module": "@jupyter-widgets/base",
          "model_name": "LayoutModel",
          "model_module_version": "1.2.0",
          "state": {
            "_model_module": "@jupyter-widgets/base",
            "_model_module_version": "1.2.0",
            "_model_name": "LayoutModel",
            "_view_count": null,
            "_view_module": "@jupyter-widgets/base",
            "_view_module_version": "1.2.0",
            "_view_name": "LayoutView",
            "align_content": null,
            "align_items": null,
            "align_self": null,
            "border": null,
            "bottom": null,
            "display": "inline-flex",
            "flex": null,
            "flex_flow": "row wrap",
            "grid_area": null,
            "grid_auto_columns": null,
            "grid_auto_flow": null,
            "grid_auto_rows": null,
            "grid_column": null,
            "grid_gap": null,
            "grid_row": null,
            "grid_template_areas": null,
            "grid_template_columns": null,
            "grid_template_rows": null,
            "height": null,
            "justify_content": null,
            "justify_items": null,
            "left": null,
            "margin": null,
            "max_height": null,
            "max_width": null,
            "min_height": null,
            "min_width": null,
            "object_fit": null,
            "object_position": null,
            "order": null,
            "overflow": null,
            "overflow_x": null,
            "overflow_y": null,
            "padding": null,
            "right": null,
            "top": null,
            "visibility": null,
            "width": "100%"
          }
        },
        "adfe6249fc5546f58505f999f8be8ee4": {
          "model_module": "@jupyter-widgets/base",
          "model_name": "LayoutModel",
          "model_module_version": "1.2.0",
          "state": {
            "_model_module": "@jupyter-widgets/base",
            "_model_module_version": "1.2.0",
            "_model_name": "LayoutModel",
            "_view_count": null,
            "_view_module": "@jupyter-widgets/base",
            "_view_module_version": "1.2.0",
            "_view_name": "LayoutView",
            "align_content": null,
            "align_items": null,
            "align_self": null,
            "border": null,
            "bottom": null,
            "display": null,
            "flex": null,
            "flex_flow": null,
            "grid_area": null,
            "grid_auto_columns": null,
            "grid_auto_flow": null,
            "grid_auto_rows": null,
            "grid_column": null,
            "grid_gap": null,
            "grid_row": null,
            "grid_template_areas": null,
            "grid_template_columns": null,
            "grid_template_rows": null,
            "height": null,
            "justify_content": null,
            "justify_items": null,
            "left": null,
            "margin": null,
            "max_height": null,
            "max_width": null,
            "min_height": null,
            "min_width": null,
            "object_fit": null,
            "object_position": null,
            "order": null,
            "overflow": null,
            "overflow_x": null,
            "overflow_y": null,
            "padding": null,
            "right": null,
            "top": null,
            "visibility": null,
            "width": null
          }
        },
        "e8145fb7bcb549418aeba094360a01e6": {
          "model_module": "@jupyter-widgets/controls",
          "model_name": "DescriptionStyleModel",
          "model_module_version": "1.5.0",
          "state": {
            "_model_module": "@jupyter-widgets/controls",
            "_model_module_version": "1.5.0",
            "_model_name": "DescriptionStyleModel",
            "_view_count": null,
            "_view_module": "@jupyter-widgets/base",
            "_view_module_version": "1.2.0",
            "_view_name": "StyleView",
            "description_width": ""
          }
        },
        "813ade6dd62d4498b4c0c4507737da63": {
          "model_module": "@jupyter-widgets/base",
          "model_name": "LayoutModel",
          "model_module_version": "1.2.0",
          "state": {
            "_model_module": "@jupyter-widgets/base",
            "_model_module_version": "1.2.0",
            "_model_name": "LayoutModel",
            "_view_count": null,
            "_view_module": "@jupyter-widgets/base",
            "_view_module_version": "1.2.0",
            "_view_name": "LayoutView",
            "align_content": null,
            "align_items": null,
            "align_self": null,
            "border": null,
            "bottom": null,
            "display": null,
            "flex": "2",
            "flex_flow": null,
            "grid_area": null,
            "grid_auto_columns": null,
            "grid_auto_flow": null,
            "grid_auto_rows": null,
            "grid_column": null,
            "grid_gap": null,
            "grid_row": null,
            "grid_template_areas": null,
            "grid_template_columns": null,
            "grid_template_rows": null,
            "height": null,
            "justify_content": null,
            "justify_items": null,
            "left": null,
            "margin": null,
            "max_height": null,
            "max_width": null,
            "min_height": null,
            "min_width": null,
            "object_fit": null,
            "object_position": null,
            "order": null,
            "overflow": null,
            "overflow_x": null,
            "overflow_y": null,
            "padding": null,
            "right": null,
            "top": null,
            "visibility": null,
            "width": null
          }
        },
        "54c85a9f007c4c37972d065cf199b257": {
          "model_module": "@jupyter-widgets/controls",
          "model_name": "ProgressStyleModel",
          "model_module_version": "1.5.0",
          "state": {
            "_model_module": "@jupyter-widgets/controls",
            "_model_module_version": "1.5.0",
            "_model_name": "ProgressStyleModel",
            "_view_count": null,
            "_view_module": "@jupyter-widgets/base",
            "_view_module_version": "1.2.0",
            "_view_name": "StyleView",
            "bar_color": null,
            "description_width": ""
          }
        },
        "fa8c0b30829444679775313e554ba46c": {
          "model_module": "@jupyter-widgets/base",
          "model_name": "LayoutModel",
          "model_module_version": "1.2.0",
          "state": {
            "_model_module": "@jupyter-widgets/base",
            "_model_module_version": "1.2.0",
            "_model_name": "LayoutModel",
            "_view_count": null,
            "_view_module": "@jupyter-widgets/base",
            "_view_module_version": "1.2.0",
            "_view_name": "LayoutView",
            "align_content": null,
            "align_items": null,
            "align_self": null,
            "border": null,
            "bottom": null,
            "display": null,
            "flex": null,
            "flex_flow": null,
            "grid_area": null,
            "grid_auto_columns": null,
            "grid_auto_flow": null,
            "grid_auto_rows": null,
            "grid_column": null,
            "grid_gap": null,
            "grid_row": null,
            "grid_template_areas": null,
            "grid_template_columns": null,
            "grid_template_rows": null,
            "height": null,
            "justify_content": null,
            "justify_items": null,
            "left": null,
            "margin": null,
            "max_height": null,
            "max_width": null,
            "min_height": null,
            "min_width": null,
            "object_fit": null,
            "object_position": null,
            "order": null,
            "overflow": null,
            "overflow_x": null,
            "overflow_y": null,
            "padding": null,
            "right": null,
            "top": null,
            "visibility": null,
            "width": null
          }
        },
        "27e4e0c051d24551a00f2ae676b69485": {
          "model_module": "@jupyter-widgets/controls",
          "model_name": "DescriptionStyleModel",
          "model_module_version": "1.5.0",
          "state": {
            "_model_module": "@jupyter-widgets/controls",
            "_model_module_version": "1.5.0",
            "_model_name": "DescriptionStyleModel",
            "_view_count": null,
            "_view_module": "@jupyter-widgets/base",
            "_view_module_version": "1.2.0",
            "_view_name": "StyleView",
            "description_width": ""
          }
        },
        "2a906c6af06e47bf91fbde5087c9ac2d": {
          "model_module": "@jupyter-widgets/controls",
          "model_name": "HBoxModel",
          "model_module_version": "1.5.0",
          "state": {
            "_dom_classes": [],
            "_model_module": "@jupyter-widgets/controls",
            "_model_module_version": "1.5.0",
            "_model_name": "HBoxModel",
            "_view_count": null,
            "_view_module": "@jupyter-widgets/controls",
            "_view_module_version": "1.5.0",
            "_view_name": "HBoxView",
            "box_style": "",
            "children": [
              "IPY_MODEL_4a0141c4c66d4e60948d8614f9aa55e9",
              "IPY_MODEL_231df0f60f78422b98bdf274922905f9",
              "IPY_MODEL_31eebc2b7ceb4ffb8dfc5130a25de811"
            ],
            "layout": "IPY_MODEL_db98d898a50949f38d4b01268fed26f7"
          }
        },
        "4a0141c4c66d4e60948d8614f9aa55e9": {
          "model_module": "@jupyter-widgets/controls",
          "model_name": "HTMLModel",
          "model_module_version": "1.5.0",
          "state": {
            "_dom_classes": [],
            "_model_module": "@jupyter-widgets/controls",
            "_model_module_version": "1.5.0",
            "_model_name": "HTMLModel",
            "_view_count": null,
            "_view_module": "@jupyter-widgets/controls",
            "_view_module_version": "1.5.0",
            "_view_name": "HTMLView",
            "description": "",
            "description_tooltip": null,
            "layout": "IPY_MODEL_b6414e82a7074852a158fc8004324b1b",
            "placeholder": "​",
            "style": "IPY_MODEL_5e2e63dd76664693b65c1f8a820e4414",
            "value": "235/235"
          }
        },
        "231df0f60f78422b98bdf274922905f9": {
          "model_module": "@jupyter-widgets/controls",
          "model_name": "FloatProgressModel",
          "model_module_version": "1.5.0",
          "state": {
            "_dom_classes": [],
            "_model_module": "@jupyter-widgets/controls",
            "_model_module_version": "1.5.0",
            "_model_name": "FloatProgressModel",
            "_view_count": null,
            "_view_module": "@jupyter-widgets/controls",
            "_view_module_version": "1.5.0",
            "_view_name": "ProgressView",
            "bar_style": "success",
            "description": "",
            "description_tooltip": null,
            "layout": "IPY_MODEL_81a98243345141c1b1fd353345f5a6b1",
            "max": 235,
            "min": 0,
            "orientation": "horizontal",
            "style": "IPY_MODEL_1266207a51624b6ab4ab787e2f2cecdd",
            "value": 235
          }
        },
        "31eebc2b7ceb4ffb8dfc5130a25de811": {
          "model_module": "@jupyter-widgets/controls",
          "model_name": "HTMLModel",
          "model_module_version": "1.5.0",
          "state": {
            "_dom_classes": [],
            "_model_module": "@jupyter-widgets/controls",
            "_model_module_version": "1.5.0",
            "_model_name": "HTMLModel",
            "_view_count": null,
            "_view_module": "@jupyter-widgets/controls",
            "_view_module_version": "1.5.0",
            "_view_name": "HTMLView",
            "description": "",
            "description_tooltip": null,
            "layout": "IPY_MODEL_3f1f834a466e400eb10482c95c1664b0",
            "placeholder": "​",
            "style": "IPY_MODEL_798514f9671343eaa958048dc4043ec3",
            "value": " ETA: 00:00s - loss: 1.6492 - accuracy: 0.4334 - val_loss: 1.5683 - val_accuracy: 0.4566"
          }
        },
        "db98d898a50949f38d4b01268fed26f7": {
          "model_module": "@jupyter-widgets/base",
          "model_name": "LayoutModel",
          "model_module_version": "1.2.0",
          "state": {
            "_model_module": "@jupyter-widgets/base",
            "_model_module_version": "1.2.0",
            "_model_name": "LayoutModel",
            "_view_count": null,
            "_view_module": "@jupyter-widgets/base",
            "_view_module_version": "1.2.0",
            "_view_name": "LayoutView",
            "align_content": null,
            "align_items": null,
            "align_self": null,
            "border": null,
            "bottom": null,
            "display": "inline-flex",
            "flex": null,
            "flex_flow": "row wrap",
            "grid_area": null,
            "grid_auto_columns": null,
            "grid_auto_flow": null,
            "grid_auto_rows": null,
            "grid_column": null,
            "grid_gap": null,
            "grid_row": null,
            "grid_template_areas": null,
            "grid_template_columns": null,
            "grid_template_rows": null,
            "height": null,
            "justify_content": null,
            "justify_items": null,
            "left": null,
            "margin": null,
            "max_height": null,
            "max_width": null,
            "min_height": null,
            "min_width": null,
            "object_fit": null,
            "object_position": null,
            "order": null,
            "overflow": null,
            "overflow_x": null,
            "overflow_y": null,
            "padding": null,
            "right": null,
            "top": null,
            "visibility": null,
            "width": "100%"
          }
        },
        "b6414e82a7074852a158fc8004324b1b": {
          "model_module": "@jupyter-widgets/base",
          "model_name": "LayoutModel",
          "model_module_version": "1.2.0",
          "state": {
            "_model_module": "@jupyter-widgets/base",
            "_model_module_version": "1.2.0",
            "_model_name": "LayoutModel",
            "_view_count": null,
            "_view_module": "@jupyter-widgets/base",
            "_view_module_version": "1.2.0",
            "_view_name": "LayoutView",
            "align_content": null,
            "align_items": null,
            "align_self": null,
            "border": null,
            "bottom": null,
            "display": null,
            "flex": null,
            "flex_flow": null,
            "grid_area": null,
            "grid_auto_columns": null,
            "grid_auto_flow": null,
            "grid_auto_rows": null,
            "grid_column": null,
            "grid_gap": null,
            "grid_row": null,
            "grid_template_areas": null,
            "grid_template_columns": null,
            "grid_template_rows": null,
            "height": null,
            "justify_content": null,
            "justify_items": null,
            "left": null,
            "margin": null,
            "max_height": null,
            "max_width": null,
            "min_height": null,
            "min_width": null,
            "object_fit": null,
            "object_position": null,
            "order": null,
            "overflow": null,
            "overflow_x": null,
            "overflow_y": null,
            "padding": null,
            "right": null,
            "top": null,
            "visibility": null,
            "width": null
          }
        },
        "5e2e63dd76664693b65c1f8a820e4414": {
          "model_module": "@jupyter-widgets/controls",
          "model_name": "DescriptionStyleModel",
          "model_module_version": "1.5.0",
          "state": {
            "_model_module": "@jupyter-widgets/controls",
            "_model_module_version": "1.5.0",
            "_model_name": "DescriptionStyleModel",
            "_view_count": null,
            "_view_module": "@jupyter-widgets/base",
            "_view_module_version": "1.2.0",
            "_view_name": "StyleView",
            "description_width": ""
          }
        },
        "81a98243345141c1b1fd353345f5a6b1": {
          "model_module": "@jupyter-widgets/base",
          "model_name": "LayoutModel",
          "model_module_version": "1.2.0",
          "state": {
            "_model_module": "@jupyter-widgets/base",
            "_model_module_version": "1.2.0",
            "_model_name": "LayoutModel",
            "_view_count": null,
            "_view_module": "@jupyter-widgets/base",
            "_view_module_version": "1.2.0",
            "_view_name": "LayoutView",
            "align_content": null,
            "align_items": null,
            "align_self": null,
            "border": null,
            "bottom": null,
            "display": null,
            "flex": "2",
            "flex_flow": null,
            "grid_area": null,
            "grid_auto_columns": null,
            "grid_auto_flow": null,
            "grid_auto_rows": null,
            "grid_column": null,
            "grid_gap": null,
            "grid_row": null,
            "grid_template_areas": null,
            "grid_template_columns": null,
            "grid_template_rows": null,
            "height": null,
            "justify_content": null,
            "justify_items": null,
            "left": null,
            "margin": null,
            "max_height": null,
            "max_width": null,
            "min_height": null,
            "min_width": null,
            "object_fit": null,
            "object_position": null,
            "order": null,
            "overflow": null,
            "overflow_x": null,
            "overflow_y": null,
            "padding": null,
            "right": null,
            "top": null,
            "visibility": null,
            "width": null
          }
        },
        "1266207a51624b6ab4ab787e2f2cecdd": {
          "model_module": "@jupyter-widgets/controls",
          "model_name": "ProgressStyleModel",
          "model_module_version": "1.5.0",
          "state": {
            "_model_module": "@jupyter-widgets/controls",
            "_model_module_version": "1.5.0",
            "_model_name": "ProgressStyleModel",
            "_view_count": null,
            "_view_module": "@jupyter-widgets/base",
            "_view_module_version": "1.2.0",
            "_view_name": "StyleView",
            "bar_color": null,
            "description_width": ""
          }
        },
        "3f1f834a466e400eb10482c95c1664b0": {
          "model_module": "@jupyter-widgets/base",
          "model_name": "LayoutModel",
          "model_module_version": "1.2.0",
          "state": {
            "_model_module": "@jupyter-widgets/base",
            "_model_module_version": "1.2.0",
            "_model_name": "LayoutModel",
            "_view_count": null,
            "_view_module": "@jupyter-widgets/base",
            "_view_module_version": "1.2.0",
            "_view_name": "LayoutView",
            "align_content": null,
            "align_items": null,
            "align_self": null,
            "border": null,
            "bottom": null,
            "display": null,
            "flex": null,
            "flex_flow": null,
            "grid_area": null,
            "grid_auto_columns": null,
            "grid_auto_flow": null,
            "grid_auto_rows": null,
            "grid_column": null,
            "grid_gap": null,
            "grid_row": null,
            "grid_template_areas": null,
            "grid_template_columns": null,
            "grid_template_rows": null,
            "height": null,
            "justify_content": null,
            "justify_items": null,
            "left": null,
            "margin": null,
            "max_height": null,
            "max_width": null,
            "min_height": null,
            "min_width": null,
            "object_fit": null,
            "object_position": null,
            "order": null,
            "overflow": null,
            "overflow_x": null,
            "overflow_y": null,
            "padding": null,
            "right": null,
            "top": null,
            "visibility": null,
            "width": null
          }
        },
        "798514f9671343eaa958048dc4043ec3": {
          "model_module": "@jupyter-widgets/controls",
          "model_name": "DescriptionStyleModel",
          "model_module_version": "1.5.0",
          "state": {
            "_model_module": "@jupyter-widgets/controls",
            "_model_module_version": "1.5.0",
            "_model_name": "DescriptionStyleModel",
            "_view_count": null,
            "_view_module": "@jupyter-widgets/base",
            "_view_module_version": "1.2.0",
            "_view_name": "StyleView",
            "description_width": ""
          }
        },
        "7f7db8562a9646feb033e45f99adefcb": {
          "model_module": "@jupyter-widgets/controls",
          "model_name": "HBoxModel",
          "model_module_version": "1.5.0",
          "state": {
            "_dom_classes": [],
            "_model_module": "@jupyter-widgets/controls",
            "_model_module_version": "1.5.0",
            "_model_name": "HBoxModel",
            "_view_count": null,
            "_view_module": "@jupyter-widgets/controls",
            "_view_module_version": "1.5.0",
            "_view_name": "HBoxView",
            "box_style": "",
            "children": [
              "IPY_MODEL_2c9cb1569a5744eab7ad8a728ffba670",
              "IPY_MODEL_acba50cd81184f1d92e07f91a0c1b60f",
              "IPY_MODEL_44db8799946b400c95b57a71c6a3ca96"
            ],
            "layout": "IPY_MODEL_6dea3045f3684b2b86e942b710fa0385"
          }
        },
        "2c9cb1569a5744eab7ad8a728ffba670": {
          "model_module": "@jupyter-widgets/controls",
          "model_name": "HTMLModel",
          "model_module_version": "1.5.0",
          "state": {
            "_dom_classes": [],
            "_model_module": "@jupyter-widgets/controls",
            "_model_module_version": "1.5.0",
            "_model_name": "HTMLModel",
            "_view_count": null,
            "_view_module": "@jupyter-widgets/controls",
            "_view_module_version": "1.5.0",
            "_view_name": "HTMLView",
            "description": "",
            "description_tooltip": null,
            "layout": "IPY_MODEL_646bbf483c72409491272882ed568834",
            "placeholder": "​",
            "style": "IPY_MODEL_772b371e805d4bc99d930f8801f59da3",
            "value": "235/235"
          }
        },
        "acba50cd81184f1d92e07f91a0c1b60f": {
          "model_module": "@jupyter-widgets/controls",
          "model_name": "FloatProgressModel",
          "model_module_version": "1.5.0",
          "state": {
            "_dom_classes": [],
            "_model_module": "@jupyter-widgets/controls",
            "_model_module_version": "1.5.0",
            "_model_name": "FloatProgressModel",
            "_view_count": null,
            "_view_module": "@jupyter-widgets/controls",
            "_view_module_version": "1.5.0",
            "_view_name": "ProgressView",
            "bar_style": "success",
            "description": "",
            "description_tooltip": null,
            "layout": "IPY_MODEL_8859aa8e91e1402e8eaa5ae0991aa3e9",
            "max": 235,
            "min": 0,
            "orientation": "horizontal",
            "style": "IPY_MODEL_15f6be5203cd46cfbddde6407bcc4328",
            "value": 235
          }
        },
        "44db8799946b400c95b57a71c6a3ca96": {
          "model_module": "@jupyter-widgets/controls",
          "model_name": "HTMLModel",
          "model_module_version": "1.5.0",
          "state": {
            "_dom_classes": [],
            "_model_module": "@jupyter-widgets/controls",
            "_model_module_version": "1.5.0",
            "_model_name": "HTMLModel",
            "_view_count": null,
            "_view_module": "@jupyter-widgets/controls",
            "_view_module_version": "1.5.0",
            "_view_name": "HTMLView",
            "description": "",
            "description_tooltip": null,
            "layout": "IPY_MODEL_20d40e93a8414b6987fe5e6d1afc6fd0",
            "placeholder": "​",
            "style": "IPY_MODEL_f546f07e753a47ac9bf5ad74dece8601",
            "value": " ETA: 00:00s - loss: 1.4996 - accuracy: 0.4840 - val_loss: 1.4372 - val_accuracy: 0.5147"
          }
        },
        "6dea3045f3684b2b86e942b710fa0385": {
          "model_module": "@jupyter-widgets/base",
          "model_name": "LayoutModel",
          "model_module_version": "1.2.0",
          "state": {
            "_model_module": "@jupyter-widgets/base",
            "_model_module_version": "1.2.0",
            "_model_name": "LayoutModel",
            "_view_count": null,
            "_view_module": "@jupyter-widgets/base",
            "_view_module_version": "1.2.0",
            "_view_name": "LayoutView",
            "align_content": null,
            "align_items": null,
            "align_self": null,
            "border": null,
            "bottom": null,
            "display": "inline-flex",
            "flex": null,
            "flex_flow": "row wrap",
            "grid_area": null,
            "grid_auto_columns": null,
            "grid_auto_flow": null,
            "grid_auto_rows": null,
            "grid_column": null,
            "grid_gap": null,
            "grid_row": null,
            "grid_template_areas": null,
            "grid_template_columns": null,
            "grid_template_rows": null,
            "height": null,
            "justify_content": null,
            "justify_items": null,
            "left": null,
            "margin": null,
            "max_height": null,
            "max_width": null,
            "min_height": null,
            "min_width": null,
            "object_fit": null,
            "object_position": null,
            "order": null,
            "overflow": null,
            "overflow_x": null,
            "overflow_y": null,
            "padding": null,
            "right": null,
            "top": null,
            "visibility": null,
            "width": "100%"
          }
        },
        "646bbf483c72409491272882ed568834": {
          "model_module": "@jupyter-widgets/base",
          "model_name": "LayoutModel",
          "model_module_version": "1.2.0",
          "state": {
            "_model_module": "@jupyter-widgets/base",
            "_model_module_version": "1.2.0",
            "_model_name": "LayoutModel",
            "_view_count": null,
            "_view_module": "@jupyter-widgets/base",
            "_view_module_version": "1.2.0",
            "_view_name": "LayoutView",
            "align_content": null,
            "align_items": null,
            "align_self": null,
            "border": null,
            "bottom": null,
            "display": null,
            "flex": null,
            "flex_flow": null,
            "grid_area": null,
            "grid_auto_columns": null,
            "grid_auto_flow": null,
            "grid_auto_rows": null,
            "grid_column": null,
            "grid_gap": null,
            "grid_row": null,
            "grid_template_areas": null,
            "grid_template_columns": null,
            "grid_template_rows": null,
            "height": null,
            "justify_content": null,
            "justify_items": null,
            "left": null,
            "margin": null,
            "max_height": null,
            "max_width": null,
            "min_height": null,
            "min_width": null,
            "object_fit": null,
            "object_position": null,
            "order": null,
            "overflow": null,
            "overflow_x": null,
            "overflow_y": null,
            "padding": null,
            "right": null,
            "top": null,
            "visibility": null,
            "width": null
          }
        },
        "772b371e805d4bc99d930f8801f59da3": {
          "model_module": "@jupyter-widgets/controls",
          "model_name": "DescriptionStyleModel",
          "model_module_version": "1.5.0",
          "state": {
            "_model_module": "@jupyter-widgets/controls",
            "_model_module_version": "1.5.0",
            "_model_name": "DescriptionStyleModel",
            "_view_count": null,
            "_view_module": "@jupyter-widgets/base",
            "_view_module_version": "1.2.0",
            "_view_name": "StyleView",
            "description_width": ""
          }
        },
        "8859aa8e91e1402e8eaa5ae0991aa3e9": {
          "model_module": "@jupyter-widgets/base",
          "model_name": "LayoutModel",
          "model_module_version": "1.2.0",
          "state": {
            "_model_module": "@jupyter-widgets/base",
            "_model_module_version": "1.2.0",
            "_model_name": "LayoutModel",
            "_view_count": null,
            "_view_module": "@jupyter-widgets/base",
            "_view_module_version": "1.2.0",
            "_view_name": "LayoutView",
            "align_content": null,
            "align_items": null,
            "align_self": null,
            "border": null,
            "bottom": null,
            "display": null,
            "flex": "2",
            "flex_flow": null,
            "grid_area": null,
            "grid_auto_columns": null,
            "grid_auto_flow": null,
            "grid_auto_rows": null,
            "grid_column": null,
            "grid_gap": null,
            "grid_row": null,
            "grid_template_areas": null,
            "grid_template_columns": null,
            "grid_template_rows": null,
            "height": null,
            "justify_content": null,
            "justify_items": null,
            "left": null,
            "margin": null,
            "max_height": null,
            "max_width": null,
            "min_height": null,
            "min_width": null,
            "object_fit": null,
            "object_position": null,
            "order": null,
            "overflow": null,
            "overflow_x": null,
            "overflow_y": null,
            "padding": null,
            "right": null,
            "top": null,
            "visibility": null,
            "width": null
          }
        },
        "15f6be5203cd46cfbddde6407bcc4328": {
          "model_module": "@jupyter-widgets/controls",
          "model_name": "ProgressStyleModel",
          "model_module_version": "1.5.0",
          "state": {
            "_model_module": "@jupyter-widgets/controls",
            "_model_module_version": "1.5.0",
            "_model_name": "ProgressStyleModel",
            "_view_count": null,
            "_view_module": "@jupyter-widgets/base",
            "_view_module_version": "1.2.0",
            "_view_name": "StyleView",
            "bar_color": null,
            "description_width": ""
          }
        },
        "20d40e93a8414b6987fe5e6d1afc6fd0": {
          "model_module": "@jupyter-widgets/base",
          "model_name": "LayoutModel",
          "model_module_version": "1.2.0",
          "state": {
            "_model_module": "@jupyter-widgets/base",
            "_model_module_version": "1.2.0",
            "_model_name": "LayoutModel",
            "_view_count": null,
            "_view_module": "@jupyter-widgets/base",
            "_view_module_version": "1.2.0",
            "_view_name": "LayoutView",
            "align_content": null,
            "align_items": null,
            "align_self": null,
            "border": null,
            "bottom": null,
            "display": null,
            "flex": null,
            "flex_flow": null,
            "grid_area": null,
            "grid_auto_columns": null,
            "grid_auto_flow": null,
            "grid_auto_rows": null,
            "grid_column": null,
            "grid_gap": null,
            "grid_row": null,
            "grid_template_areas": null,
            "grid_template_columns": null,
            "grid_template_rows": null,
            "height": null,
            "justify_content": null,
            "justify_items": null,
            "left": null,
            "margin": null,
            "max_height": null,
            "max_width": null,
            "min_height": null,
            "min_width": null,
            "object_fit": null,
            "object_position": null,
            "order": null,
            "overflow": null,
            "overflow_x": null,
            "overflow_y": null,
            "padding": null,
            "right": null,
            "top": null,
            "visibility": null,
            "width": null
          }
        },
        "f546f07e753a47ac9bf5ad74dece8601": {
          "model_module": "@jupyter-widgets/controls",
          "model_name": "DescriptionStyleModel",
          "model_module_version": "1.5.0",
          "state": {
            "_model_module": "@jupyter-widgets/controls",
            "_model_module_version": "1.5.0",
            "_model_name": "DescriptionStyleModel",
            "_view_count": null,
            "_view_module": "@jupyter-widgets/base",
            "_view_module_version": "1.2.0",
            "_view_name": "StyleView",
            "description_width": ""
          }
        },
        "550554080d1140398b326e51e0632ee0": {
          "model_module": "@jupyter-widgets/controls",
          "model_name": "HBoxModel",
          "model_module_version": "1.5.0",
          "state": {
            "_dom_classes": [],
            "_model_module": "@jupyter-widgets/controls",
            "_model_module_version": "1.5.0",
            "_model_name": "HBoxModel",
            "_view_count": null,
            "_view_module": "@jupyter-widgets/controls",
            "_view_module_version": "1.5.0",
            "_view_name": "HBoxView",
            "box_style": "",
            "children": [
              "IPY_MODEL_96599da801644eb0b2f14991e3594b00",
              "IPY_MODEL_1bff5c00570647739713acef0321ed31",
              "IPY_MODEL_1e8a8d81cde946389193b093525e5a9f"
            ],
            "layout": "IPY_MODEL_43ec9a22a0c04f94b2b530c6ebeb049f"
          }
        },
        "96599da801644eb0b2f14991e3594b00": {
          "model_module": "@jupyter-widgets/controls",
          "model_name": "HTMLModel",
          "model_module_version": "1.5.0",
          "state": {
            "_dom_classes": [],
            "_model_module": "@jupyter-widgets/controls",
            "_model_module_version": "1.5.0",
            "_model_name": "HTMLModel",
            "_view_count": null,
            "_view_module": "@jupyter-widgets/controls",
            "_view_module_version": "1.5.0",
            "_view_name": "HTMLView",
            "description": "",
            "description_tooltip": null,
            "layout": "IPY_MODEL_0565c6f69d194e61acb2cf96a335c266",
            "placeholder": "​",
            "style": "IPY_MODEL_d5c17c4b0f614d23884c84969507df34",
            "value": "235/235"
          }
        },
        "1bff5c00570647739713acef0321ed31": {
          "model_module": "@jupyter-widgets/controls",
          "model_name": "FloatProgressModel",
          "model_module_version": "1.5.0",
          "state": {
            "_dom_classes": [],
            "_model_module": "@jupyter-widgets/controls",
            "_model_module_version": "1.5.0",
            "_model_name": "FloatProgressModel",
            "_view_count": null,
            "_view_module": "@jupyter-widgets/controls",
            "_view_module_version": "1.5.0",
            "_view_name": "ProgressView",
            "bar_style": "success",
            "description": "",
            "description_tooltip": null,
            "layout": "IPY_MODEL_3e33f77857dd45e7bb2e7edd1b4d010c",
            "max": 235,
            "min": 0,
            "orientation": "horizontal",
            "style": "IPY_MODEL_2fe7c5e6e496424ba3229e04de3eddd9",
            "value": 235
          }
        },
        "1e8a8d81cde946389193b093525e5a9f": {
          "model_module": "@jupyter-widgets/controls",
          "model_name": "HTMLModel",
          "model_module_version": "1.5.0",
          "state": {
            "_dom_classes": [],
            "_model_module": "@jupyter-widgets/controls",
            "_model_module_version": "1.5.0",
            "_model_name": "HTMLModel",
            "_view_count": null,
            "_view_module": "@jupyter-widgets/controls",
            "_view_module_version": "1.5.0",
            "_view_name": "HTMLView",
            "description": "",
            "description_tooltip": null,
            "layout": "IPY_MODEL_11c7b44ec7d5440c9b975efb47d3c167",
            "placeholder": "​",
            "style": "IPY_MODEL_559a27984f0b41749cba70b2a5b205fe",
            "value": " ETA: 00:00s - loss: 1.4024 - accuracy: 0.5147 - val_loss: 1.3316 - val_accuracy: 0.5466"
          }
        },
        "43ec9a22a0c04f94b2b530c6ebeb049f": {
          "model_module": "@jupyter-widgets/base",
          "model_name": "LayoutModel",
          "model_module_version": "1.2.0",
          "state": {
            "_model_module": "@jupyter-widgets/base",
            "_model_module_version": "1.2.0",
            "_model_name": "LayoutModel",
            "_view_count": null,
            "_view_module": "@jupyter-widgets/base",
            "_view_module_version": "1.2.0",
            "_view_name": "LayoutView",
            "align_content": null,
            "align_items": null,
            "align_self": null,
            "border": null,
            "bottom": null,
            "display": "inline-flex",
            "flex": null,
            "flex_flow": "row wrap",
            "grid_area": null,
            "grid_auto_columns": null,
            "grid_auto_flow": null,
            "grid_auto_rows": null,
            "grid_column": null,
            "grid_gap": null,
            "grid_row": null,
            "grid_template_areas": null,
            "grid_template_columns": null,
            "grid_template_rows": null,
            "height": null,
            "justify_content": null,
            "justify_items": null,
            "left": null,
            "margin": null,
            "max_height": null,
            "max_width": null,
            "min_height": null,
            "min_width": null,
            "object_fit": null,
            "object_position": null,
            "order": null,
            "overflow": null,
            "overflow_x": null,
            "overflow_y": null,
            "padding": null,
            "right": null,
            "top": null,
            "visibility": null,
            "width": "100%"
          }
        },
        "0565c6f69d194e61acb2cf96a335c266": {
          "model_module": "@jupyter-widgets/base",
          "model_name": "LayoutModel",
          "model_module_version": "1.2.0",
          "state": {
            "_model_module": "@jupyter-widgets/base",
            "_model_module_version": "1.2.0",
            "_model_name": "LayoutModel",
            "_view_count": null,
            "_view_module": "@jupyter-widgets/base",
            "_view_module_version": "1.2.0",
            "_view_name": "LayoutView",
            "align_content": null,
            "align_items": null,
            "align_self": null,
            "border": null,
            "bottom": null,
            "display": null,
            "flex": null,
            "flex_flow": null,
            "grid_area": null,
            "grid_auto_columns": null,
            "grid_auto_flow": null,
            "grid_auto_rows": null,
            "grid_column": null,
            "grid_gap": null,
            "grid_row": null,
            "grid_template_areas": null,
            "grid_template_columns": null,
            "grid_template_rows": null,
            "height": null,
            "justify_content": null,
            "justify_items": null,
            "left": null,
            "margin": null,
            "max_height": null,
            "max_width": null,
            "min_height": null,
            "min_width": null,
            "object_fit": null,
            "object_position": null,
            "order": null,
            "overflow": null,
            "overflow_x": null,
            "overflow_y": null,
            "padding": null,
            "right": null,
            "top": null,
            "visibility": null,
            "width": null
          }
        },
        "d5c17c4b0f614d23884c84969507df34": {
          "model_module": "@jupyter-widgets/controls",
          "model_name": "DescriptionStyleModel",
          "model_module_version": "1.5.0",
          "state": {
            "_model_module": "@jupyter-widgets/controls",
            "_model_module_version": "1.5.0",
            "_model_name": "DescriptionStyleModel",
            "_view_count": null,
            "_view_module": "@jupyter-widgets/base",
            "_view_module_version": "1.2.0",
            "_view_name": "StyleView",
            "description_width": ""
          }
        },
        "3e33f77857dd45e7bb2e7edd1b4d010c": {
          "model_module": "@jupyter-widgets/base",
          "model_name": "LayoutModel",
          "model_module_version": "1.2.0",
          "state": {
            "_model_module": "@jupyter-widgets/base",
            "_model_module_version": "1.2.0",
            "_model_name": "LayoutModel",
            "_view_count": null,
            "_view_module": "@jupyter-widgets/base",
            "_view_module_version": "1.2.0",
            "_view_name": "LayoutView",
            "align_content": null,
            "align_items": null,
            "align_self": null,
            "border": null,
            "bottom": null,
            "display": null,
            "flex": "2",
            "flex_flow": null,
            "grid_area": null,
            "grid_auto_columns": null,
            "grid_auto_flow": null,
            "grid_auto_rows": null,
            "grid_column": null,
            "grid_gap": null,
            "grid_row": null,
            "grid_template_areas": null,
            "grid_template_columns": null,
            "grid_template_rows": null,
            "height": null,
            "justify_content": null,
            "justify_items": null,
            "left": null,
            "margin": null,
            "max_height": null,
            "max_width": null,
            "min_height": null,
            "min_width": null,
            "object_fit": null,
            "object_position": null,
            "order": null,
            "overflow": null,
            "overflow_x": null,
            "overflow_y": null,
            "padding": null,
            "right": null,
            "top": null,
            "visibility": null,
            "width": null
          }
        },
        "2fe7c5e6e496424ba3229e04de3eddd9": {
          "model_module": "@jupyter-widgets/controls",
          "model_name": "ProgressStyleModel",
          "model_module_version": "1.5.0",
          "state": {
            "_model_module": "@jupyter-widgets/controls",
            "_model_module_version": "1.5.0",
            "_model_name": "ProgressStyleModel",
            "_view_count": null,
            "_view_module": "@jupyter-widgets/base",
            "_view_module_version": "1.2.0",
            "_view_name": "StyleView",
            "bar_color": null,
            "description_width": ""
          }
        },
        "11c7b44ec7d5440c9b975efb47d3c167": {
          "model_module": "@jupyter-widgets/base",
          "model_name": "LayoutModel",
          "model_module_version": "1.2.0",
          "state": {
            "_model_module": "@jupyter-widgets/base",
            "_model_module_version": "1.2.0",
            "_model_name": "LayoutModel",
            "_view_count": null,
            "_view_module": "@jupyter-widgets/base",
            "_view_module_version": "1.2.0",
            "_view_name": "LayoutView",
            "align_content": null,
            "align_items": null,
            "align_self": null,
            "border": null,
            "bottom": null,
            "display": null,
            "flex": null,
            "flex_flow": null,
            "grid_area": null,
            "grid_auto_columns": null,
            "grid_auto_flow": null,
            "grid_auto_rows": null,
            "grid_column": null,
            "grid_gap": null,
            "grid_row": null,
            "grid_template_areas": null,
            "grid_template_columns": null,
            "grid_template_rows": null,
            "height": null,
            "justify_content": null,
            "justify_items": null,
            "left": null,
            "margin": null,
            "max_height": null,
            "max_width": null,
            "min_height": null,
            "min_width": null,
            "object_fit": null,
            "object_position": null,
            "order": null,
            "overflow": null,
            "overflow_x": null,
            "overflow_y": null,
            "padding": null,
            "right": null,
            "top": null,
            "visibility": null,
            "width": null
          }
        },
        "559a27984f0b41749cba70b2a5b205fe": {
          "model_module": "@jupyter-widgets/controls",
          "model_name": "DescriptionStyleModel",
          "model_module_version": "1.5.0",
          "state": {
            "_model_module": "@jupyter-widgets/controls",
            "_model_module_version": "1.5.0",
            "_model_name": "DescriptionStyleModel",
            "_view_count": null,
            "_view_module": "@jupyter-widgets/base",
            "_view_module_version": "1.2.0",
            "_view_name": "StyleView",
            "description_width": ""
          }
        },
        "910ac4f8912d43eca1a41e3def77d949": {
          "model_module": "@jupyter-widgets/controls",
          "model_name": "HBoxModel",
          "model_module_version": "1.5.0",
          "state": {
            "_dom_classes": [],
            "_model_module": "@jupyter-widgets/controls",
            "_model_module_version": "1.5.0",
            "_model_name": "HBoxModel",
            "_view_count": null,
            "_view_module": "@jupyter-widgets/controls",
            "_view_module_version": "1.5.0",
            "_view_name": "HBoxView",
            "box_style": "",
            "children": [
              "IPY_MODEL_b31e6d9c9bb146d79063e842bd8178df",
              "IPY_MODEL_4ee3b7f86979499db067f6d9cc7efc65",
              "IPY_MODEL_7067c06919c04891b589304a5dc3e616"
            ],
            "layout": "IPY_MODEL_913191ff8283492485f0e5ecd26814f8"
          }
        },
        "b31e6d9c9bb146d79063e842bd8178df": {
          "model_module": "@jupyter-widgets/controls",
          "model_name": "HTMLModel",
          "model_module_version": "1.5.0",
          "state": {
            "_dom_classes": [],
            "_model_module": "@jupyter-widgets/controls",
            "_model_module_version": "1.5.0",
            "_model_name": "HTMLModel",
            "_view_count": null,
            "_view_module": "@jupyter-widgets/controls",
            "_view_module_version": "1.5.0",
            "_view_name": "HTMLView",
            "description": "",
            "description_tooltip": null,
            "layout": "IPY_MODEL_f0046cae82d34754ac7bef385c71e1ff",
            "placeholder": "​",
            "style": "IPY_MODEL_9cf43423732349438fc04bc2b9e4432a",
            "value": "235/235"
          }
        },
        "4ee3b7f86979499db067f6d9cc7efc65": {
          "model_module": "@jupyter-widgets/controls",
          "model_name": "FloatProgressModel",
          "model_module_version": "1.5.0",
          "state": {
            "_dom_classes": [],
            "_model_module": "@jupyter-widgets/controls",
            "_model_module_version": "1.5.0",
            "_model_name": "FloatProgressModel",
            "_view_count": null,
            "_view_module": "@jupyter-widgets/controls",
            "_view_module_version": "1.5.0",
            "_view_name": "ProgressView",
            "bar_style": "success",
            "description": "",
            "description_tooltip": null,
            "layout": "IPY_MODEL_ebf7cc9260be4015ae0e4643eda4d806",
            "max": 235,
            "min": 0,
            "orientation": "horizontal",
            "style": "IPY_MODEL_622ca28f7f1e4ee59d03693b0d3f3d37",
            "value": 235
          }
        },
        "7067c06919c04891b589304a5dc3e616": {
          "model_module": "@jupyter-widgets/controls",
          "model_name": "HTMLModel",
          "model_module_version": "1.5.0",
          "state": {
            "_dom_classes": [],
            "_model_module": "@jupyter-widgets/controls",
            "_model_module_version": "1.5.0",
            "_model_name": "HTMLModel",
            "_view_count": null,
            "_view_module": "@jupyter-widgets/controls",
            "_view_module_version": "1.5.0",
            "_view_name": "HTMLView",
            "description": "",
            "description_tooltip": null,
            "layout": "IPY_MODEL_66e0476d6a5d480eb0eb68236c3981ca",
            "placeholder": "​",
            "style": "IPY_MODEL_7c775ac51cf14dc296133226c34204af",
            "value": " ETA: 00:00s - loss: 1.3459 - accuracy: 0.5334 - val_loss: 1.3234 - val_accuracy: 0.5445"
          }
        },
        "913191ff8283492485f0e5ecd26814f8": {
          "model_module": "@jupyter-widgets/base",
          "model_name": "LayoutModel",
          "model_module_version": "1.2.0",
          "state": {
            "_model_module": "@jupyter-widgets/base",
            "_model_module_version": "1.2.0",
            "_model_name": "LayoutModel",
            "_view_count": null,
            "_view_module": "@jupyter-widgets/base",
            "_view_module_version": "1.2.0",
            "_view_name": "LayoutView",
            "align_content": null,
            "align_items": null,
            "align_self": null,
            "border": null,
            "bottom": null,
            "display": "inline-flex",
            "flex": null,
            "flex_flow": "row wrap",
            "grid_area": null,
            "grid_auto_columns": null,
            "grid_auto_flow": null,
            "grid_auto_rows": null,
            "grid_column": null,
            "grid_gap": null,
            "grid_row": null,
            "grid_template_areas": null,
            "grid_template_columns": null,
            "grid_template_rows": null,
            "height": null,
            "justify_content": null,
            "justify_items": null,
            "left": null,
            "margin": null,
            "max_height": null,
            "max_width": null,
            "min_height": null,
            "min_width": null,
            "object_fit": null,
            "object_position": null,
            "order": null,
            "overflow": null,
            "overflow_x": null,
            "overflow_y": null,
            "padding": null,
            "right": null,
            "top": null,
            "visibility": null,
            "width": "100%"
          }
        },
        "f0046cae82d34754ac7bef385c71e1ff": {
          "model_module": "@jupyter-widgets/base",
          "model_name": "LayoutModel",
          "model_module_version": "1.2.0",
          "state": {
            "_model_module": "@jupyter-widgets/base",
            "_model_module_version": "1.2.0",
            "_model_name": "LayoutModel",
            "_view_count": null,
            "_view_module": "@jupyter-widgets/base",
            "_view_module_version": "1.2.0",
            "_view_name": "LayoutView",
            "align_content": null,
            "align_items": null,
            "align_self": null,
            "border": null,
            "bottom": null,
            "display": null,
            "flex": null,
            "flex_flow": null,
            "grid_area": null,
            "grid_auto_columns": null,
            "grid_auto_flow": null,
            "grid_auto_rows": null,
            "grid_column": null,
            "grid_gap": null,
            "grid_row": null,
            "grid_template_areas": null,
            "grid_template_columns": null,
            "grid_template_rows": null,
            "height": null,
            "justify_content": null,
            "justify_items": null,
            "left": null,
            "margin": null,
            "max_height": null,
            "max_width": null,
            "min_height": null,
            "min_width": null,
            "object_fit": null,
            "object_position": null,
            "order": null,
            "overflow": null,
            "overflow_x": null,
            "overflow_y": null,
            "padding": null,
            "right": null,
            "top": null,
            "visibility": null,
            "width": null
          }
        },
        "9cf43423732349438fc04bc2b9e4432a": {
          "model_module": "@jupyter-widgets/controls",
          "model_name": "DescriptionStyleModel",
          "model_module_version": "1.5.0",
          "state": {
            "_model_module": "@jupyter-widgets/controls",
            "_model_module_version": "1.5.0",
            "_model_name": "DescriptionStyleModel",
            "_view_count": null,
            "_view_module": "@jupyter-widgets/base",
            "_view_module_version": "1.2.0",
            "_view_name": "StyleView",
            "description_width": ""
          }
        },
        "ebf7cc9260be4015ae0e4643eda4d806": {
          "model_module": "@jupyter-widgets/base",
          "model_name": "LayoutModel",
          "model_module_version": "1.2.0",
          "state": {
            "_model_module": "@jupyter-widgets/base",
            "_model_module_version": "1.2.0",
            "_model_name": "LayoutModel",
            "_view_count": null,
            "_view_module": "@jupyter-widgets/base",
            "_view_module_version": "1.2.0",
            "_view_name": "LayoutView",
            "align_content": null,
            "align_items": null,
            "align_self": null,
            "border": null,
            "bottom": null,
            "display": null,
            "flex": "2",
            "flex_flow": null,
            "grid_area": null,
            "grid_auto_columns": null,
            "grid_auto_flow": null,
            "grid_auto_rows": null,
            "grid_column": null,
            "grid_gap": null,
            "grid_row": null,
            "grid_template_areas": null,
            "grid_template_columns": null,
            "grid_template_rows": null,
            "height": null,
            "justify_content": null,
            "justify_items": null,
            "left": null,
            "margin": null,
            "max_height": null,
            "max_width": null,
            "min_height": null,
            "min_width": null,
            "object_fit": null,
            "object_position": null,
            "order": null,
            "overflow": null,
            "overflow_x": null,
            "overflow_y": null,
            "padding": null,
            "right": null,
            "top": null,
            "visibility": null,
            "width": null
          }
        },
        "622ca28f7f1e4ee59d03693b0d3f3d37": {
          "model_module": "@jupyter-widgets/controls",
          "model_name": "ProgressStyleModel",
          "model_module_version": "1.5.0",
          "state": {
            "_model_module": "@jupyter-widgets/controls",
            "_model_module_version": "1.5.0",
            "_model_name": "ProgressStyleModel",
            "_view_count": null,
            "_view_module": "@jupyter-widgets/base",
            "_view_module_version": "1.2.0",
            "_view_name": "StyleView",
            "bar_color": null,
            "description_width": ""
          }
        },
        "66e0476d6a5d480eb0eb68236c3981ca": {
          "model_module": "@jupyter-widgets/base",
          "model_name": "LayoutModel",
          "model_module_version": "1.2.0",
          "state": {
            "_model_module": "@jupyter-widgets/base",
            "_model_module_version": "1.2.0",
            "_model_name": "LayoutModel",
            "_view_count": null,
            "_view_module": "@jupyter-widgets/base",
            "_view_module_version": "1.2.0",
            "_view_name": "LayoutView",
            "align_content": null,
            "align_items": null,
            "align_self": null,
            "border": null,
            "bottom": null,
            "display": null,
            "flex": null,
            "flex_flow": null,
            "grid_area": null,
            "grid_auto_columns": null,
            "grid_auto_flow": null,
            "grid_auto_rows": null,
            "grid_column": null,
            "grid_gap": null,
            "grid_row": null,
            "grid_template_areas": null,
            "grid_template_columns": null,
            "grid_template_rows": null,
            "height": null,
            "justify_content": null,
            "justify_items": null,
            "left": null,
            "margin": null,
            "max_height": null,
            "max_width": null,
            "min_height": null,
            "min_width": null,
            "object_fit": null,
            "object_position": null,
            "order": null,
            "overflow": null,
            "overflow_x": null,
            "overflow_y": null,
            "padding": null,
            "right": null,
            "top": null,
            "visibility": null,
            "width": null
          }
        },
        "7c775ac51cf14dc296133226c34204af": {
          "model_module": "@jupyter-widgets/controls",
          "model_name": "DescriptionStyleModel",
          "model_module_version": "1.5.0",
          "state": {
            "_model_module": "@jupyter-widgets/controls",
            "_model_module_version": "1.5.0",
            "_model_name": "DescriptionStyleModel",
            "_view_count": null,
            "_view_module": "@jupyter-widgets/base",
            "_view_module_version": "1.2.0",
            "_view_name": "StyleView",
            "description_width": ""
          }
        },
        "c9ef22f44825491393e87d1d34fa63f8": {
          "model_module": "@jupyter-widgets/controls",
          "model_name": "HBoxModel",
          "model_module_version": "1.5.0",
          "state": {
            "_dom_classes": [],
            "_model_module": "@jupyter-widgets/controls",
            "_model_module_version": "1.5.0",
            "_model_name": "HBoxModel",
            "_view_count": null,
            "_view_module": "@jupyter-widgets/controls",
            "_view_module_version": "1.5.0",
            "_view_name": "HBoxView",
            "box_style": "",
            "children": [
              "IPY_MODEL_c5eeb6bd3c6841a5a3c71c8279ee7b4e",
              "IPY_MODEL_2fbcab1241314ab79aa454dd57790868",
              "IPY_MODEL_c33cf350f1154e3292c42da58e780e93"
            ],
            "layout": "IPY_MODEL_e54c534c1c1f453f8f7b07f3bca677e8"
          }
        },
        "c5eeb6bd3c6841a5a3c71c8279ee7b4e": {
          "model_module": "@jupyter-widgets/controls",
          "model_name": "HTMLModel",
          "model_module_version": "1.5.0",
          "state": {
            "_dom_classes": [],
            "_model_module": "@jupyter-widgets/controls",
            "_model_module_version": "1.5.0",
            "_model_name": "HTMLModel",
            "_view_count": null,
            "_view_module": "@jupyter-widgets/controls",
            "_view_module_version": "1.5.0",
            "_view_name": "HTMLView",
            "description": "",
            "description_tooltip": null,
            "layout": "IPY_MODEL_6f23e7a0475f4425a94db1419d88fb4d",
            "placeholder": "​",
            "style": "IPY_MODEL_7f83a5a5add24ca39ad19b54977ffe8a",
            "value": "235/235"
          }
        },
        "2fbcab1241314ab79aa454dd57790868": {
          "model_module": "@jupyter-widgets/controls",
          "model_name": "FloatProgressModel",
          "model_module_version": "1.5.0",
          "state": {
            "_dom_classes": [],
            "_model_module": "@jupyter-widgets/controls",
            "_model_module_version": "1.5.0",
            "_model_name": "FloatProgressModel",
            "_view_count": null,
            "_view_module": "@jupyter-widgets/controls",
            "_view_module_version": "1.5.0",
            "_view_name": "ProgressView",
            "bar_style": "success",
            "description": "",
            "description_tooltip": null,
            "layout": "IPY_MODEL_bc086efcaad04e0882c24085d877d3cc",
            "max": 235,
            "min": 0,
            "orientation": "horizontal",
            "style": "IPY_MODEL_841038066da349b2a17efce812a194a5",
            "value": 235
          }
        },
        "c33cf350f1154e3292c42da58e780e93": {
          "model_module": "@jupyter-widgets/controls",
          "model_name": "HTMLModel",
          "model_module_version": "1.5.0",
          "state": {
            "_dom_classes": [],
            "_model_module": "@jupyter-widgets/controls",
            "_model_module_version": "1.5.0",
            "_model_name": "HTMLModel",
            "_view_count": null,
            "_view_module": "@jupyter-widgets/controls",
            "_view_module_version": "1.5.0",
            "_view_name": "HTMLView",
            "description": "",
            "description_tooltip": null,
            "layout": "IPY_MODEL_9d63f228706e42ffbd487a110e6cc4b2",
            "placeholder": "​",
            "style": "IPY_MODEL_5d07db9527f64ea2a5dbdb4611c68064",
            "value": " ETA: 00:00s - loss: 1.2743 - accuracy: 0.5549 - val_loss: 1.2722 - val_accuracy: 0.5743"
          }
        },
        "e54c534c1c1f453f8f7b07f3bca677e8": {
          "model_module": "@jupyter-widgets/base",
          "model_name": "LayoutModel",
          "model_module_version": "1.2.0",
          "state": {
            "_model_module": "@jupyter-widgets/base",
            "_model_module_version": "1.2.0",
            "_model_name": "LayoutModel",
            "_view_count": null,
            "_view_module": "@jupyter-widgets/base",
            "_view_module_version": "1.2.0",
            "_view_name": "LayoutView",
            "align_content": null,
            "align_items": null,
            "align_self": null,
            "border": null,
            "bottom": null,
            "display": "inline-flex",
            "flex": null,
            "flex_flow": "row wrap",
            "grid_area": null,
            "grid_auto_columns": null,
            "grid_auto_flow": null,
            "grid_auto_rows": null,
            "grid_column": null,
            "grid_gap": null,
            "grid_row": null,
            "grid_template_areas": null,
            "grid_template_columns": null,
            "grid_template_rows": null,
            "height": null,
            "justify_content": null,
            "justify_items": null,
            "left": null,
            "margin": null,
            "max_height": null,
            "max_width": null,
            "min_height": null,
            "min_width": null,
            "object_fit": null,
            "object_position": null,
            "order": null,
            "overflow": null,
            "overflow_x": null,
            "overflow_y": null,
            "padding": null,
            "right": null,
            "top": null,
            "visibility": null,
            "width": "100%"
          }
        },
        "6f23e7a0475f4425a94db1419d88fb4d": {
          "model_module": "@jupyter-widgets/base",
          "model_name": "LayoutModel",
          "model_module_version": "1.2.0",
          "state": {
            "_model_module": "@jupyter-widgets/base",
            "_model_module_version": "1.2.0",
            "_model_name": "LayoutModel",
            "_view_count": null,
            "_view_module": "@jupyter-widgets/base",
            "_view_module_version": "1.2.0",
            "_view_name": "LayoutView",
            "align_content": null,
            "align_items": null,
            "align_self": null,
            "border": null,
            "bottom": null,
            "display": null,
            "flex": null,
            "flex_flow": null,
            "grid_area": null,
            "grid_auto_columns": null,
            "grid_auto_flow": null,
            "grid_auto_rows": null,
            "grid_column": null,
            "grid_gap": null,
            "grid_row": null,
            "grid_template_areas": null,
            "grid_template_columns": null,
            "grid_template_rows": null,
            "height": null,
            "justify_content": null,
            "justify_items": null,
            "left": null,
            "margin": null,
            "max_height": null,
            "max_width": null,
            "min_height": null,
            "min_width": null,
            "object_fit": null,
            "object_position": null,
            "order": null,
            "overflow": null,
            "overflow_x": null,
            "overflow_y": null,
            "padding": null,
            "right": null,
            "top": null,
            "visibility": null,
            "width": null
          }
        },
        "7f83a5a5add24ca39ad19b54977ffe8a": {
          "model_module": "@jupyter-widgets/controls",
          "model_name": "DescriptionStyleModel",
          "model_module_version": "1.5.0",
          "state": {
            "_model_module": "@jupyter-widgets/controls",
            "_model_module_version": "1.5.0",
            "_model_name": "DescriptionStyleModel",
            "_view_count": null,
            "_view_module": "@jupyter-widgets/base",
            "_view_module_version": "1.2.0",
            "_view_name": "StyleView",
            "description_width": ""
          }
        },
        "bc086efcaad04e0882c24085d877d3cc": {
          "model_module": "@jupyter-widgets/base",
          "model_name": "LayoutModel",
          "model_module_version": "1.2.0",
          "state": {
            "_model_module": "@jupyter-widgets/base",
            "_model_module_version": "1.2.0",
            "_model_name": "LayoutModel",
            "_view_count": null,
            "_view_module": "@jupyter-widgets/base",
            "_view_module_version": "1.2.0",
            "_view_name": "LayoutView",
            "align_content": null,
            "align_items": null,
            "align_self": null,
            "border": null,
            "bottom": null,
            "display": null,
            "flex": "2",
            "flex_flow": null,
            "grid_area": null,
            "grid_auto_columns": null,
            "grid_auto_flow": null,
            "grid_auto_rows": null,
            "grid_column": null,
            "grid_gap": null,
            "grid_row": null,
            "grid_template_areas": null,
            "grid_template_columns": null,
            "grid_template_rows": null,
            "height": null,
            "justify_content": null,
            "justify_items": null,
            "left": null,
            "margin": null,
            "max_height": null,
            "max_width": null,
            "min_height": null,
            "min_width": null,
            "object_fit": null,
            "object_position": null,
            "order": null,
            "overflow": null,
            "overflow_x": null,
            "overflow_y": null,
            "padding": null,
            "right": null,
            "top": null,
            "visibility": null,
            "width": null
          }
        },
        "841038066da349b2a17efce812a194a5": {
          "model_module": "@jupyter-widgets/controls",
          "model_name": "ProgressStyleModel",
          "model_module_version": "1.5.0",
          "state": {
            "_model_module": "@jupyter-widgets/controls",
            "_model_module_version": "1.5.0",
            "_model_name": "ProgressStyleModel",
            "_view_count": null,
            "_view_module": "@jupyter-widgets/base",
            "_view_module_version": "1.2.0",
            "_view_name": "StyleView",
            "bar_color": null,
            "description_width": ""
          }
        },
        "9d63f228706e42ffbd487a110e6cc4b2": {
          "model_module": "@jupyter-widgets/base",
          "model_name": "LayoutModel",
          "model_module_version": "1.2.0",
          "state": {
            "_model_module": "@jupyter-widgets/base",
            "_model_module_version": "1.2.0",
            "_model_name": "LayoutModel",
            "_view_count": null,
            "_view_module": "@jupyter-widgets/base",
            "_view_module_version": "1.2.0",
            "_view_name": "LayoutView",
            "align_content": null,
            "align_items": null,
            "align_self": null,
            "border": null,
            "bottom": null,
            "display": null,
            "flex": null,
            "flex_flow": null,
            "grid_area": null,
            "grid_auto_columns": null,
            "grid_auto_flow": null,
            "grid_auto_rows": null,
            "grid_column": null,
            "grid_gap": null,
            "grid_row": null,
            "grid_template_areas": null,
            "grid_template_columns": null,
            "grid_template_rows": null,
            "height": null,
            "justify_content": null,
            "justify_items": null,
            "left": null,
            "margin": null,
            "max_height": null,
            "max_width": null,
            "min_height": null,
            "min_width": null,
            "object_fit": null,
            "object_position": null,
            "order": null,
            "overflow": null,
            "overflow_x": null,
            "overflow_y": null,
            "padding": null,
            "right": null,
            "top": null,
            "visibility": null,
            "width": null
          }
        },
        "5d07db9527f64ea2a5dbdb4611c68064": {
          "model_module": "@jupyter-widgets/controls",
          "model_name": "DescriptionStyleModel",
          "model_module_version": "1.5.0",
          "state": {
            "_model_module": "@jupyter-widgets/controls",
            "_model_module_version": "1.5.0",
            "_model_name": "DescriptionStyleModel",
            "_view_count": null,
            "_view_module": "@jupyter-widgets/base",
            "_view_module_version": "1.2.0",
            "_view_name": "StyleView",
            "description_width": ""
          }
        },
        "c7b5a79969624e608a6cbe252ab50b22": {
          "model_module": "@jupyter-widgets/controls",
          "model_name": "HBoxModel",
          "model_module_version": "1.5.0",
          "state": {
            "_dom_classes": [],
            "_model_module": "@jupyter-widgets/controls",
            "_model_module_version": "1.5.0",
            "_model_name": "HBoxModel",
            "_view_count": null,
            "_view_module": "@jupyter-widgets/controls",
            "_view_module_version": "1.5.0",
            "_view_name": "HBoxView",
            "box_style": "",
            "children": [
              "IPY_MODEL_1b4104968d9241e5bcec0ddc0e79d31d",
              "IPY_MODEL_9d001a6a770343a191410abd95b9e1b0",
              "IPY_MODEL_b5fe2cd9583c46b0a7bd7ea35010988f"
            ],
            "layout": "IPY_MODEL_9748cc457ce64bbcbcf7e244772e1a5b"
          }
        },
        "1b4104968d9241e5bcec0ddc0e79d31d": {
          "model_module": "@jupyter-widgets/controls",
          "model_name": "HTMLModel",
          "model_module_version": "1.5.0",
          "state": {
            "_dom_classes": [],
            "_model_module": "@jupyter-widgets/controls",
            "_model_module_version": "1.5.0",
            "_model_name": "HTMLModel",
            "_view_count": null,
            "_view_module": "@jupyter-widgets/controls",
            "_view_module_version": "1.5.0",
            "_view_name": "HTMLView",
            "description": "",
            "description_tooltip": null,
            "layout": "IPY_MODEL_55409bab416841c0b0bc826b42ecf415",
            "placeholder": "​",
            "style": "IPY_MODEL_af359d78bcd244e0b1b482fdcf356586",
            "value": "235/235"
          }
        },
        "9d001a6a770343a191410abd95b9e1b0": {
          "model_module": "@jupyter-widgets/controls",
          "model_name": "FloatProgressModel",
          "model_module_version": "1.5.0",
          "state": {
            "_dom_classes": [],
            "_model_module": "@jupyter-widgets/controls",
            "_model_module_version": "1.5.0",
            "_model_name": "FloatProgressModel",
            "_view_count": null,
            "_view_module": "@jupyter-widgets/controls",
            "_view_module_version": "1.5.0",
            "_view_name": "ProgressView",
            "bar_style": "success",
            "description": "",
            "description_tooltip": null,
            "layout": "IPY_MODEL_922fba23a54f47819d5b15b2513a3d5d",
            "max": 235,
            "min": 0,
            "orientation": "horizontal",
            "style": "IPY_MODEL_8fe0c5bd1d364cf1aa45ba0eb165c00a",
            "value": 235
          }
        },
        "b5fe2cd9583c46b0a7bd7ea35010988f": {
          "model_module": "@jupyter-widgets/controls",
          "model_name": "HTMLModel",
          "model_module_version": "1.5.0",
          "state": {
            "_dom_classes": [],
            "_model_module": "@jupyter-widgets/controls",
            "_model_module_version": "1.5.0",
            "_model_name": "HTMLModel",
            "_view_count": null,
            "_view_module": "@jupyter-widgets/controls",
            "_view_module_version": "1.5.0",
            "_view_name": "HTMLView",
            "description": "",
            "description_tooltip": null,
            "layout": "IPY_MODEL_12fbadf586984bc99b2fe223029af2bd",
            "placeholder": "​",
            "style": "IPY_MODEL_357f0259a64848f98ed120d8b750cd79",
            "value": " ETA: 00:00s - loss: 1.2788 - accuracy: 0.5596 - val_loss: 1.4669 - val_accuracy: 0.5535"
          }
        },
        "9748cc457ce64bbcbcf7e244772e1a5b": {
          "model_module": "@jupyter-widgets/base",
          "model_name": "LayoutModel",
          "model_module_version": "1.2.0",
          "state": {
            "_model_module": "@jupyter-widgets/base",
            "_model_module_version": "1.2.0",
            "_model_name": "LayoutModel",
            "_view_count": null,
            "_view_module": "@jupyter-widgets/base",
            "_view_module_version": "1.2.0",
            "_view_name": "LayoutView",
            "align_content": null,
            "align_items": null,
            "align_self": null,
            "border": null,
            "bottom": null,
            "display": "inline-flex",
            "flex": null,
            "flex_flow": "row wrap",
            "grid_area": null,
            "grid_auto_columns": null,
            "grid_auto_flow": null,
            "grid_auto_rows": null,
            "grid_column": null,
            "grid_gap": null,
            "grid_row": null,
            "grid_template_areas": null,
            "grid_template_columns": null,
            "grid_template_rows": null,
            "height": null,
            "justify_content": null,
            "justify_items": null,
            "left": null,
            "margin": null,
            "max_height": null,
            "max_width": null,
            "min_height": null,
            "min_width": null,
            "object_fit": null,
            "object_position": null,
            "order": null,
            "overflow": null,
            "overflow_x": null,
            "overflow_y": null,
            "padding": null,
            "right": null,
            "top": null,
            "visibility": null,
            "width": "100%"
          }
        },
        "55409bab416841c0b0bc826b42ecf415": {
          "model_module": "@jupyter-widgets/base",
          "model_name": "LayoutModel",
          "model_module_version": "1.2.0",
          "state": {
            "_model_module": "@jupyter-widgets/base",
            "_model_module_version": "1.2.0",
            "_model_name": "LayoutModel",
            "_view_count": null,
            "_view_module": "@jupyter-widgets/base",
            "_view_module_version": "1.2.0",
            "_view_name": "LayoutView",
            "align_content": null,
            "align_items": null,
            "align_self": null,
            "border": null,
            "bottom": null,
            "display": null,
            "flex": null,
            "flex_flow": null,
            "grid_area": null,
            "grid_auto_columns": null,
            "grid_auto_flow": null,
            "grid_auto_rows": null,
            "grid_column": null,
            "grid_gap": null,
            "grid_row": null,
            "grid_template_areas": null,
            "grid_template_columns": null,
            "grid_template_rows": null,
            "height": null,
            "justify_content": null,
            "justify_items": null,
            "left": null,
            "margin": null,
            "max_height": null,
            "max_width": null,
            "min_height": null,
            "min_width": null,
            "object_fit": null,
            "object_position": null,
            "order": null,
            "overflow": null,
            "overflow_x": null,
            "overflow_y": null,
            "padding": null,
            "right": null,
            "top": null,
            "visibility": null,
            "width": null
          }
        },
        "af359d78bcd244e0b1b482fdcf356586": {
          "model_module": "@jupyter-widgets/controls",
          "model_name": "DescriptionStyleModel",
          "model_module_version": "1.5.0",
          "state": {
            "_model_module": "@jupyter-widgets/controls",
            "_model_module_version": "1.5.0",
            "_model_name": "DescriptionStyleModel",
            "_view_count": null,
            "_view_module": "@jupyter-widgets/base",
            "_view_module_version": "1.2.0",
            "_view_name": "StyleView",
            "description_width": ""
          }
        },
        "922fba23a54f47819d5b15b2513a3d5d": {
          "model_module": "@jupyter-widgets/base",
          "model_name": "LayoutModel",
          "model_module_version": "1.2.0",
          "state": {
            "_model_module": "@jupyter-widgets/base",
            "_model_module_version": "1.2.0",
            "_model_name": "LayoutModel",
            "_view_count": null,
            "_view_module": "@jupyter-widgets/base",
            "_view_module_version": "1.2.0",
            "_view_name": "LayoutView",
            "align_content": null,
            "align_items": null,
            "align_self": null,
            "border": null,
            "bottom": null,
            "display": null,
            "flex": "2",
            "flex_flow": null,
            "grid_area": null,
            "grid_auto_columns": null,
            "grid_auto_flow": null,
            "grid_auto_rows": null,
            "grid_column": null,
            "grid_gap": null,
            "grid_row": null,
            "grid_template_areas": null,
            "grid_template_columns": null,
            "grid_template_rows": null,
            "height": null,
            "justify_content": null,
            "justify_items": null,
            "left": null,
            "margin": null,
            "max_height": null,
            "max_width": null,
            "min_height": null,
            "min_width": null,
            "object_fit": null,
            "object_position": null,
            "order": null,
            "overflow": null,
            "overflow_x": null,
            "overflow_y": null,
            "padding": null,
            "right": null,
            "top": null,
            "visibility": null,
            "width": null
          }
        },
        "8fe0c5bd1d364cf1aa45ba0eb165c00a": {
          "model_module": "@jupyter-widgets/controls",
          "model_name": "ProgressStyleModel",
          "model_module_version": "1.5.0",
          "state": {
            "_model_module": "@jupyter-widgets/controls",
            "_model_module_version": "1.5.0",
            "_model_name": "ProgressStyleModel",
            "_view_count": null,
            "_view_module": "@jupyter-widgets/base",
            "_view_module_version": "1.2.0",
            "_view_name": "StyleView",
            "bar_color": null,
            "description_width": ""
          }
        },
        "12fbadf586984bc99b2fe223029af2bd": {
          "model_module": "@jupyter-widgets/base",
          "model_name": "LayoutModel",
          "model_module_version": "1.2.0",
          "state": {
            "_model_module": "@jupyter-widgets/base",
            "_model_module_version": "1.2.0",
            "_model_name": "LayoutModel",
            "_view_count": null,
            "_view_module": "@jupyter-widgets/base",
            "_view_module_version": "1.2.0",
            "_view_name": "LayoutView",
            "align_content": null,
            "align_items": null,
            "align_self": null,
            "border": null,
            "bottom": null,
            "display": null,
            "flex": null,
            "flex_flow": null,
            "grid_area": null,
            "grid_auto_columns": null,
            "grid_auto_flow": null,
            "grid_auto_rows": null,
            "grid_column": null,
            "grid_gap": null,
            "grid_row": null,
            "grid_template_areas": null,
            "grid_template_columns": null,
            "grid_template_rows": null,
            "height": null,
            "justify_content": null,
            "justify_items": null,
            "left": null,
            "margin": null,
            "max_height": null,
            "max_width": null,
            "min_height": null,
            "min_width": null,
            "object_fit": null,
            "object_position": null,
            "order": null,
            "overflow": null,
            "overflow_x": null,
            "overflow_y": null,
            "padding": null,
            "right": null,
            "top": null,
            "visibility": null,
            "width": null
          }
        },
        "357f0259a64848f98ed120d8b750cd79": {
          "model_module": "@jupyter-widgets/controls",
          "model_name": "DescriptionStyleModel",
          "model_module_version": "1.5.0",
          "state": {
            "_model_module": "@jupyter-widgets/controls",
            "_model_module_version": "1.5.0",
            "_model_name": "DescriptionStyleModel",
            "_view_count": null,
            "_view_module": "@jupyter-widgets/base",
            "_view_module_version": "1.2.0",
            "_view_name": "StyleView",
            "description_width": ""
          }
        },
        "9c903bf3edd34d89949330c229fa61e0": {
          "model_module": "@jupyter-widgets/controls",
          "model_name": "HBoxModel",
          "model_module_version": "1.5.0",
          "state": {
            "_dom_classes": [],
            "_model_module": "@jupyter-widgets/controls",
            "_model_module_version": "1.5.0",
            "_model_name": "HBoxModel",
            "_view_count": null,
            "_view_module": "@jupyter-widgets/controls",
            "_view_module_version": "1.5.0",
            "_view_name": "HBoxView",
            "box_style": "",
            "children": [
              "IPY_MODEL_e038a55b4d624c578e0004e98f52b064",
              "IPY_MODEL_4f83cd49fb564b8a9ae1b5cbd2763fc0",
              "IPY_MODEL_874931e37265458095dfd4d140293b97"
            ],
            "layout": "IPY_MODEL_76214764ebe346ebb45cf6f9c6ecf0a2"
          }
        },
        "e038a55b4d624c578e0004e98f52b064": {
          "model_module": "@jupyter-widgets/controls",
          "model_name": "HTMLModel",
          "model_module_version": "1.5.0",
          "state": {
            "_dom_classes": [],
            "_model_module": "@jupyter-widgets/controls",
            "_model_module_version": "1.5.0",
            "_model_name": "HTMLModel",
            "_view_count": null,
            "_view_module": "@jupyter-widgets/controls",
            "_view_module_version": "1.5.0",
            "_view_name": "HTMLView",
            "description": "",
            "description_tooltip": null,
            "layout": "IPY_MODEL_c9d88e9e240f4296924a41f71488e57f",
            "placeholder": "​",
            "style": "IPY_MODEL_595dfebf95614c908d4cc685bf526575",
            "value": "235/235"
          }
        },
        "4f83cd49fb564b8a9ae1b5cbd2763fc0": {
          "model_module": "@jupyter-widgets/controls",
          "model_name": "FloatProgressModel",
          "model_module_version": "1.5.0",
          "state": {
            "_dom_classes": [],
            "_model_module": "@jupyter-widgets/controls",
            "_model_module_version": "1.5.0",
            "_model_name": "FloatProgressModel",
            "_view_count": null,
            "_view_module": "@jupyter-widgets/controls",
            "_view_module_version": "1.5.0",
            "_view_name": "ProgressView",
            "bar_style": "success",
            "description": "",
            "description_tooltip": null,
            "layout": "IPY_MODEL_71fa9c06578b4ec09539cba2eecc164b",
            "max": 235,
            "min": 0,
            "orientation": "horizontal",
            "style": "IPY_MODEL_d4be193459cb47c4b7e7fff4f0b9d001",
            "value": 235
          }
        },
        "874931e37265458095dfd4d140293b97": {
          "model_module": "@jupyter-widgets/controls",
          "model_name": "HTMLModel",
          "model_module_version": "1.5.0",
          "state": {
            "_dom_classes": [],
            "_model_module": "@jupyter-widgets/controls",
            "_model_module_version": "1.5.0",
            "_model_name": "HTMLModel",
            "_view_count": null,
            "_view_module": "@jupyter-widgets/controls",
            "_view_module_version": "1.5.0",
            "_view_name": "HTMLView",
            "description": "",
            "description_tooltip": null,
            "layout": "IPY_MODEL_0f19bee9b8e24e9c9ec4aae6aae920b3",
            "placeholder": "​",
            "style": "IPY_MODEL_bef3c6dab50b46bb91a0c5bc9844fd3d",
            "value": " ETA: 00:00s - loss: 1.2561 - accuracy: 0.5581 - val_loss: 1.2461 - val_accuracy: 0.5850"
          }
        },
        "76214764ebe346ebb45cf6f9c6ecf0a2": {
          "model_module": "@jupyter-widgets/base",
          "model_name": "LayoutModel",
          "model_module_version": "1.2.0",
          "state": {
            "_model_module": "@jupyter-widgets/base",
            "_model_module_version": "1.2.0",
            "_model_name": "LayoutModel",
            "_view_count": null,
            "_view_module": "@jupyter-widgets/base",
            "_view_module_version": "1.2.0",
            "_view_name": "LayoutView",
            "align_content": null,
            "align_items": null,
            "align_self": null,
            "border": null,
            "bottom": null,
            "display": "inline-flex",
            "flex": null,
            "flex_flow": "row wrap",
            "grid_area": null,
            "grid_auto_columns": null,
            "grid_auto_flow": null,
            "grid_auto_rows": null,
            "grid_column": null,
            "grid_gap": null,
            "grid_row": null,
            "grid_template_areas": null,
            "grid_template_columns": null,
            "grid_template_rows": null,
            "height": null,
            "justify_content": null,
            "justify_items": null,
            "left": null,
            "margin": null,
            "max_height": null,
            "max_width": null,
            "min_height": null,
            "min_width": null,
            "object_fit": null,
            "object_position": null,
            "order": null,
            "overflow": null,
            "overflow_x": null,
            "overflow_y": null,
            "padding": null,
            "right": null,
            "top": null,
            "visibility": null,
            "width": "100%"
          }
        },
        "c9d88e9e240f4296924a41f71488e57f": {
          "model_module": "@jupyter-widgets/base",
          "model_name": "LayoutModel",
          "model_module_version": "1.2.0",
          "state": {
            "_model_module": "@jupyter-widgets/base",
            "_model_module_version": "1.2.0",
            "_model_name": "LayoutModel",
            "_view_count": null,
            "_view_module": "@jupyter-widgets/base",
            "_view_module_version": "1.2.0",
            "_view_name": "LayoutView",
            "align_content": null,
            "align_items": null,
            "align_self": null,
            "border": null,
            "bottom": null,
            "display": null,
            "flex": null,
            "flex_flow": null,
            "grid_area": null,
            "grid_auto_columns": null,
            "grid_auto_flow": null,
            "grid_auto_rows": null,
            "grid_column": null,
            "grid_gap": null,
            "grid_row": null,
            "grid_template_areas": null,
            "grid_template_columns": null,
            "grid_template_rows": null,
            "height": null,
            "justify_content": null,
            "justify_items": null,
            "left": null,
            "margin": null,
            "max_height": null,
            "max_width": null,
            "min_height": null,
            "min_width": null,
            "object_fit": null,
            "object_position": null,
            "order": null,
            "overflow": null,
            "overflow_x": null,
            "overflow_y": null,
            "padding": null,
            "right": null,
            "top": null,
            "visibility": null,
            "width": null
          }
        },
        "595dfebf95614c908d4cc685bf526575": {
          "model_module": "@jupyter-widgets/controls",
          "model_name": "DescriptionStyleModel",
          "model_module_version": "1.5.0",
          "state": {
            "_model_module": "@jupyter-widgets/controls",
            "_model_module_version": "1.5.0",
            "_model_name": "DescriptionStyleModel",
            "_view_count": null,
            "_view_module": "@jupyter-widgets/base",
            "_view_module_version": "1.2.0",
            "_view_name": "StyleView",
            "description_width": ""
          }
        },
        "71fa9c06578b4ec09539cba2eecc164b": {
          "model_module": "@jupyter-widgets/base",
          "model_name": "LayoutModel",
          "model_module_version": "1.2.0",
          "state": {
            "_model_module": "@jupyter-widgets/base",
            "_model_module_version": "1.2.0",
            "_model_name": "LayoutModel",
            "_view_count": null,
            "_view_module": "@jupyter-widgets/base",
            "_view_module_version": "1.2.0",
            "_view_name": "LayoutView",
            "align_content": null,
            "align_items": null,
            "align_self": null,
            "border": null,
            "bottom": null,
            "display": null,
            "flex": "2",
            "flex_flow": null,
            "grid_area": null,
            "grid_auto_columns": null,
            "grid_auto_flow": null,
            "grid_auto_rows": null,
            "grid_column": null,
            "grid_gap": null,
            "grid_row": null,
            "grid_template_areas": null,
            "grid_template_columns": null,
            "grid_template_rows": null,
            "height": null,
            "justify_content": null,
            "justify_items": null,
            "left": null,
            "margin": null,
            "max_height": null,
            "max_width": null,
            "min_height": null,
            "min_width": null,
            "object_fit": null,
            "object_position": null,
            "order": null,
            "overflow": null,
            "overflow_x": null,
            "overflow_y": null,
            "padding": null,
            "right": null,
            "top": null,
            "visibility": null,
            "width": null
          }
        },
        "d4be193459cb47c4b7e7fff4f0b9d001": {
          "model_module": "@jupyter-widgets/controls",
          "model_name": "ProgressStyleModel",
          "model_module_version": "1.5.0",
          "state": {
            "_model_module": "@jupyter-widgets/controls",
            "_model_module_version": "1.5.0",
            "_model_name": "ProgressStyleModel",
            "_view_count": null,
            "_view_module": "@jupyter-widgets/base",
            "_view_module_version": "1.2.0",
            "_view_name": "StyleView",
            "bar_color": null,
            "description_width": ""
          }
        },
        "0f19bee9b8e24e9c9ec4aae6aae920b3": {
          "model_module": "@jupyter-widgets/base",
          "model_name": "LayoutModel",
          "model_module_version": "1.2.0",
          "state": {
            "_model_module": "@jupyter-widgets/base",
            "_model_module_version": "1.2.0",
            "_model_name": "LayoutModel",
            "_view_count": null,
            "_view_module": "@jupyter-widgets/base",
            "_view_module_version": "1.2.0",
            "_view_name": "LayoutView",
            "align_content": null,
            "align_items": null,
            "align_self": null,
            "border": null,
            "bottom": null,
            "display": null,
            "flex": null,
            "flex_flow": null,
            "grid_area": null,
            "grid_auto_columns": null,
            "grid_auto_flow": null,
            "grid_auto_rows": null,
            "grid_column": null,
            "grid_gap": null,
            "grid_row": null,
            "grid_template_areas": null,
            "grid_template_columns": null,
            "grid_template_rows": null,
            "height": null,
            "justify_content": null,
            "justify_items": null,
            "left": null,
            "margin": null,
            "max_height": null,
            "max_width": null,
            "min_height": null,
            "min_width": null,
            "object_fit": null,
            "object_position": null,
            "order": null,
            "overflow": null,
            "overflow_x": null,
            "overflow_y": null,
            "padding": null,
            "right": null,
            "top": null,
            "visibility": null,
            "width": null
          }
        },
        "bef3c6dab50b46bb91a0c5bc9844fd3d": {
          "model_module": "@jupyter-widgets/controls",
          "model_name": "DescriptionStyleModel",
          "model_module_version": "1.5.0",
          "state": {
            "_model_module": "@jupyter-widgets/controls",
            "_model_module_version": "1.5.0",
            "_model_name": "DescriptionStyleModel",
            "_view_count": null,
            "_view_module": "@jupyter-widgets/base",
            "_view_module_version": "1.2.0",
            "_view_name": "StyleView",
            "description_width": ""
          }
        },
        "52df0b70003c4cd4806b18fb0431c508": {
          "model_module": "@jupyter-widgets/controls",
          "model_name": "HBoxModel",
          "model_module_version": "1.5.0",
          "state": {
            "_dom_classes": [],
            "_model_module": "@jupyter-widgets/controls",
            "_model_module_version": "1.5.0",
            "_model_name": "HBoxModel",
            "_view_count": null,
            "_view_module": "@jupyter-widgets/controls",
            "_view_module_version": "1.5.0",
            "_view_name": "HBoxView",
            "box_style": "",
            "children": [
              "IPY_MODEL_feaa2bd91a3b4169ad50a192e32cd0dd",
              "IPY_MODEL_7bac6cb658574a22beaae5e133fd1af0",
              "IPY_MODEL_1c56cd3473a64958b4511601d4a89b34"
            ],
            "layout": "IPY_MODEL_5f5a9f5af6164e448f7b39cc3e346753"
          }
        },
        "feaa2bd91a3b4169ad50a192e32cd0dd": {
          "model_module": "@jupyter-widgets/controls",
          "model_name": "HTMLModel",
          "model_module_version": "1.5.0",
          "state": {
            "_dom_classes": [],
            "_model_module": "@jupyter-widgets/controls",
            "_model_module_version": "1.5.0",
            "_model_name": "HTMLModel",
            "_view_count": null,
            "_view_module": "@jupyter-widgets/controls",
            "_view_module_version": "1.5.0",
            "_view_name": "HTMLView",
            "description": "",
            "description_tooltip": null,
            "layout": "IPY_MODEL_c7af05cbd9b4411788f1c1dafc692c5e",
            "placeholder": "​",
            "style": "IPY_MODEL_d47e43578e224fbbbcb68dd2bdafb552",
            "value": "235/235"
          }
        },
        "7bac6cb658574a22beaae5e133fd1af0": {
          "model_module": "@jupyter-widgets/controls",
          "model_name": "FloatProgressModel",
          "model_module_version": "1.5.0",
          "state": {
            "_dom_classes": [],
            "_model_module": "@jupyter-widgets/controls",
            "_model_module_version": "1.5.0",
            "_model_name": "FloatProgressModel",
            "_view_count": null,
            "_view_module": "@jupyter-widgets/controls",
            "_view_module_version": "1.5.0",
            "_view_name": "ProgressView",
            "bar_style": "success",
            "description": "",
            "description_tooltip": null,
            "layout": "IPY_MODEL_52a9fd70e0754b9ea3fbc9c400f765a3",
            "max": 235,
            "min": 0,
            "orientation": "horizontal",
            "style": "IPY_MODEL_e9266ceac512430ba70082978cd310c1",
            "value": 235
          }
        },
        "1c56cd3473a64958b4511601d4a89b34": {
          "model_module": "@jupyter-widgets/controls",
          "model_name": "HTMLModel",
          "model_module_version": "1.5.0",
          "state": {
            "_dom_classes": [],
            "_model_module": "@jupyter-widgets/controls",
            "_model_module_version": "1.5.0",
            "_model_name": "HTMLModel",
            "_view_count": null,
            "_view_module": "@jupyter-widgets/controls",
            "_view_module_version": "1.5.0",
            "_view_name": "HTMLView",
            "description": "",
            "description_tooltip": null,
            "layout": "IPY_MODEL_8150ff07248e4583a63b7b58ddadb225",
            "placeholder": "​",
            "style": "IPY_MODEL_16a94b4e6cfd4a0998c5a6fd5a8483d7",
            "value": " ETA: 00:00s - loss: 1.1854 - accuracy: 0.5889 - val_loss: 1.1485 - val_accuracy: 0.6201"
          }
        },
        "5f5a9f5af6164e448f7b39cc3e346753": {
          "model_module": "@jupyter-widgets/base",
          "model_name": "LayoutModel",
          "model_module_version": "1.2.0",
          "state": {
            "_model_module": "@jupyter-widgets/base",
            "_model_module_version": "1.2.0",
            "_model_name": "LayoutModel",
            "_view_count": null,
            "_view_module": "@jupyter-widgets/base",
            "_view_module_version": "1.2.0",
            "_view_name": "LayoutView",
            "align_content": null,
            "align_items": null,
            "align_self": null,
            "border": null,
            "bottom": null,
            "display": "inline-flex",
            "flex": null,
            "flex_flow": "row wrap",
            "grid_area": null,
            "grid_auto_columns": null,
            "grid_auto_flow": null,
            "grid_auto_rows": null,
            "grid_column": null,
            "grid_gap": null,
            "grid_row": null,
            "grid_template_areas": null,
            "grid_template_columns": null,
            "grid_template_rows": null,
            "height": null,
            "justify_content": null,
            "justify_items": null,
            "left": null,
            "margin": null,
            "max_height": null,
            "max_width": null,
            "min_height": null,
            "min_width": null,
            "object_fit": null,
            "object_position": null,
            "order": null,
            "overflow": null,
            "overflow_x": null,
            "overflow_y": null,
            "padding": null,
            "right": null,
            "top": null,
            "visibility": null,
            "width": "100%"
          }
        },
        "c7af05cbd9b4411788f1c1dafc692c5e": {
          "model_module": "@jupyter-widgets/base",
          "model_name": "LayoutModel",
          "model_module_version": "1.2.0",
          "state": {
            "_model_module": "@jupyter-widgets/base",
            "_model_module_version": "1.2.0",
            "_model_name": "LayoutModel",
            "_view_count": null,
            "_view_module": "@jupyter-widgets/base",
            "_view_module_version": "1.2.0",
            "_view_name": "LayoutView",
            "align_content": null,
            "align_items": null,
            "align_self": null,
            "border": null,
            "bottom": null,
            "display": null,
            "flex": null,
            "flex_flow": null,
            "grid_area": null,
            "grid_auto_columns": null,
            "grid_auto_flow": null,
            "grid_auto_rows": null,
            "grid_column": null,
            "grid_gap": null,
            "grid_row": null,
            "grid_template_areas": null,
            "grid_template_columns": null,
            "grid_template_rows": null,
            "height": null,
            "justify_content": null,
            "justify_items": null,
            "left": null,
            "margin": null,
            "max_height": null,
            "max_width": null,
            "min_height": null,
            "min_width": null,
            "object_fit": null,
            "object_position": null,
            "order": null,
            "overflow": null,
            "overflow_x": null,
            "overflow_y": null,
            "padding": null,
            "right": null,
            "top": null,
            "visibility": null,
            "width": null
          }
        },
        "d47e43578e224fbbbcb68dd2bdafb552": {
          "model_module": "@jupyter-widgets/controls",
          "model_name": "DescriptionStyleModel",
          "model_module_version": "1.5.0",
          "state": {
            "_model_module": "@jupyter-widgets/controls",
            "_model_module_version": "1.5.0",
            "_model_name": "DescriptionStyleModel",
            "_view_count": null,
            "_view_module": "@jupyter-widgets/base",
            "_view_module_version": "1.2.0",
            "_view_name": "StyleView",
            "description_width": ""
          }
        },
        "52a9fd70e0754b9ea3fbc9c400f765a3": {
          "model_module": "@jupyter-widgets/base",
          "model_name": "LayoutModel",
          "model_module_version": "1.2.0",
          "state": {
            "_model_module": "@jupyter-widgets/base",
            "_model_module_version": "1.2.0",
            "_model_name": "LayoutModel",
            "_view_count": null,
            "_view_module": "@jupyter-widgets/base",
            "_view_module_version": "1.2.0",
            "_view_name": "LayoutView",
            "align_content": null,
            "align_items": null,
            "align_self": null,
            "border": null,
            "bottom": null,
            "display": null,
            "flex": "2",
            "flex_flow": null,
            "grid_area": null,
            "grid_auto_columns": null,
            "grid_auto_flow": null,
            "grid_auto_rows": null,
            "grid_column": null,
            "grid_gap": null,
            "grid_row": null,
            "grid_template_areas": null,
            "grid_template_columns": null,
            "grid_template_rows": null,
            "height": null,
            "justify_content": null,
            "justify_items": null,
            "left": null,
            "margin": null,
            "max_height": null,
            "max_width": null,
            "min_height": null,
            "min_width": null,
            "object_fit": null,
            "object_position": null,
            "order": null,
            "overflow": null,
            "overflow_x": null,
            "overflow_y": null,
            "padding": null,
            "right": null,
            "top": null,
            "visibility": null,
            "width": null
          }
        },
        "e9266ceac512430ba70082978cd310c1": {
          "model_module": "@jupyter-widgets/controls",
          "model_name": "ProgressStyleModel",
          "model_module_version": "1.5.0",
          "state": {
            "_model_module": "@jupyter-widgets/controls",
            "_model_module_version": "1.5.0",
            "_model_name": "ProgressStyleModel",
            "_view_count": null,
            "_view_module": "@jupyter-widgets/base",
            "_view_module_version": "1.2.0",
            "_view_name": "StyleView",
            "bar_color": null,
            "description_width": ""
          }
        },
        "8150ff07248e4583a63b7b58ddadb225": {
          "model_module": "@jupyter-widgets/base",
          "model_name": "LayoutModel",
          "model_module_version": "1.2.0",
          "state": {
            "_model_module": "@jupyter-widgets/base",
            "_model_module_version": "1.2.0",
            "_model_name": "LayoutModel",
            "_view_count": null,
            "_view_module": "@jupyter-widgets/base",
            "_view_module_version": "1.2.0",
            "_view_name": "LayoutView",
            "align_content": null,
            "align_items": null,
            "align_self": null,
            "border": null,
            "bottom": null,
            "display": null,
            "flex": null,
            "flex_flow": null,
            "grid_area": null,
            "grid_auto_columns": null,
            "grid_auto_flow": null,
            "grid_auto_rows": null,
            "grid_column": null,
            "grid_gap": null,
            "grid_row": null,
            "grid_template_areas": null,
            "grid_template_columns": null,
            "grid_template_rows": null,
            "height": null,
            "justify_content": null,
            "justify_items": null,
            "left": null,
            "margin": null,
            "max_height": null,
            "max_width": null,
            "min_height": null,
            "min_width": null,
            "object_fit": null,
            "object_position": null,
            "order": null,
            "overflow": null,
            "overflow_x": null,
            "overflow_y": null,
            "padding": null,
            "right": null,
            "top": null,
            "visibility": null,
            "width": null
          }
        },
        "16a94b4e6cfd4a0998c5a6fd5a8483d7": {
          "model_module": "@jupyter-widgets/controls",
          "model_name": "DescriptionStyleModel",
          "model_module_version": "1.5.0",
          "state": {
            "_model_module": "@jupyter-widgets/controls",
            "_model_module_version": "1.5.0",
            "_model_name": "DescriptionStyleModel",
            "_view_count": null,
            "_view_module": "@jupyter-widgets/base",
            "_view_module_version": "1.2.0",
            "_view_name": "StyleView",
            "description_width": ""
          }
        }
      }
    }
  },
  "cells": [
    {
      "cell_type": "markdown",
      "metadata": {
        "id": "view-in-github",
        "colab_type": "text"
      },
      "source": [
        "<a href=\"https://colab.research.google.com/github/ollpp/Project/blob/master/Section4/AI_12_%EB%B0%95%EC%84%9D%ED%99%98.ipynb\" target=\"_parent\"><img src=\"https://colab.research.google.com/assets/colab-badge.svg\" alt=\"Open In Colab\"/></a>"
      ]
    },
    {
      "cell_type": "code",
      "source": [
        "!pip install -U tensorflow-addons"
      ],
      "metadata": {
        "colab": {
          "base_uri": "https://localhost:8080/"
        },
        "id": "wu1Bn8qt5ytI",
        "outputId": "07ce352d-6127-464d-db10-0b1909c02849"
      },
      "execution_count": 65,
      "outputs": [
        {
          "output_type": "stream",
          "name": "stdout",
          "text": [
            "Collecting tensorflow-addons\n",
            "  Downloading tensorflow_addons-0.17.0-cp37-cp37m-manylinux_2_17_x86_64.manylinux2014_x86_64.whl (1.1 MB)\n",
            "\u001b[?25l\r\u001b[K     |▎                               | 10 kB 23.9 MB/s eta 0:00:01\r\u001b[K     |▋                               | 20 kB 27.4 MB/s eta 0:00:01\r\u001b[K     |▉                               | 30 kB 22.3 MB/s eta 0:00:01\r\u001b[K     |█▏                              | 40 kB 16.9 MB/s eta 0:00:01\r\u001b[K     |█▌                              | 51 kB 10.7 MB/s eta 0:00:01\r\u001b[K     |█▊                              | 61 kB 12.4 MB/s eta 0:00:01\r\u001b[K     |██                              | 71 kB 12.1 MB/s eta 0:00:01\r\u001b[K     |██▍                             | 81 kB 12.1 MB/s eta 0:00:01\r\u001b[K     |██▋                             | 92 kB 13.3 MB/s eta 0:00:01\r\u001b[K     |███                             | 102 kB 13.3 MB/s eta 0:00:01\r\u001b[K     |███▎                            | 112 kB 13.3 MB/s eta 0:00:01\r\u001b[K     |███▌                            | 122 kB 13.3 MB/s eta 0:00:01\r\u001b[K     |███▉                            | 133 kB 13.3 MB/s eta 0:00:01\r\u001b[K     |████▏                           | 143 kB 13.3 MB/s eta 0:00:01\r\u001b[K     |████▍                           | 153 kB 13.3 MB/s eta 0:00:01\r\u001b[K     |████▊                           | 163 kB 13.3 MB/s eta 0:00:01\r\u001b[K     |█████                           | 174 kB 13.3 MB/s eta 0:00:01\r\u001b[K     |█████▎                          | 184 kB 13.3 MB/s eta 0:00:01\r\u001b[K     |█████▋                          | 194 kB 13.3 MB/s eta 0:00:01\r\u001b[K     |██████                          | 204 kB 13.3 MB/s eta 0:00:01\r\u001b[K     |██████▏                         | 215 kB 13.3 MB/s eta 0:00:01\r\u001b[K     |██████▌                         | 225 kB 13.3 MB/s eta 0:00:01\r\u001b[K     |██████▉                         | 235 kB 13.3 MB/s eta 0:00:01\r\u001b[K     |███████                         | 245 kB 13.3 MB/s eta 0:00:01\r\u001b[K     |███████▍                        | 256 kB 13.3 MB/s eta 0:00:01\r\u001b[K     |███████▋                        | 266 kB 13.3 MB/s eta 0:00:01\r\u001b[K     |████████                        | 276 kB 13.3 MB/s eta 0:00:01\r\u001b[K     |████████▎                       | 286 kB 13.3 MB/s eta 0:00:01\r\u001b[K     |████████▌                       | 296 kB 13.3 MB/s eta 0:00:01\r\u001b[K     |████████▉                       | 307 kB 13.3 MB/s eta 0:00:01\r\u001b[K     |█████████▏                      | 317 kB 13.3 MB/s eta 0:00:01\r\u001b[K     |█████████▍                      | 327 kB 13.3 MB/s eta 0:00:01\r\u001b[K     |█████████▊                      | 337 kB 13.3 MB/s eta 0:00:01\r\u001b[K     |██████████                      | 348 kB 13.3 MB/s eta 0:00:01\r\u001b[K     |██████████▎                     | 358 kB 13.3 MB/s eta 0:00:01\r\u001b[K     |██████████▋                     | 368 kB 13.3 MB/s eta 0:00:01\r\u001b[K     |███████████                     | 378 kB 13.3 MB/s eta 0:00:01\r\u001b[K     |███████████▏                    | 389 kB 13.3 MB/s eta 0:00:01\r\u001b[K     |███████████▌                    | 399 kB 13.3 MB/s eta 0:00:01\r\u001b[K     |███████████▉                    | 409 kB 13.3 MB/s eta 0:00:01\r\u001b[K     |████████████                    | 419 kB 13.3 MB/s eta 0:00:01\r\u001b[K     |████████████▍                   | 430 kB 13.3 MB/s eta 0:00:01\r\u001b[K     |████████████▊                   | 440 kB 13.3 MB/s eta 0:00:01\r\u001b[K     |█████████████                   | 450 kB 13.3 MB/s eta 0:00:01\r\u001b[K     |█████████████▎                  | 460 kB 13.3 MB/s eta 0:00:01\r\u001b[K     |█████████████▋                  | 471 kB 13.3 MB/s eta 0:00:01\r\u001b[K     |█████████████▉                  | 481 kB 13.3 MB/s eta 0:00:01\r\u001b[K     |██████████████▏                 | 491 kB 13.3 MB/s eta 0:00:01\r\u001b[K     |██████████████▍                 | 501 kB 13.3 MB/s eta 0:00:01\r\u001b[K     |██████████████▊                 | 512 kB 13.3 MB/s eta 0:00:01\r\u001b[K     |███████████████                 | 522 kB 13.3 MB/s eta 0:00:01\r\u001b[K     |███████████████▎                | 532 kB 13.3 MB/s eta 0:00:01\r\u001b[K     |███████████████▋                | 542 kB 13.3 MB/s eta 0:00:01\r\u001b[K     |████████████████                | 552 kB 13.3 MB/s eta 0:00:01\r\u001b[K     |████████████████▏               | 563 kB 13.3 MB/s eta 0:00:01\r\u001b[K     |████████████████▌               | 573 kB 13.3 MB/s eta 0:00:01\r\u001b[K     |████████████████▉               | 583 kB 13.3 MB/s eta 0:00:01\r\u001b[K     |█████████████████               | 593 kB 13.3 MB/s eta 0:00:01\r\u001b[K     |█████████████████▍              | 604 kB 13.3 MB/s eta 0:00:01\r\u001b[K     |█████████████████▊              | 614 kB 13.3 MB/s eta 0:00:01\r\u001b[K     |██████████████████              | 624 kB 13.3 MB/s eta 0:00:01\r\u001b[K     |██████████████████▎             | 634 kB 13.3 MB/s eta 0:00:01\r\u001b[K     |██████████████████▋             | 645 kB 13.3 MB/s eta 0:00:01\r\u001b[K     |██████████████████▉             | 655 kB 13.3 MB/s eta 0:00:01\r\u001b[K     |███████████████████▏            | 665 kB 13.3 MB/s eta 0:00:01\r\u001b[K     |███████████████████▌            | 675 kB 13.3 MB/s eta 0:00:01\r\u001b[K     |███████████████████▊            | 686 kB 13.3 MB/s eta 0:00:01\r\u001b[K     |████████████████████            | 696 kB 13.3 MB/s eta 0:00:01\r\u001b[K     |████████████████████▍           | 706 kB 13.3 MB/s eta 0:00:01\r\u001b[K     |████████████████████▋           | 716 kB 13.3 MB/s eta 0:00:01\r\u001b[K     |█████████████████████           | 727 kB 13.3 MB/s eta 0:00:01\r\u001b[K     |█████████████████████▏          | 737 kB 13.3 MB/s eta 0:00:01\r\u001b[K     |█████████████████████▌          | 747 kB 13.3 MB/s eta 0:00:01\r\u001b[K     |█████████████████████▉          | 757 kB 13.3 MB/s eta 0:00:01\r\u001b[K     |██████████████████████          | 768 kB 13.3 MB/s eta 0:00:01\r\u001b[K     |██████████████████████▍         | 778 kB 13.3 MB/s eta 0:00:01\r\u001b[K     |██████████████████████▊         | 788 kB 13.3 MB/s eta 0:00:01\r\u001b[K     |███████████████████████         | 798 kB 13.3 MB/s eta 0:00:01\r\u001b[K     |███████████████████████▎        | 808 kB 13.3 MB/s eta 0:00:01\r\u001b[K     |███████████████████████▋        | 819 kB 13.3 MB/s eta 0:00:01\r\u001b[K     |███████████████████████▉        | 829 kB 13.3 MB/s eta 0:00:01\r\u001b[K     |████████████████████████▏       | 839 kB 13.3 MB/s eta 0:00:01\r\u001b[K     |████████████████████████▌       | 849 kB 13.3 MB/s eta 0:00:01\r\u001b[K     |████████████████████████▊       | 860 kB 13.3 MB/s eta 0:00:01\r\u001b[K     |█████████████████████████       | 870 kB 13.3 MB/s eta 0:00:01\r\u001b[K     |█████████████████████████▍      | 880 kB 13.3 MB/s eta 0:00:01\r\u001b[K     |█████████████████████████▋      | 890 kB 13.3 MB/s eta 0:00:01\r\u001b[K     |██████████████████████████      | 901 kB 13.3 MB/s eta 0:00:01\r\u001b[K     |██████████████████████████▎     | 911 kB 13.3 MB/s eta 0:00:01\r\u001b[K     |██████████████████████████▌     | 921 kB 13.3 MB/s eta 0:00:01\r\u001b[K     |██████████████████████████▉     | 931 kB 13.3 MB/s eta 0:00:01\r\u001b[K     |███████████████████████████▏    | 942 kB 13.3 MB/s eta 0:00:01\r\u001b[K     |███████████████████████████▍    | 952 kB 13.3 MB/s eta 0:00:01\r\u001b[K     |███████████████████████████▊    | 962 kB 13.3 MB/s eta 0:00:01\r\u001b[K     |████████████████████████████    | 972 kB 13.3 MB/s eta 0:00:01\r\u001b[K     |████████████████████████████▎   | 983 kB 13.3 MB/s eta 0:00:01\r\u001b[K     |████████████████████████████▋   | 993 kB 13.3 MB/s eta 0:00:01\r\u001b[K     |████████████████████████████▉   | 1.0 MB 13.3 MB/s eta 0:00:01\r\u001b[K     |█████████████████████████████▏  | 1.0 MB 13.3 MB/s eta 0:00:01\r\u001b[K     |█████████████████████████████▌  | 1.0 MB 13.3 MB/s eta 0:00:01\r\u001b[K     |█████████████████████████████▊  | 1.0 MB 13.3 MB/s eta 0:00:01\r\u001b[K     |██████████████████████████████  | 1.0 MB 13.3 MB/s eta 0:00:01\r\u001b[K     |██████████████████████████████▍ | 1.1 MB 13.3 MB/s eta 0:00:01\r\u001b[K     |██████████████████████████████▋ | 1.1 MB 13.3 MB/s eta 0:00:01\r\u001b[K     |███████████████████████████████ | 1.1 MB 13.3 MB/s eta 0:00:01\r\u001b[K     |███████████████████████████████▎| 1.1 MB 13.3 MB/s eta 0:00:01\r\u001b[K     |███████████████████████████████▌| 1.1 MB 13.3 MB/s eta 0:00:01\r\u001b[K     |███████████████████████████████▉| 1.1 MB 13.3 MB/s eta 0:00:01\r\u001b[K     |████████████████████████████████| 1.1 MB 13.3 MB/s \n",
            "\u001b[?25hRequirement already satisfied: packaging in /usr/local/lib/python3.7/dist-packages (from tensorflow-addons) (21.3)\n",
            "Requirement already satisfied: typeguard>=2.7 in /usr/local/lib/python3.7/dist-packages (from tensorflow-addons) (2.7.1)\n",
            "Requirement already satisfied: pyparsing!=3.0.5,>=2.0.2 in /usr/local/lib/python3.7/dist-packages (from packaging->tensorflow-addons) (3.0.9)\n",
            "Installing collected packages: tensorflow-addons\n",
            "Successfully installed tensorflow-addons-0.17.0\n"
          ]
        }
      ]
    },
    {
      "cell_type": "code",
      "source": [
        "!pip install -q \"tqdm>=4.36.1\""
      ],
      "metadata": {
        "id": "X2R3F5v750YR"
      },
      "execution_count": 66,
      "outputs": []
    },
    {
      "cell_type": "code",
      "source": [
        "!pip install git+https://github.com/tensorflow/examples.git\n",
        "!pip install -U tfds-nightly"
      ],
      "metadata": {
        "id": "9j4qz4UlLbAr"
      },
      "execution_count": null,
      "outputs": []
    },
    {
      "cell_type": "code",
      "execution_count": 72,
      "metadata": {
        "id": "MEssJCryz6Et"
      },
      "outputs": [],
      "source": [
        "# 딥러닝을 위한 라이브러리\n",
        "import os\n",
        "import pandas as pd\n",
        "import numpy as np\n",
        "import tensorflow as tf\n",
        "from keras.preprocessing import image\n",
        "from keras.preprocessing.image import ImageDataGenerator\n",
        "from sklearn.model_selection import train_test_split\n",
        "from tensorflow.keras.models import Model, Sequential\n",
        "from tensorflow.keras.layers import Input, Dense, Flatten, MaxPooling2D, Conv2D, GlobalAveragePooling2D, GlobalMaxPooling2D\n",
        "from tensorflow.keras.optimizers import Adam\n",
        "from tensorflow.keras.applications.vgg16 import VGG16\n",
        "from tensorflow_examples.models.pix2pix import pix2pix\n",
        "import tensorflow_addons as tfa\n",
        "import tqdm\n",
        "\n",
        "\n",
        "# EDA를 위한 라이브러리\n",
        "import matplotlib.pyplot as plt\n",
        "import matplotlib as mpl\n",
        "%matplotlib inline\n",
        "\n",
        "# file drivein을 위한 라이브러리\n",
        "from google.colab import drive"
      ]
    },
    {
      "cell_type": "code",
      "source": [
        "# 시드 고정\n",
        "\n",
        "np.random.seed(42)\n",
        "tf.random.set_seed(42)"
      ],
      "metadata": {
        "id": "QaRm6O1lNkGv"
      },
      "execution_count": 73,
      "outputs": []
    },
    {
      "cell_type": "code",
      "source": [
        "drive.mount('/content/drive')"
      ],
      "metadata": {
        "colab": {
          "base_uri": "https://localhost:8080/"
        },
        "id": "6MeDIYQUuJvM",
        "outputId": "ea043e90-e7cd-4e47-c4a7-1f40de2dde9d"
      },
      "execution_count": 2,
      "outputs": [
        {
          "output_type": "stream",
          "name": "stdout",
          "text": [
            "Mounted at /content/drive\n"
          ]
        }
      ]
    },
    {
      "cell_type": "code",
      "source": [
        "# data path\n",
        "file_path = '/content/drive/MyDrive/Section4/train.csv'\n",
        "df = pd.read_csv(file_path)"
      ],
      "metadata": {
        "id": "ZI8fQTHUmSlL"
      },
      "execution_count": 3,
      "outputs": []
    },
    {
      "cell_type": "markdown",
      "source": [
        "# data EDA"
      ],
      "metadata": {
        "id": "NDeS3wQjyYHC"
      }
    },
    {
      "cell_type": "code",
      "source": [
        "df.shape"
      ],
      "metadata": {
        "colab": {
          "base_uri": "https://localhost:8080/"
        },
        "id": "qAvhzXCSmjVp",
        "outputId": "8ca99579-0842-4c7e-8aee-c335853c8fff"
      },
      "execution_count": 4,
      "outputs": [
        {
          "output_type": "execute_result",
          "data": {
            "text/plain": [
              "(10407, 4)"
            ]
          },
          "metadata": {},
          "execution_count": 4
        }
      ]
    },
    {
      "cell_type": "code",
      "source": [
        "df.head()"
      ],
      "metadata": {
        "colab": {
          "base_uri": "https://localhost:8080/",
          "height": 206
        },
        "id": "s_Q4riSKqm-v",
        "outputId": "76de73be-f246-4224-9e86-7fadab6a38c4"
      },
      "execution_count": 5,
      "outputs": [
        {
          "output_type": "execute_result",
          "data": {
            "text/plain": [
              "     image_id                  label variety  age\n",
              "0  100330.jpg  bacterial_leaf_blight   ADT45   45\n",
              "1  100365.jpg  bacterial_leaf_blight   ADT45   45\n",
              "2  100382.jpg  bacterial_leaf_blight   ADT45   45\n",
              "3  100632.jpg  bacterial_leaf_blight   ADT45   45\n",
              "4  101918.jpg  bacterial_leaf_blight   ADT45   45"
            ],
            "text/html": [
              "\n",
              "  <div id=\"df-58bc679e-7c57-4d8f-8238-df7748dc23aa\">\n",
              "    <div class=\"colab-df-container\">\n",
              "      <div>\n",
              "<style scoped>\n",
              "    .dataframe tbody tr th:only-of-type {\n",
              "        vertical-align: middle;\n",
              "    }\n",
              "\n",
              "    .dataframe tbody tr th {\n",
              "        vertical-align: top;\n",
              "    }\n",
              "\n",
              "    .dataframe thead th {\n",
              "        text-align: right;\n",
              "    }\n",
              "</style>\n",
              "<table border=\"1\" class=\"dataframe\">\n",
              "  <thead>\n",
              "    <tr style=\"text-align: right;\">\n",
              "      <th></th>\n",
              "      <th>image_id</th>\n",
              "      <th>label</th>\n",
              "      <th>variety</th>\n",
              "      <th>age</th>\n",
              "    </tr>\n",
              "  </thead>\n",
              "  <tbody>\n",
              "    <tr>\n",
              "      <th>0</th>\n",
              "      <td>100330.jpg</td>\n",
              "      <td>bacterial_leaf_blight</td>\n",
              "      <td>ADT45</td>\n",
              "      <td>45</td>\n",
              "    </tr>\n",
              "    <tr>\n",
              "      <th>1</th>\n",
              "      <td>100365.jpg</td>\n",
              "      <td>bacterial_leaf_blight</td>\n",
              "      <td>ADT45</td>\n",
              "      <td>45</td>\n",
              "    </tr>\n",
              "    <tr>\n",
              "      <th>2</th>\n",
              "      <td>100382.jpg</td>\n",
              "      <td>bacterial_leaf_blight</td>\n",
              "      <td>ADT45</td>\n",
              "      <td>45</td>\n",
              "    </tr>\n",
              "    <tr>\n",
              "      <th>3</th>\n",
              "      <td>100632.jpg</td>\n",
              "      <td>bacterial_leaf_blight</td>\n",
              "      <td>ADT45</td>\n",
              "      <td>45</td>\n",
              "    </tr>\n",
              "    <tr>\n",
              "      <th>4</th>\n",
              "      <td>101918.jpg</td>\n",
              "      <td>bacterial_leaf_blight</td>\n",
              "      <td>ADT45</td>\n",
              "      <td>45</td>\n",
              "    </tr>\n",
              "  </tbody>\n",
              "</table>\n",
              "</div>\n",
              "      <button class=\"colab-df-convert\" onclick=\"convertToInteractive('df-58bc679e-7c57-4d8f-8238-df7748dc23aa')\"\n",
              "              title=\"Convert this dataframe to an interactive table.\"\n",
              "              style=\"display:none;\">\n",
              "        \n",
              "  <svg xmlns=\"http://www.w3.org/2000/svg\" height=\"24px\"viewBox=\"0 0 24 24\"\n",
              "       width=\"24px\">\n",
              "    <path d=\"M0 0h24v24H0V0z\" fill=\"none\"/>\n",
              "    <path d=\"M18.56 5.44l.94 2.06.94-2.06 2.06-.94-2.06-.94-.94-2.06-.94 2.06-2.06.94zm-11 1L8.5 8.5l.94-2.06 2.06-.94-2.06-.94L8.5 2.5l-.94 2.06-2.06.94zm10 10l.94 2.06.94-2.06 2.06-.94-2.06-.94-.94-2.06-.94 2.06-2.06.94z\"/><path d=\"M17.41 7.96l-1.37-1.37c-.4-.4-.92-.59-1.43-.59-.52 0-1.04.2-1.43.59L10.3 9.45l-7.72 7.72c-.78.78-.78 2.05 0 2.83L4 21.41c.39.39.9.59 1.41.59.51 0 1.02-.2 1.41-.59l7.78-7.78 2.81-2.81c.8-.78.8-2.07 0-2.86zM5.41 20L4 18.59l7.72-7.72 1.47 1.35L5.41 20z\"/>\n",
              "  </svg>\n",
              "      </button>\n",
              "      \n",
              "  <style>\n",
              "    .colab-df-container {\n",
              "      display:flex;\n",
              "      flex-wrap:wrap;\n",
              "      gap: 12px;\n",
              "    }\n",
              "\n",
              "    .colab-df-convert {\n",
              "      background-color: #E8F0FE;\n",
              "      border: none;\n",
              "      border-radius: 50%;\n",
              "      cursor: pointer;\n",
              "      display: none;\n",
              "      fill: #1967D2;\n",
              "      height: 32px;\n",
              "      padding: 0 0 0 0;\n",
              "      width: 32px;\n",
              "    }\n",
              "\n",
              "    .colab-df-convert:hover {\n",
              "      background-color: #E2EBFA;\n",
              "      box-shadow: 0px 1px 2px rgba(60, 64, 67, 0.3), 0px 1px 3px 1px rgba(60, 64, 67, 0.15);\n",
              "      fill: #174EA6;\n",
              "    }\n",
              "\n",
              "    [theme=dark] .colab-df-convert {\n",
              "      background-color: #3B4455;\n",
              "      fill: #D2E3FC;\n",
              "    }\n",
              "\n",
              "    [theme=dark] .colab-df-convert:hover {\n",
              "      background-color: #434B5C;\n",
              "      box-shadow: 0px 1px 3px 1px rgba(0, 0, 0, 0.15);\n",
              "      filter: drop-shadow(0px 1px 2px rgba(0, 0, 0, 0.3));\n",
              "      fill: #FFFFFF;\n",
              "    }\n",
              "  </style>\n",
              "\n",
              "      <script>\n",
              "        const buttonEl =\n",
              "          document.querySelector('#df-58bc679e-7c57-4d8f-8238-df7748dc23aa button.colab-df-convert');\n",
              "        buttonEl.style.display =\n",
              "          google.colab.kernel.accessAllowed ? 'block' : 'none';\n",
              "\n",
              "        async function convertToInteractive(key) {\n",
              "          const element = document.querySelector('#df-58bc679e-7c57-4d8f-8238-df7748dc23aa');\n",
              "          const dataTable =\n",
              "            await google.colab.kernel.invokeFunction('convertToInteractive',\n",
              "                                                     [key], {});\n",
              "          if (!dataTable) return;\n",
              "\n",
              "          const docLinkHtml = 'Like what you see? Visit the ' +\n",
              "            '<a target=\"_blank\" href=https://colab.research.google.com/notebooks/data_table.ipynb>data table notebook</a>'\n",
              "            + ' to learn more about interactive tables.';\n",
              "          element.innerHTML = '';\n",
              "          dataTable['output_type'] = 'display_data';\n",
              "          await google.colab.output.renderOutput(dataTable, element);\n",
              "          const docLink = document.createElement('div');\n",
              "          docLink.innerHTML = docLinkHtml;\n",
              "          element.appendChild(docLink);\n",
              "        }\n",
              "      </script>\n",
              "    </div>\n",
              "  </div>\n",
              "  "
            ]
          },
          "metadata": {},
          "execution_count": 5
        }
      ]
    },
    {
      "cell_type": "code",
      "source": [
        "df['label'].value_counts()"
      ],
      "metadata": {
        "colab": {
          "base_uri": "https://localhost:8080/"
        },
        "id": "rvCyM5RZt5bw",
        "outputId": "0295f30f-b24a-4709-89ac-27c5f1efdf9a"
      },
      "execution_count": 6,
      "outputs": [
        {
          "output_type": "execute_result",
          "data": {
            "text/plain": [
              "normal                      1764\n",
              "blast                       1738\n",
              "hispa                       1594\n",
              "dead_heart                  1442\n",
              "tungro                      1088\n",
              "brown_spot                   965\n",
              "downy_mildew                 620\n",
              "bacterial_leaf_blight        479\n",
              "bacterial_leaf_streak        380\n",
              "bacterial_panicle_blight     337\n",
              "Name: label, dtype: int64"
            ]
          },
          "metadata": {},
          "execution_count": 6
        }
      ]
    },
    {
      "cell_type": "code",
      "source": [
        "# graph visualization\n",
        "mpl.rc('font', size=15)\n",
        "plt.figure(figsize=(7, 7))\n",
        "\n",
        "# target label\n",
        "label = list(df['label'].unique())\n",
        "\n",
        "# pie graph\n",
        "plt.pie(df['label'].value_counts(), labels=label, autopct='%.1f%%')\n",
        "plt.show()"
      ],
      "metadata": {
        "colab": {
          "base_uri": "https://localhost:8080/",
          "height": 411
        },
        "id": "79cH57bHquc6",
        "outputId": "01ecb460-7589-4aa0-d62b-332a44fbe053"
      },
      "execution_count": 7,
      "outputs": [
        {
          "output_type": "display_data",
          "data": {
            "text/plain": [
              "<Figure size 504x504 with 1 Axes>"
            ],
            "image/png": "[encoded data removed]"
          },
          "metadata": {}
        }
      ]
    },
    {
      "cell_type": "code",
      "source": [
        "train, test = train_test_split(df, test_size = 0.1, stratify=df['label'], random_state=42)"
      ],
      "metadata": {
        "id": "a0zcJJq1zCoF"
      },
      "execution_count": 8,
      "outputs": []
    },
    {
      "cell_type": "code",
      "source": [
        "train.shape, test.shape"
      ],
      "metadata": {
        "colab": {
          "base_uri": "https://localhost:8080/"
        },
        "id": "hxeU40njq_yA",
        "outputId": "e4d20277-d6b8-411c-9dba-4ba28d9914a5"
      },
      "execution_count": 9,
      "outputs": [
        {
          "output_type": "execute_result",
          "data": {
            "text/plain": [
              "((9366, 4), (1041, 4))"
            ]
          },
          "metadata": {},
          "execution_count": 9
        }
      ]
    },
    {
      "cell_type": "code",
      "source": [
        "train['label'].value_counts()"
      ],
      "metadata": {
        "colab": {
          "base_uri": "https://localhost:8080/"
        },
        "id": "B_z9LwDrrAn4",
        "outputId": "39d967e5-a1e9-4e85-facb-021b7ba414d8"
      },
      "execution_count": 10,
      "outputs": [
        {
          "output_type": "execute_result",
          "data": {
            "text/plain": [
              "normal                      1588\n",
              "blast                       1564\n",
              "hispa                       1435\n",
              "dead_heart                  1298\n",
              "tungro                       979\n",
              "brown_spot                   868\n",
              "downy_mildew                 558\n",
              "bacterial_leaf_blight        431\n",
              "bacterial_leaf_streak        342\n",
              "bacterial_panicle_blight     303\n",
              "Name: label, dtype: int64"
            ]
          },
          "metadata": {},
          "execution_count": 10
        }
      ]
    },
    {
      "cell_type": "code",
      "source": [
        "test['label'].value_counts()"
      ],
      "metadata": {
        "colab": {
          "base_uri": "https://localhost:8080/"
        },
        "id": "gEdk-7ia1pB-",
        "outputId": "f53f23a4-19c6-40a7-ae61-12cbb96797fb"
      },
      "execution_count": 11,
      "outputs": [
        {
          "output_type": "execute_result",
          "data": {
            "text/plain": [
              "normal                      176\n",
              "blast                       174\n",
              "hispa                       159\n",
              "dead_heart                  144\n",
              "tungro                      109\n",
              "brown_spot                   97\n",
              "downy_mildew                 62\n",
              "bacterial_leaf_blight        48\n",
              "bacterial_leaf_streak        38\n",
              "bacterial_panicle_blight     34\n",
              "Name: label, dtype: int64"
            ]
          },
          "metadata": {},
          "execution_count": 11
        }
      ]
    },
    {
      "cell_type": "markdown",
      "source": [
        "# Data manipulating"
      ],
      "metadata": {
        "id": "y7nAdwxYGYlE"
      }
    },
    {
      "cell_type": "code",
      "source": [
        "# 균형있는 data split을 위한 작업 진행\n",
        "\n",
        "paths = []\n",
        "labels = []\n",
        "\n",
        "for root, dirs, filename in os.walk('/content/drive/MyDrive/Section4/train_images'):\n",
        "    \n",
        "    # root directory를 제외하고 각 diretory 중 image가 있으면 레이블링 진행\n",
        "    for name in filename:\n",
        "        if '.jpg' in name:\n",
        "            path = root + '/' + name\n",
        "            paths.append(path)\n",
        "\n",
        "            if 'brown_spot' in path:\n",
        "                labels.append('brown_spot')\n",
        "\n",
        "            elif 'downy_mildew' in path:\n",
        "                labels.append('downy_mildew')\n",
        "\n",
        "            elif 'bacterial_leaf_blight' in path:\n",
        "                labels.append('bacterial_leaf_blight')\n",
        "\n",
        "            elif 'hispa' in path:\n",
        "                labels.append('hispa')\n",
        "\n",
        "            elif 'bacterial_panicle_blight' in path:\n",
        "                labels.append('bacterial_panicle_blight')\n",
        "\n",
        "            elif 'bacterial_leaf_streak' in path:\n",
        "                labels.append('bacterial_leaf_streak')\n",
        "\n",
        "            elif 'blast' in path:\n",
        "                labels.append('blast')\n",
        "\n",
        "            elif 'dead_heart' in path:\n",
        "                labels.append('dead_heart')\n",
        "\n",
        "            elif 'tungro' in path:\n",
        "                labels.append('tungro')\n",
        "\n",
        "            elif 'normal' in path:\n",
        "                labels.append('normal')\n",
        "                \n",
        "            else:\n",
        "                labels.append('N/A')\n",
        "\n",
        "data_df = pd.DataFrame({'path':paths, 'label':labels})"
      ],
      "metadata": {
        "id": "gFeQ7aUUwm-7"
      },
      "execution_count": 43,
      "outputs": []
    },
    {
      "cell_type": "code",
      "source": [
        "data_df.shape"
      ],
      "metadata": {
        "colab": {
          "base_uri": "https://localhost:8080/"
        },
        "id": "f3Y5iF-n2E_W",
        "outputId": "0a6e637d-5612-4188-f3c8-8e0bab5bd23f"
      },
      "execution_count": 45,
      "outputs": [
        {
          "output_type": "execute_result",
          "data": {
            "text/plain": [
              "(10426, 2)"
            ]
          },
          "metadata": {},
          "execution_count": 45
        }
      ]
    },
    {
      "cell_type": "code",
      "source": [
        "data_df['label'].value_counts()"
      ],
      "metadata": {
        "colab": {
          "base_uri": "https://localhost:8080/"
        },
        "id": "d2OL2uiWyhi2",
        "outputId": "372b7105-e148-49d5-c2a6-75388568e5df"
      },
      "execution_count": 28,
      "outputs": [
        {
          "output_type": "execute_result",
          "data": {
            "text/plain": [
              "normal                      1764\n",
              "blast                       1757\n",
              "hispa                       1594\n",
              "dead_heart                  1442\n",
              "tungro                      1088\n",
              "brown_spot                   965\n",
              "downy_mildew                 620\n",
              "bacterial_leaf_blight        479\n",
              "bacterial_leaf_streak        380\n",
              "bacterial_panicle_blight     337\n",
              "Name: label, dtype: int64"
            ]
          },
          "metadata": {},
          "execution_count": 28
        }
      ]
    },
    {
      "cell_type": "code",
      "source": [
        "train_df, test_df = train_test_split(data_df, test_size=0.1, stratify=data_df['label'], random_state=42)"
      ],
      "metadata": {
        "id": "lwI9d3Ei0cBd"
      },
      "execution_count": 51,
      "outputs": []
    },
    {
      "cell_type": "code",
      "source": [
        "train_df.shape, test_df.shape"
      ],
      "metadata": {
        "colab": {
          "base_uri": "https://localhost:8080/"
        },
        "id": "7haCBuDGzsZy",
        "outputId": "5aef6b71-85cb-4776-8b14-6b80b747c3ea"
      },
      "execution_count": 53,
      "outputs": [
        {
          "output_type": "execute_result",
          "data": {
            "text/plain": [
              "((9383, 2), (1043, 2))"
            ]
          },
          "metadata": {},
          "execution_count": 53
        }
      ]
    },
    {
      "cell_type": "code",
      "source": [
        "# graph visualization\n",
        "mpl.rc('font', size=15)\n",
        "plt.figure(figsize=(7, 7))\n",
        "\n",
        "# pie graph\n",
        "plt.pie(train_df['label'].value_counts(), labels=label, autopct='%.1f%%')\n",
        "plt.show()"
      ],
      "metadata": {
        "colab": {
          "base_uri": "https://localhost:8080/",
          "height": 411
        },
        "id": "YD6PFeLT0xMw",
        "outputId": "849ef87c-f0a0-4f8b-9861-c4d30b61cab8"
      },
      "execution_count": 56,
      "outputs": [
        {
          "output_type": "display_data",
          "data": {
            "text/plain": [
              "<Figure size 504x504 with 1 Axes>"
            ],
            "image/png": "[encoded data removed]"
          },
          "metadata": {}
        }
      ]
    },
    {
      "cell_type": "code",
      "source": [
        "# graph visualization\n",
        "mpl.rc('font', size=15)\n",
        "plt.figure(figsize=(7, 7))\n",
        "\n",
        "# pie graph\n",
        "plt.pie(test_df['label'].value_counts(), labels=label, autopct='%.1f%%')\n",
        "plt.show()"
      ],
      "metadata": {
        "colab": {
          "base_uri": "https://localhost:8080/",
          "height": 411
        },
        "id": "2gn4NAPw3qin",
        "outputId": "d5819947-8ad6-4ada-f0db-0051ff2ec426"
      },
      "execution_count": 55,
      "outputs": [
        {
          "output_type": "display_data",
          "data": {
            "text/plain": [
              "<Figure size 504x504 with 1 Axes>"
            ],
            "image/png": "[encoded data removed]"
          },
          "metadata": {}
        }
      ]
    },
    {
      "cell_type": "code",
      "source": [
        "train, val = train_test_split(train_df, test_size=0.2, stratify=train_df['label'], random_state=42)"
      ],
      "metadata": {
        "id": "gbpefMvw3qk2"
      },
      "execution_count": 57,
      "outputs": []
    },
    {
      "cell_type": "code",
      "source": [
        "train.shape, val.shape"
      ],
      "metadata": {
        "colab": {
          "base_uri": "https://localhost:8080/"
        },
        "id": "yMHtRi_23qnM",
        "outputId": "45f10f30-ae3d-4a65-b04d-0bad0e14890f"
      },
      "execution_count": 58,
      "outputs": [
        {
          "output_type": "execute_result",
          "data": {
            "text/plain": [
              "((7506, 2), (1877, 2))"
            ]
          },
          "metadata": {},
          "execution_count": 58
        }
      ]
    },
    {
      "cell_type": "code",
      "source": [
        "# 데이터 종류에 맞게 ImageDataGenerator 객체 생성\n",
        "tr_gen = ImageDataGenerator(horizontal_flip=True, rescale=1/255., shear_range=0.2, zoom_range=0.2)\n",
        "val_gen = ImageDataGenerator(rescale=1/255.)\n",
        "test_gen = ImageDataGenerator(rescale=1/255.)\n",
        "\n",
        "# 데이터 종류에 맞는 Pandas.DataFrame으로부터 Numpy Array Iterator 생성\n",
        "tr_flow_gen = tr_gen.flow_from_dataframe(dataframe=train, x_col='path', y_col='label',\n",
        "                                        target_size=(256, 256), class_mode='sparse',\n",
        "                                        shuffle=True)\n",
        "val_flow_gen = val_gen.flow_from_dataframe(dataframe=val, x_col='path', y_col='label',\n",
        "                                          target_size=(256, 256), class_mode='sparse',\n",
        "                                          shuffle=False)\n",
        "test_flow_gen = test_gen.flow_from_dataframe(dataframe=test_df, x_col='path', y_col='label',\n",
        "                                            target_size=(256, 256), class_mode='sparse',\n",
        "                                            suffle=False)"
      ],
      "metadata": {
        "colab": {
          "base_uri": "https://localhost:8080/"
        },
        "id": "iFCd0Mzs3qpE",
        "outputId": "6605775b-e875-4ca9-fd99-1669cf42216b"
      },
      "execution_count": 99,
      "outputs": [
        {
          "output_type": "stream",
          "name": "stdout",
          "text": [
            "Found 7506 validated image filenames belonging to 10 classes.\n",
            "Found 1877 validated image filenames belonging to 10 classes.\n",
            "Found 1043 validated image filenames belonging to 10 classes.\n"
          ]
        }
      ]
    },
    {
      "cell_type": "code",
      "source": [
        "# baseline model 정의\n",
        "def create_bs_model(verbose=False):\n",
        "    bs_model = Sequential([\n",
        "                Conv2D(64, (5, 5), padding='same', activation='relu', input_shape=(256, 256, 3)),\n",
        "                MaxPooling2D(2, 2),\n",
        "                Conv2D(128, (3, 3), padding='same', activation='relu'),\n",
        "                Flatten(),\n",
        "                Dense(256, activation='relu'),\n",
        "                Dense(10, activation='softmax')\n",
        "    ])\n",
        "\n",
        "    if verbose:\n",
        "        bs_model.summary()\n",
        "\n",
        "    return bs_model"
      ],
      "metadata": {
        "id": "H2LuoE9O3qra"
      },
      "execution_count": 61,
      "outputs": []
    },
    {
      "cell_type": "code",
      "source": [
        "bs_model = create_bs_model(verbose=True)"
      ],
      "metadata": {
        "colab": {
          "base_uri": "https://localhost:8080/"
        },
        "id": "0rm6IKOq3qtw",
        "outputId": "68bbfda1-2168-4434-90d0-38fd3fb94c65"
      },
      "execution_count": 62,
      "outputs": [
        {
          "output_type": "stream",
          "name": "stdout",
          "text": [
            "Model: \"sequential\"\n",
            "_________________________________________________________________\n",
            " Layer (type)                Output Shape              Param #   \n",
            "=================================================================\n",
            " conv2d (Conv2D)             (None, 256, 256, 64)      4864      \n",
            "                                                                 \n",
            " max_pooling2d (MaxPooling2D  (None, 128, 128, 64)     0         \n",
            " )                                                               \n",
            "                                                                 \n",
            " conv2d_1 (Conv2D)           (None, 128, 128, 128)     73856     \n",
            "                                                                 \n",
            " flatten (Flatten)           (None, 2097152)           0         \n",
            "                                                                 \n",
            " dense (Dense)               (None, 256)               536871168 \n",
            "                                                                 \n",
            " dense_1 (Dense)             (None, 10)                2570      \n",
            "                                                                 \n",
            "=================================================================\n",
            "Total params: 536,952,458\n",
            "Trainable params: 536,952,458\n",
            "Non-trainable params: 0\n",
            "_________________________________________________________________\n"
          ]
        }
      ]
    },
    {
      "cell_type": "code",
      "source": [
        "bs_model.compile(optimizer=Adam(lr=0.0001), \n",
        "              loss='sparse_categorical_crossentropy', \n",
        "              metrics=['accuracy'])"
      ],
      "metadata": {
        "colab": {
          "base_uri": "https://localhost:8080/"
        },
        "id": "noVB8tYr3qwI",
        "outputId": "ad8b9769-6524-4681-cc9a-c68679ee75bc"
      },
      "execution_count": 63,
      "outputs": [
        {
          "output_type": "stream",
          "name": "stderr",
          "text": [
            "/usr/local/lib/python3.7/dist-packages/keras/optimizer_v2/adam.py:105: UserWarning: The `lr` argument is deprecated, use `learning_rate` instead.\n",
            "  super(Adam, self).__init__(name, **kwargs)\n"
          ]
        }
      ]
    },
    {
      "cell_type": "code",
      "source": [
        "tqdm_callback = tfa.callbacks.TQDMProgressBar()\n",
        "\n",
        "bs_model.fit(tr_flow_gen, epochs=1, validation_data=val_flow_gen, callbacks=[tqdm_callback])"
      ],
      "metadata": {
        "colab": {
          "base_uri": "https://localhost:8080/",
          "height": 153,
          "referenced_widgets": [
            "0f9c083bd71e44698ebed6f4bf10b3ec",
            "b8df5ed6eee144f4889f0b10178af59f",
            "0133037c6b41459e82e8860c7c0ff040",
            "fda99a628f724e80b96e5c4df49e4d64",
            "8abd7c28186c42c4b4b2fda0a6ded4e9",
            "2a6de7400d8549edaba98c3889769e1c",
            "da21ce87e97c404f8c662c65fdb18ba5",
            "88df5406ccf440368b4c3d7119a17a62",
            "5966dd9f688140239238d4eca9a89624",
            "b4a155165ef34dc0b52798d293ec2a17",
            "21f2a689ad554e26aab0c1842abbf7c8",
            "d68fce5112df4d9298e2d0c1d590e0c1",
            "7d21336f888d4035af7be95464026893",
            "21d44fb0aeb243c9a6f220ce321edb92",
            "5893beede133421cb5d52b9bb9bac715",
            "2649cc4715fc4bfaa7950499504c3850",
            "d07c620f89a84aaba364f122b092ac9d",
            "c080d49bd6b24b1ba5acef53bd7ef8cb",
            "ba0e39b414c7478e94d3e1024cc5bc93",
            "8a70c201424a452d8f15a10a5f724737",
            "dda07ee032284eebbd2fe022a90df41f",
            "86ba09e5405142659e336f301b04c3ec"
          ]
        },
        "id": "s7CsT4K43qyc",
        "outputId": "433f6e46-a968-4656-bfd6-1c25450a88d5"
      },
      "execution_count": 69,
      "outputs": [
        {
          "output_type": "display_data",
          "data": {
            "text/plain": [
              "Training:   0%|           0/1 ETA: ?s,  ?epochs/s"
            ],
            "application/vnd.jupyter.widget-view+json": {
              "version_major": 2,
              "version_minor": 0,
              "model_id": "0f9c083bd71e44698ebed6f4bf10b3ec"
            }
          },
          "metadata": {}
        },
        {
          "output_type": "stream",
          "name": "stdout",
          "text": [
            "Epoch 1/1\n"
          ]
        },
        {
          "output_type": "display_data",
          "data": {
            "text/plain": [
              "0/118           ETA: ?s - "
            ],
            "application/vnd.jupyter.widget-view+json": {
              "version_major": 2,
              "version_minor": 0,
              "model_id": "d68fce5112df4d9298e2d0c1d590e0c1"
            }
          },
          "metadata": {}
        },
        {
          "output_type": "stream",
          "name": "stdout",
          "text": [
            "118/118 [==============================] - 3745s 32s/step - loss: 1.9498 - accuracy: 0.3119 - val_loss: 1.7800 - val_accuracy: 0.3863\n"
          ]
        },
        {
          "output_type": "execute_result",
          "data": {
            "text/plain": [
              "<keras.callbacks.History at 0x7fc15e3463d0>"
            ]
          },
          "metadata": {},
          "execution_count": 69
        }
      ]
    },
    {
      "cell_type": "code",
      "source": [
        "bs_model.evaluate(test_flow_gen)"
      ],
      "metadata": {
        "colab": {
          "base_uri": "https://localhost:8080/"
        },
        "id": "iBPPxNxM5Oe_",
        "outputId": "f590c635-e946-44bb-a6d8-8b1613549f54"
      },
      "execution_count": 70,
      "outputs": [
        {
          "output_type": "stream",
          "name": "stdout",
          "text": [
            "17/17 [==============================] - 459s 29s/step - loss: 1.7540 - accuracy: 0.3941\n"
          ]
        },
        {
          "output_type": "execute_result",
          "data": {
            "text/plain": [
              "[1.7539544105529785, 0.3940556049346924]"
            ]
          },
          "metadata": {},
          "execution_count": 70
        }
      ]
    },
    {
      "cell_type": "code",
      "source": [
        ""
      ],
      "metadata": {
        "id": "Hr-raSegJ8J9"
      },
      "execution_count": null,
      "outputs": []
    },
    {
      "cell_type": "code",
      "source": [
        ""
      ],
      "metadata": {
        "id": "mrmkLbarJ8Me"
      },
      "execution_count": null,
      "outputs": []
    },
    {
      "cell_type": "code",
      "source": [
        ""
      ],
      "metadata": {
        "id": "3GvxdeUfJ8Pg"
      },
      "execution_count": null,
      "outputs": []
    },
    {
      "cell_type": "code",
      "source": [
        "# 사전학습 모델 사용\n",
        "\n",
        "pretrained_model = VGG16(weights='imagenet', include_top=False)"
      ],
      "metadata": {
        "colab": {
          "base_uri": "https://localhost:8080/"
        },
        "id": "zGZN6tMU5OhS",
        "outputId": "62f04624-79d8-4f6f-f803-426a3be8777e"
      },
      "execution_count": 74,
      "outputs": [
        {
          "output_type": "stream",
          "name": "stdout",
          "text": [
            "Downloading data from https://storage.googleapis.com/tensorflow/keras-applications/vgg16/vgg16_weights_tf_dim_ordering_tf_kernels_notop.h5\n",
            "58892288/58889256 [==============================] - 1s 0us/step\n",
            "58900480/58889256 [==============================] - 1s 0us/step\n"
          ]
        }
      ]
    },
    {
      "cell_type": "code",
      "source": [
        "# 사전 학습 모델 위에 완전 연결 신경망 추가\n",
        "# VGG\n",
        "\n",
        "model_vgg = Sequential()\n",
        "model_vgg.add(pretrained_model)\n",
        "model_vgg.add(GlobalAveragePooling2D())\n",
        "model_vgg.add(Dense(128,activation='relu'))\n",
        "model_vgg.add(Dense(10,activation='softmax'))\n",
        "\n",
        "model_vgg.summary()"
      ],
      "metadata": {
        "colab": {
          "base_uri": "https://localhost:8080/"
        },
        "id": "b55q88VA5OkF",
        "outputId": "61643eda-65a4-4e3d-c0c8-b2e9efb5249e"
      },
      "execution_count": 100,
      "outputs": [
        {
          "output_type": "stream",
          "name": "stdout",
          "text": [
            "Model: \"sequential_3\"\n",
            "_________________________________________________________________\n",
            " Layer (type)                Output Shape              Param #   \n",
            "=================================================================\n",
            " vgg16 (Functional)          (None, None, None, 512)   14714688  \n",
            "                                                                 \n",
            " global_average_pooling2d_1   (None, 512)              0         \n",
            " (GlobalAveragePooling2D)                                        \n",
            "                                                                 \n",
            " dense_6 (Dense)             (None, 128)               65664     \n",
            "                                                                 \n",
            " dense_7 (Dense)             (None, 10)                1290      \n",
            "                                                                 \n",
            "=================================================================\n",
            "Total params: 14,781,642\n",
            "Trainable params: 14,781,642\n",
            "Non-trainable params: 0\n",
            "_________________________________________________________________\n"
          ]
        }
      ]
    },
    {
      "cell_type": "code",
      "source": [
        "model_vgg.compile(optimizer='adam',\n",
        "              loss='sparse_categorical_crossentropy',\n",
        "              metrics=['accuracy'])"
      ],
      "metadata": {
        "id": "IXyqX0cc3q0Z"
      },
      "execution_count": 101,
      "outputs": []
    },
    {
      "cell_type": "code",
      "source": [
        "model_vgg.fit(tr_flow_gen,\n",
        "          validation_data=val_flow_gen,\n",
        "          callbacks=[tqdm_callback],\n",
        "          epochs=10)"
      ],
      "metadata": {
        "colab": {
          "base_uri": "https://localhost:8080/",
          "height": 927,
          "referenced_widgets": [
            "3098e0eff1a948918ca1c378b9e1cce6",
            "99e5621e5e7c485e8a33b857ecfc17e8",
            "bc2aa0c9b3a04ed5a8b97a0e953abef5",
            "6113e1cb5fd5485eb7da14e16e1412b6",
            "007e39bec8c649b29d2f71b960d57d61",
            "dcdf2838d0db48c8b8d223af6096b417",
            "6c1ff2a37f0544b4924fb68e00157365",
            "ae88a51bc2bd463c960c2b7fb3dc911a",
            "a68b9df83c0745d5b39a2759248f3263",
            "9e79c7b1ea6c418a867cbbb191650419",
            "368aa9e90841461eac7d2d9aaa83b45e",
            "e0de3f0c6b314109bd4774ae16f376f3",
            "747bb33af8e7403aad8de24023af37ba",
            "7c923c6b6bbd483c821563bfd5b35c6a",
            "be8da7070ff041478eec5e091dc723f3",
            "6ad836c9465241a1b2af0e5ae9d45a3b",
            "3d5196c76a794bc79570f9ea5d2ddfc1",
            "c1971fc13e1f49e0bf983c8b25cfc4a7",
            "03ac795b20f04c5bbe559d3819522007",
            "fce573cb2ac140979efdd9d546edb836",
            "6e91ae91bc104b958b73949eb21ea517",
            "61bdbf7481b14a8bb880630baa2e92a1",
            "28e7b91046a74b269725f38bfd50f4bd",
            "5a88b31c50f747d5a83f604f65073be7",
            "5eee6a1b6c4442c58d5cda25f50a105a",
            "32877fed272b4ea2a0a31797b6e613b0",
            "a96b6b2f2645494ba47a4526c2920de8",
            "adfe6249fc5546f58505f999f8be8ee4",
            "e8145fb7bcb549418aeba094360a01e6",
            "813ade6dd62d4498b4c0c4507737da63",
            "54c85a9f007c4c37972d065cf199b257",
            "fa8c0b30829444679775313e554ba46c",
            "27e4e0c051d24551a00f2ae676b69485",
            "2a906c6af06e47bf91fbde5087c9ac2d",
            "4a0141c4c66d4e60948d8614f9aa55e9",
            "231df0f60f78422b98bdf274922905f9",
            "31eebc2b7ceb4ffb8dfc5130a25de811",
            "db98d898a50949f38d4b01268fed26f7",
            "b6414e82a7074852a158fc8004324b1b",
            "5e2e63dd76664693b65c1f8a820e4414",
            "81a98243345141c1b1fd353345f5a6b1",
            "1266207a51624b6ab4ab787e2f2cecdd",
            "3f1f834a466e400eb10482c95c1664b0",
            "798514f9671343eaa958048dc4043ec3",
            "7f7db8562a9646feb033e45f99adefcb",
            "2c9cb1569a5744eab7ad8a728ffba670",
            "acba50cd81184f1d92e07f91a0c1b60f",
            "44db8799946b400c95b57a71c6a3ca96",
            "6dea3045f3684b2b86e942b710fa0385",
            "646bbf483c72409491272882ed568834",
            "772b371e805d4bc99d930f8801f59da3",
            "8859aa8e91e1402e8eaa5ae0991aa3e9",
            "15f6be5203cd46cfbddde6407bcc4328",
            "20d40e93a8414b6987fe5e6d1afc6fd0",
            "f546f07e753a47ac9bf5ad74dece8601",
            "550554080d1140398b326e51e0632ee0",
            "96599da801644eb0b2f14991e3594b00",
            "1bff5c00570647739713acef0321ed31",
            "1e8a8d81cde946389193b093525e5a9f",
            "43ec9a22a0c04f94b2b530c6ebeb049f",
            "0565c6f69d194e61acb2cf96a335c266",
            "d5c17c4b0f614d23884c84969507df34",
            "3e33f77857dd45e7bb2e7edd1b4d010c",
            "2fe7c5e6e496424ba3229e04de3eddd9",
            "11c7b44ec7d5440c9b975efb47d3c167",
            "559a27984f0b41749cba70b2a5b205fe",
            "910ac4f8912d43eca1a41e3def77d949",
            "b31e6d9c9bb146d79063e842bd8178df",
            "4ee3b7f86979499db067f6d9cc7efc65",
            "7067c06919c04891b589304a5dc3e616",
            "913191ff8283492485f0e5ecd26814f8",
            "f0046cae82d34754ac7bef385c71e1ff",
            "9cf43423732349438fc04bc2b9e4432a",
            "ebf7cc9260be4015ae0e4643eda4d806",
            "622ca28f7f1e4ee59d03693b0d3f3d37",
            "66e0476d6a5d480eb0eb68236c3981ca",
            "7c775ac51cf14dc296133226c34204af",
            "c9ef22f44825491393e87d1d34fa63f8",
            "c5eeb6bd3c6841a5a3c71c8279ee7b4e",
            "2fbcab1241314ab79aa454dd57790868",
            "c33cf350f1154e3292c42da58e780e93",
            "e54c534c1c1f453f8f7b07f3bca677e8",
            "6f23e7a0475f4425a94db1419d88fb4d",
            "7f83a5a5add24ca39ad19b54977ffe8a",
            "bc086efcaad04e0882c24085d877d3cc",
            "841038066da349b2a17efce812a194a5",
            "9d63f228706e42ffbd487a110e6cc4b2",
            "5d07db9527f64ea2a5dbdb4611c68064",
            "c7b5a79969624e608a6cbe252ab50b22",
            "1b4104968d9241e5bcec0ddc0e79d31d",
            "9d001a6a770343a191410abd95b9e1b0",
            "b5fe2cd9583c46b0a7bd7ea35010988f",
            "9748cc457ce64bbcbcf7e244772e1a5b",
            "55409bab416841c0b0bc826b42ecf415",
            "af359d78bcd244e0b1b482fdcf356586",
            "922fba23a54f47819d5b15b2513a3d5d",
            "8fe0c5bd1d364cf1aa45ba0eb165c00a",
            "12fbadf586984bc99b2fe223029af2bd",
            "357f0259a64848f98ed120d8b750cd79",
            "9c903bf3edd34d89949330c229fa61e0",
            "e038a55b4d624c578e0004e98f52b064",
            "4f83cd49fb564b8a9ae1b5cbd2763fc0",
            "874931e37265458095dfd4d140293b97",
            "76214764ebe346ebb45cf6f9c6ecf0a2",
            "c9d88e9e240f4296924a41f71488e57f",
            "595dfebf95614c908d4cc685bf526575",
            "71fa9c06578b4ec09539cba2eecc164b",
            "d4be193459cb47c4b7e7fff4f0b9d001",
            "0f19bee9b8e24e9c9ec4aae6aae920b3",
            "bef3c6dab50b46bb91a0c5bc9844fd3d",
            "52df0b70003c4cd4806b18fb0431c508",
            "feaa2bd91a3b4169ad50a192e32cd0dd",
            "7bac6cb658574a22beaae5e133fd1af0",
            "1c56cd3473a64958b4511601d4a89b34",
            "5f5a9f5af6164e448f7b39cc3e346753",
            "c7af05cbd9b4411788f1c1dafc692c5e",
            "d47e43578e224fbbbcb68dd2bdafb552",
            "52a9fd70e0754b9ea3fbc9c400f765a3",
            "e9266ceac512430ba70082978cd310c1",
            "8150ff07248e4583a63b7b58ddadb225",
            "16a94b4e6cfd4a0998c5a6fd5a8483d7"
          ]
        },
        "id": "Oj93PgVHgLrT",
        "outputId": "3ae9a0d3-724c-45b5-a718-b7ec7d2d71db"
      },
      "execution_count": 103,
      "outputs": [
        {
          "output_type": "display_data",
          "data": {
            "text/plain": [
              "Training:   0%|           0/10 ETA: ?s,  ?epochs/s"
            ],
            "application/vnd.jupyter.widget-view+json": {
              "version_major": 2,
              "version_minor": 0,
              "model_id": "3098e0eff1a948918ca1c378b9e1cce6"
            }
          },
          "metadata": {}
        },
        {
          "output_type": "stream",
          "name": "stdout",
          "text": [
            "Epoch 1/10\n"
          ]
        },
        {
          "output_type": "display_data",
          "data": {
            "text/plain": [
              "0/235           ETA: ?s - "
            ],
            "application/vnd.jupyter.widget-view+json": {
              "version_major": 2,
              "version_minor": 0,
              "model_id": "e0de3f0c6b314109bd4774ae16f376f3"
            }
          },
          "metadata": {}
        },
        {
          "output_type": "stream",
          "name": "stdout",
          "text": [
            "Epoch 1/10\n",
            "235/235 [==============================] - 205s 869ms/step - loss: 2.1059 - accuracy: 0.2225 - val_loss: 1.9944 - val_accuracy: 0.2552\n",
            "Epoch 2/10\n"
          ]
        },
        {
          "output_type": "display_data",
          "data": {
            "text/plain": [
              "0/235           ETA: ?s - "
            ],
            "application/vnd.jupyter.widget-view+json": {
              "version_major": 2,
              "version_minor": 0,
              "model_id": "28e7b91046a74b269725f38bfd50f4bd"
            }
          },
          "metadata": {}
        },
        {
          "output_type": "stream",
          "name": "stdout",
          "text": [
            "Epoch 2/10\n",
            "235/235 [==============================] - 204s 868ms/step - loss: 1.9312 - accuracy: 0.3002 - val_loss: 1.7249 - val_accuracy: 0.3980\n",
            "Epoch 3/10\n"
          ]
        },
        {
          "output_type": "display_data",
          "data": {
            "text/plain": [
              "0/235           ETA: ?s - "
            ],
            "application/vnd.jupyter.widget-view+json": {
              "version_major": 2,
              "version_minor": 0,
              "model_id": "2a906c6af06e47bf91fbde5087c9ac2d"
            }
          },
          "metadata": {}
        },
        {
          "output_type": "stream",
          "name": "stdout",
          "text": [
            "Epoch 3/10\n",
            "235/235 [==============================] - 203s 864ms/step - loss: 1.6492 - accuracy: 0.4334 - val_loss: 1.5683 - val_accuracy: 0.4566\n",
            "Epoch 4/10\n"
          ]
        },
        {
          "output_type": "display_data",
          "data": {
            "text/plain": [
              "0/235           ETA: ?s - "
            ],
            "application/vnd.jupyter.widget-view+json": {
              "version_major": 2,
              "version_minor": 0,
              "model_id": "7f7db8562a9646feb033e45f99adefcb"
            }
          },
          "metadata": {}
        },
        {
          "output_type": "stream",
          "name": "stdout",
          "text": [
            "Epoch 4/10\n",
            "235/235 [==============================] - 204s 866ms/step - loss: 1.4996 - accuracy: 0.4840 - val_loss: 1.4372 - val_accuracy: 0.5147\n",
            "Epoch 5/10\n"
          ]
        },
        {
          "output_type": "display_data",
          "data": {
            "text/plain": [
              "0/235           ETA: ?s - "
            ],
            "application/vnd.jupyter.widget-view+json": {
              "version_major": 2,
              "version_minor": 0,
              "model_id": "550554080d1140398b326e51e0632ee0"
            }
          },
          "metadata": {}
        },
        {
          "output_type": "stream",
          "name": "stdout",
          "text": [
            "Epoch 5/10\n",
            "235/235 [==============================] - 205s 870ms/step - loss: 1.4024 - accuracy: 0.5147 - val_loss: 1.3316 - val_accuracy: 0.5466\n",
            "Epoch 6/10\n"
          ]
        },
        {
          "output_type": "display_data",
          "data": {
            "text/plain": [
              "0/235           ETA: ?s - "
            ],
            "application/vnd.jupyter.widget-view+json": {
              "version_major": 2,
              "version_minor": 0,
              "model_id": "910ac4f8912d43eca1a41e3def77d949"
            }
          },
          "metadata": {}
        },
        {
          "output_type": "stream",
          "name": "stdout",
          "text": [
            "Epoch 6/10\n",
            "235/235 [==============================] - 205s 873ms/step - loss: 1.3459 - accuracy: 0.5334 - val_loss: 1.3234 - val_accuracy: 0.5445\n",
            "Epoch 7/10\n"
          ]
        },
        {
          "output_type": "display_data",
          "data": {
            "text/plain": [
              "0/235           ETA: ?s - "
            ],
            "application/vnd.jupyter.widget-view+json": {
              "version_major": 2,
              "version_minor": 0,
              "model_id": "c9ef22f44825491393e87d1d34fa63f8"
            }
          },
          "metadata": {}
        },
        {
          "output_type": "stream",
          "name": "stdout",
          "text": [
            "Epoch 7/10\n",
            "235/235 [==============================] - 206s 874ms/step - loss: 1.2743 - accuracy: 0.5549 - val_loss: 1.2722 - val_accuracy: 0.5743\n",
            "Epoch 8/10\n"
          ]
        },
        {
          "output_type": "display_data",
          "data": {
            "text/plain": [
              "0/235           ETA: ?s - "
            ],
            "application/vnd.jupyter.widget-view+json": {
              "version_major": 2,
              "version_minor": 0,
              "model_id": "c7b5a79969624e608a6cbe252ab50b22"
            }
          },
          "metadata": {}
        },
        {
          "output_type": "stream",
          "name": "stdout",
          "text": [
            "Epoch 8/10\n",
            "235/235 [==============================] - 208s 882ms/step - loss: 1.2788 - accuracy: 0.5596 - val_loss: 1.4669 - val_accuracy: 0.5535\n",
            "Epoch 9/10\n"
          ]
        },
        {
          "output_type": "display_data",
          "data": {
            "text/plain": [
              "0/235           ETA: ?s - "
            ],
            "application/vnd.jupyter.widget-view+json": {
              "version_major": 2,
              "version_minor": 0,
              "model_id": "9c903bf3edd34d89949330c229fa61e0"
            }
          },
          "metadata": {}
        },
        {
          "output_type": "stream",
          "name": "stdout",
          "text": [
            "Epoch 9/10\n",
            "235/235 [==============================] - 207s 879ms/step - loss: 1.2561 - accuracy: 0.5581 - val_loss: 1.2461 - val_accuracy: 0.5850\n",
            "Epoch 10/10\n"
          ]
        },
        {
          "output_type": "display_data",
          "data": {
            "text/plain": [
              "0/235           ETA: ?s - "
            ],
            "application/vnd.jupyter.widget-view+json": {
              "version_major": 2,
              "version_minor": 0,
              "model_id": "52df0b70003c4cd4806b18fb0431c508"
            }
          },
          "metadata": {}
        },
        {
          "output_type": "stream",
          "name": "stdout",
          "text": [
            "Epoch 10/10\n",
            "235/235 [==============================] - 204s 865ms/step - loss: 1.1854 - accuracy: 0.5889 - val_loss: 1.1485 - val_accuracy: 0.6201\n"
          ]
        },
        {
          "output_type": "execute_result",
          "data": {
            "text/plain": [
              "<keras.callbacks.History at 0x7fbf47175f10>"
            ]
          },
          "metadata": {},
          "execution_count": 103
        }
      ]
    },
    {
      "cell_type": "code",
      "source": [
        "model_vgg.evaluate(test_flow_gen)"
      ],
      "metadata": {
        "colab": {
          "base_uri": "https://localhost:8080/"
        },
        "id": "7w17UDBdKKIz",
        "outputId": "c3e7c875-6b93-4c4d-9aed-28e4e88e9452"
      },
      "execution_count": 104,
      "outputs": [
        {
          "output_type": "stream",
          "name": "stdout",
          "text": [
            "33/33 [==============================] - 11s 319ms/step - loss: 1.0634 - accuracy: 0.6232\n"
          ]
        },
        {
          "output_type": "execute_result",
          "data": {
            "text/plain": [
              "[1.0634433031082153, 0.6232023239135742]"
            ]
          },
          "metadata": {},
          "execution_count": 104
        }
      ]
    },
    {
      "cell_type": "code",
      "source": [
        ""
      ],
      "metadata": {
        "id": "Bqv1aJZyNoeI"
      },
      "execution_count": null,
      "outputs": []
    },
    {
      "cell_type": "code",
      "source": [
        "# 사전 학습 모델 U-net\n",
        "\n",
        "OUTPUT_CHANNELS=3\n",
        "\n",
        "\n",
        "model_unet = tf.keras.applications.ResNet50(input_shape=[256, 256, 3], include_top=False)\n",
        "\n",
        "layer_names = [\n",
        "    'conv1_relu', # 64x64\n",
        "    'conv2_block3_out', # 32x32 \n",
        "    'conv3_block4_out', # 16x16\n",
        "    'conv4_block6_out',  # 8x8\n",
        "    'conv5_block3_out',      # 4x4\n",
        "]\n",
        "layers = [model_unet.get_layer(name).output for name in layer_names]\n",
        "\n",
        "\n",
        "down_stack = tf.keras.Model(inputs=model_unet.input, outputs=layers)\n",
        "\n",
        "down_stack.trainable = False"
      ],
      "metadata": {
        "id": "GAp4y_CPKKLF"
      },
      "execution_count": null,
      "outputs": []
    },
    {
      "cell_type": "code",
      "source": [
        "up_stack = [\n",
        "    pix2pix.upsample(512, 3),  # 4x4 -> 8x8\n",
        "    pix2pix.upsample(256, 3),  # 8x8 -> 16x16\n",
        "    pix2pix.upsample(128, 3),  # 16x16 -> 32x32\n",
        "    pix2pix.upsample(64, 3),   # 32x32 -> 64x64\n",
        "]"
      ],
      "metadata": {
        "id": "4C6AtGnwLYsm"
      },
      "execution_count": null,
      "outputs": []
    },
    {
      "cell_type": "code",
      "source": [
        "def resnet_model(output_channels):\n",
        "    \"\"\"\n",
        "    모델을 정의하는 함수입니다.\n",
        "    \"\"\"\n",
        "    inputs = tf.keras.layers.Input(shape=[256, 256, 3])\n",
        "    x = inputs\n",
        "\n",
        "    # Downsampling을 진행하는 부분입니다.\n",
        "    skips = down_stack(x)\n",
        "    x = skips[-1]\n",
        "    skips = reversed(skips[:-1])\n",
        "\n",
        "    # Upsampling을 진행하는 부분입니다.\n",
        "    for up, skip in zip(up_stack, skips):\n",
        "        x = up(x)\n",
        "        # Downsampling 결과를 Concatenate 해줍니다.\n",
        "        concat = tf.keras.layers.Concatenate()\n",
        "        x = concat([x, skip])\n",
        "\n",
        "    # 출력되는 이미지 크기를 동일하게 하기 위해 마지막 층을 구현합니다.\n",
        "    last = tf.keras.layers.Conv2DTranspose(\n",
        "        output_channels, 3, strides=2,\n",
        "        padding='same')  #64x64 -> 128x128\n",
        "\n",
        "    x = last(x)\n",
        "\n",
        "    return tf.keras.Model(inputs=inputs, outputs=x)"
      ],
      "metadata": {
        "id": "hP_waFxeLYxr"
      },
      "execution_count": null,
      "outputs": []
    },
    {
      "cell_type": "code",
      "source": [
        "model_resnet = resnet_model(OUTPUT_CHANNELS)"
      ],
      "metadata": {
        "id": "QDI-pFVRMJD8"
      },
      "execution_count": null,
      "outputs": []
    },
    {
      "cell_type": "code",
      "source": [
        "model_resnet.compile(optimizer='adam',\n",
        "              loss=tf.keras.losses.SparseCategoricalCrossentropy(from_logits=True),\n",
        "              metrics=['accuracy'])"
      ],
      "metadata": {
        "id": "hyvUiYP6MNG5"
      },
      "execution_count": null,
      "outputs": []
    },
    {
      "cell_type": "code",
      "source": [
        "model_resnet.summary()"
      ],
      "metadata": {
        "id": "8a0t8_iWMVQO"
      },
      "execution_count": null,
      "outputs": []
    },
    {
      "cell_type": "code",
      "source": [
        "model_resnet.fit(tr_flow_gen,\n",
        "          batch_size=128,\n",
        "          validation_data=val_flow_gen,\n",
        "          callbacks=[tqdm_callback],\n",
        "          epochs=2)"
      ],
      "metadata": {
        "id": "v1CNNkKYMbFw"
      },
      "execution_count": null,
      "outputs": []
    },
    {
      "cell_type": "code",
      "source": [
        ""
      ],
      "metadata": {
        "id": "0VZEoDmPQAoa"
      },
      "execution_count": null,
      "outputs": []
    },
    {
      "cell_type": "code",
      "source": [
        ""
      ],
      "metadata": {
        "id": "m6zpSJrRQArM"
      },
      "execution_count": null,
      "outputs": []
    },
    {
      "cell_type": "code",
      "source": [
        ""
      ],
      "metadata": {
        "id": "cAmTgyV9QAtw"
      },
      "execution_count": null,
      "outputs": []
    },
    {
      "cell_type": "code",
      "source": [
        ""
      ],
      "metadata": {
        "id": "mW_ojs7qQAvp"
      },
      "execution_count": null,
      "outputs": []
    },
    {
      "cell_type": "code",
      "source": [
        "from tensorflow.keras.datasets import cifar10\n",
        "\n",
        "\n",
        "\n",
        "(X_train, y_train), (X_test, y_test) = cifar10.load_data()"
      ],
      "metadata": {
        "colab": {
          "base_uri": "https://localhost:8080/"
        },
        "id": "yNHTJXaJQAx-",
        "outputId": "090d21e4-cf32-4646-e64e-71913564e16c"
      },
      "execution_count": 82,
      "outputs": [
        {
          "output_type": "stream",
          "name": "stdout",
          "text": [
            "Downloading data from https://www.cs.toronto.edu/~kriz/cifar-10-python.tar.gz\n",
            "170500096/170498071 [==============================] - 6s 0us/step\n",
            "170508288/170498071 [==============================] - 6s 0us/step\n"
          ]
        }
      ]
    },
    {
      "cell_type": "code",
      "source": [
        "X_train.shape"
      ],
      "metadata": {
        "colab": {
          "base_uri": "https://localhost:8080/"
        },
        "id": "A2bimwzSQDyc",
        "outputId": "981c43f1-2617-4ea7-d680-48b1eb0db4ee"
      },
      "execution_count": 83,
      "outputs": [
        {
          "output_type": "execute_result",
          "data": {
            "text/plain": [
              "(50000, 32, 32, 3)"
            ]
          },
          "metadata": {},
          "execution_count": 83
        }
      ]
    },
    {
      "cell_type": "code",
      "source": [
        "y_train.shape"
      ],
      "metadata": {
        "colab": {
          "base_uri": "https://localhost:8080/"
        },
        "id": "vxsqUlPRQGVi",
        "outputId": "e3ceffaa-ced1-4434-af7b-05e7ea51e772"
      },
      "execution_count": 84,
      "outputs": [
        {
          "output_type": "execute_result",
          "data": {
            "text/plain": [
              "(50000, 1)"
            ]
          },
          "metadata": {},
          "execution_count": 84
        }
      ]
    },
    {
      "cell_type": "code",
      "source": [
        "a, b = tr_flow_gen.next()"
      ],
      "metadata": {
        "id": "BtFWw6kgQSIr"
      },
      "execution_count": 91,
      "outputs": []
    },
    {
      "cell_type": "code",
      "source": [
        "a.shape"
      ],
      "metadata": {
        "colab": {
          "base_uri": "https://localhost:8080/"
        },
        "id": "CkcG_4MCQZB2",
        "outputId": "f5e08e7d-7516-4030-fd4b-c3f70e693c68"
      },
      "execution_count": 92,
      "outputs": [
        {
          "output_type": "execute_result",
          "data": {
            "text/plain": [
              "(32, 256, 256, 3)"
            ]
          },
          "metadata": {},
          "execution_count": 92
        }
      ]
    },
    {
      "cell_type": "code",
      "source": [
        "b.shape"
      ],
      "metadata": {
        "colab": {
          "base_uri": "https://localhost:8080/"
        },
        "id": "qNLFmV4wQZ2y",
        "outputId": "d2d01b86-958f-475a-9797-02eeb6450235"
      },
      "execution_count": 87,
      "outputs": [
        {
          "output_type": "execute_result",
          "data": {
            "text/plain": [
              "(64,)"
            ]
          },
          "metadata": {},
          "execution_count": 87
        }
      ]
    },
    {
      "cell_type": "code",
      "source": [
        "a"
      ],
      "metadata": {
        "colab": {
          "base_uri": "https://localhost:8080/"
        },
        "id": "k5pVToKZQaSb",
        "outputId": "698a1d82-dfb7-47b8-bbd2-40e948a7444f"
      },
      "execution_count": 88,
      "outputs": [
        {
          "output_type": "execute_result",
          "data": {
            "text/plain": [
              "array([[[[0.16470589, 0.20392159, 0.        ],\n",
              "         [0.2509804 , 0.39607847, 0.03137255],\n",
              "         [0.6431373 , 0.8313726 , 0.19607845],\n",
              "         ...,\n",
              "         [0.94117653, 0.9725491 , 0.06666667],\n",
              "         [0.62352943, 0.7019608 , 0.        ],\n",
              "         [0.41176474, 0.49411768, 0.03529412]],\n",
              "\n",
              "        [[0.15686275, 0.20392159, 0.        ],\n",
              "         [0.1137255 , 0.2392157 , 0.        ],\n",
              "         [0.39607847, 0.5686275 , 0.        ],\n",
              "         ...,\n",
              "         [0.9607844 , 0.9960785 , 0.05882353],\n",
              "         [0.7568628 , 0.8431373 , 0.03921569],\n",
              "         [0.41960788, 0.5019608 , 0.        ]],\n",
              "\n",
              "        [[0.12156864, 0.19215688, 0.        ],\n",
              "         [0.15686275, 0.24313727, 0.09019608],\n",
              "         [0.21176472, 0.3254902 , 0.        ],\n",
              "         ...,\n",
              "         [0.909804  , 0.9568628 , 0.        ],\n",
              "         [0.8235295 , 0.91372555, 0.01176471],\n",
              "         [0.5294118 , 0.62352943, 0.        ]],\n",
              "\n",
              "        ...,\n",
              "\n",
              "        [[0.15294118, 0.24705884, 0.0509804 ],\n",
              "         [0.0627451 , 0.15686275, 0.        ],\n",
              "         [0.08627451, 0.1764706 , 0.00392157],\n",
              "         ...,\n",
              "         [0.01568628, 0.02352941, 0.01176471],\n",
              "         [0.02745098, 0.03529412, 0.02352941],\n",
              "         [0.03137255, 0.03921569, 0.02745098]],\n",
              "\n",
              "        [[0.3254902 , 0.41960788, 0.22352943],\n",
              "         [0.05490196, 0.14901961, 0.        ],\n",
              "         [0.06666667, 0.15686275, 0.        ],\n",
              "         ...,\n",
              "         [0.02352941, 0.03137255, 0.01960784],\n",
              "         [0.01176471, 0.01960784, 0.00784314],\n",
              "         [0.07843138, 0.08627451, 0.07450981]],\n",
              "\n",
              "        [[0.19607845, 0.2901961 , 0.08627451],\n",
              "         [0.1254902 , 0.21960786, 0.03137255],\n",
              "         [0.12941177, 0.21960786, 0.04705883],\n",
              "         ...,\n",
              "         [0.01960784, 0.02745098, 0.01568628],\n",
              "         [0.01960784, 0.02745098, 0.01568628],\n",
              "         [0.0627451 , 0.07058824, 0.05882353]]],\n",
              "\n",
              "\n",
              "       [[[0.32156864, 0.33333334, 0.2509804 ],\n",
              "         [0.34509805, 0.36862746, 0.23529413],\n",
              "         [0.3019608 , 0.31764707, 0.21960786],\n",
              "         ...,\n",
              "         [0.5372549 , 0.57254905, 0.45098042],\n",
              "         [0.52156866, 0.53333336, 0.4901961 ],\n",
              "         [0.5058824 , 0.53333336, 0.41176474]],\n",
              "\n",
              "        [[0.3529412 , 0.38823533, 0.26666668],\n",
              "         [0.31764707, 0.36078432, 0.20392159],\n",
              "         [0.3019608 , 0.3372549 , 0.21568629],\n",
              "         ...,\n",
              "         [0.52156866, 0.5529412 , 0.40784317],\n",
              "         [0.5372549 , 0.5647059 , 0.43137258],\n",
              "         [0.5411765 , 0.57254905, 0.41176474]],\n",
              "\n",
              "        [[0.32156864, 0.38823533, 0.18431373],\n",
              "         [0.30588236, 0.36862746, 0.18431373],\n",
              "         [0.32941177, 0.38431376, 0.24705884],\n",
              "         ...,\n",
              "         [0.4666667 , 0.5058824 , 0.30980393],\n",
              "         [0.70980394, 0.76470596, 0.42352945],\n",
              "         [0.48235297, 0.5176471 , 0.29411766]],\n",
              "\n",
              "        ...,\n",
              "\n",
              "        [[0.32941177, 0.33333334, 0.20784315],\n",
              "         [0.3372549 , 0.3647059 , 0.20392159],\n",
              "         [0.3921569 , 0.44705886, 0.2392157 ],\n",
              "         ...,\n",
              "         [0.17254902, 0.2509804 , 0.00392157],\n",
              "         [0.09019608, 0.1254902 , 0.04313726],\n",
              "         [0.07058824, 0.08627451, 0.08235294]],\n",
              "\n",
              "        [[0.13725491, 0.19215688, 0.        ],\n",
              "         [0.32156864, 0.3921569 , 0.14901961],\n",
              "         [0.28627452, 0.3803922 , 0.09019608],\n",
              "         ...,\n",
              "         [0.21568629, 0.29803923, 0.02745098],\n",
              "         [0.10196079, 0.14117648, 0.04705883],\n",
              "         [0.07450981, 0.09019608, 0.09411766]],\n",
              "\n",
              "        [[0.2627451 , 0.34509805, 0.1137255 ],\n",
              "         [0.28235295, 0.37254903, 0.09019608],\n",
              "         [0.24313727, 0.3529412 , 0.02352941],\n",
              "         ...,\n",
              "         [0.24313727, 0.32941177, 0.04705883],\n",
              "         [0.10588236, 0.14509805, 0.0509804 ],\n",
              "         [0.07843138, 0.09411766, 0.09803922]]],\n",
              "\n",
              "\n",
              "       [[[0.5647059 , 0.7294118 , 0.47058827],\n",
              "         [0.6313726 , 0.80392164, 0.5647059 ],\n",
              "         [0.6117647 , 0.77647066, 0.59607846],\n",
              "         ...,\n",
              "         [0.5372549 , 0.75294125, 0.38823533],\n",
              "         [0.5019608 , 0.7294118 , 0.32941177],\n",
              "         [0.54509807, 0.77647066, 0.36078432]],\n",
              "\n",
              "        [[0.5803922 , 0.74509805, 0.49411768],\n",
              "         [0.62352943, 0.7960785 , 0.5568628 ],\n",
              "         [0.6117647 , 0.77647066, 0.5882353 ],\n",
              "         ...,\n",
              "         [0.48235297, 0.69411767, 0.34901962],\n",
              "         [0.50980395, 0.73333335, 0.3647059 ],\n",
              "         [0.5254902 , 0.7490196 , 0.36862746]],\n",
              "\n",
              "        [[0.5803922 , 0.7411765 , 0.5137255 ],\n",
              "         [0.60784316, 0.7803922 , 0.54901963],\n",
              "         [0.6509804 , 0.8196079 , 0.60784316],\n",
              "         ...,\n",
              "         [0.5137255 , 0.7176471 , 0.42352945],\n",
              "         [0.5568628 , 0.7686275 , 0.47058827],\n",
              "         [0.5411765 , 0.75294125, 0.454902  ]],\n",
              "\n",
              "        ...,\n",
              "\n",
              "        [[0.09803922, 0.21568629, 0.24705884],\n",
              "         [0.20784315, 0.33333334, 0.32941177],\n",
              "         [0.14509805, 0.2784314 , 0.21176472],\n",
              "         ...,\n",
              "         [0.2784314 , 0.454902  , 0.29411766],\n",
              "         [0.27450982, 0.4431373 , 0.27450982],\n",
              "         [0.25490198, 0.4156863 , 0.2509804 ]],\n",
              "\n",
              "        [[0.07843138, 0.18431373, 0.3019608 ],\n",
              "         [0.17254902, 0.28627452, 0.34117648],\n",
              "         [0.17254902, 0.3019608 , 0.25882354],\n",
              "         ...,\n",
              "         [0.15686275, 0.30980393, 0.19607845],\n",
              "         [0.28235295, 0.4431373 , 0.3254902 ],\n",
              "         [0.26666668, 0.43529415, 0.31764707]],\n",
              "\n",
              "        [[0.10980393, 0.20784315, 0.36862746],\n",
              "         [0.16078432, 0.27058825, 0.3529412 ],\n",
              "         [0.16862746, 0.29803923, 0.2627451 ],\n",
              "         ...,\n",
              "         [0.16078432, 0.3019608 , 0.25490198],\n",
              "         [0.20392159, 0.3647059 , 0.3019608 ],\n",
              "         [0.29803923, 0.45882356, 0.39607847]]],\n",
              "\n",
              "\n",
              "       ...,\n",
              "\n",
              "\n",
              "       [[[0.7176471 , 0.8000001 , 0.25490198],\n",
              "         [0.8000001 , 0.9058824 , 0.25882354],\n",
              "         [0.7137255 , 0.86666673, 0.07058824],\n",
              "         ...,\n",
              "         [0.74509805, 0.882353  , 0.02745098],\n",
              "         [0.74509805, 0.89019614, 0.        ],\n",
              "         [0.75294125, 0.90196085, 0.        ]],\n",
              "\n",
              "        [[0.6784314 , 0.7607844 , 0.21568629],\n",
              "         [0.8078432 , 0.9176471 , 0.2784314 ],\n",
              "         [0.7372549 , 0.8862746 , 0.10588236],\n",
              "         ...,\n",
              "         [0.7490196 , 0.8862746 , 0.03137255],\n",
              "         [0.74509805, 0.89019614, 0.        ],\n",
              "         [0.7686275 , 0.9176471 , 0.        ]],\n",
              "\n",
              "        [[0.6       , 0.69803923, 0.13725491],\n",
              "         [0.8196079 , 0.9294118 , 0.3019608 ],\n",
              "         [0.7607844 , 0.90196085, 0.17254902],\n",
              "         ...,\n",
              "         [0.7490196 , 0.89019614, 0.01960784],\n",
              "         [0.75294125, 0.8980393 , 0.00392157],\n",
              "         [0.7803922 , 0.9294118 , 0.01568628]],\n",
              "\n",
              "        ...,\n",
              "\n",
              "        [[0.18039216, 0.27058825, 0.05882353],\n",
              "         [0.37647063, 0.43529415, 0.07058824],\n",
              "         [0.7843138 , 0.77647066, 0.29411766],\n",
              "         ...,\n",
              "         [0.72156864, 0.82745105, 0.30588236],\n",
              "         [0.7294118 , 0.8352942 , 0.3137255 ],\n",
              "         [0.7294118 , 0.8352942 , 0.3137255 ]],\n",
              "\n",
              "        [[0.18039216, 0.2901961 , 0.09803922],\n",
              "         [0.30588236, 0.38431376, 0.        ],\n",
              "         [0.79215693, 0.80392164, 0.2509804 ],\n",
              "         ...,\n",
              "         [0.73333335, 0.83921576, 0.3254902 ],\n",
              "         [0.7490196 , 0.854902  , 0.34901962],\n",
              "         [0.7568628 , 0.86274517, 0.35686275]],\n",
              "\n",
              "        [[0.10588236, 0.22352943, 0.02745098],\n",
              "         [0.7019608 , 0.7843138 , 0.38823533],\n",
              "         [0.90196085, 0.9176471 , 0.33333334],\n",
              "         ...,\n",
              "         [0.7137255 , 0.8235295 , 0.2901961 ],\n",
              "         [0.7254902 , 0.8313726 , 0.30980393],\n",
              "         [0.73333335, 0.83921576, 0.31764707]]],\n",
              "\n",
              "\n",
              "       [[[0.08627451, 0.26666668, 0.        ],\n",
              "         [0.15686275, 0.24705884, 0.02745098],\n",
              "         [0.61960787, 0.6392157 , 0.1764706 ],\n",
              "         ...,\n",
              "         [0.35686275, 0.6039216 , 0.0509804 ],\n",
              "         [0.44705886, 0.6627451 , 0.        ],\n",
              "         [0.67058825, 0.85098046, 0.01568628]],\n",
              "\n",
              "        [[0.10980393, 0.28235295, 0.        ],\n",
              "         [0.21176472, 0.2901961 , 0.0509804 ],\n",
              "         [0.6627451 , 0.6666667 , 0.19607845],\n",
              "         ...,\n",
              "         [0.32941177, 0.5686275 , 0.01960784],\n",
              "         [0.53333336, 0.74509805, 0.03137255],\n",
              "         [0.6392157 , 0.8313726 , 0.        ]],\n",
              "\n",
              "        [[0.15686275, 0.3254902 , 0.        ],\n",
              "         [0.2784314 , 0.34901962, 0.0509804 ],\n",
              "         [0.6862745 , 0.6901961 , 0.15686275],\n",
              "         ...,\n",
              "         [0.3254902 , 0.5411765 , 0.        ],\n",
              "         [0.6313726 , 0.8431373 , 0.12156864],\n",
              "         [0.5803922 , 0.78823537, 0.        ]],\n",
              "\n",
              "        ...,\n",
              "\n",
              "        [[0.14117648, 0.19215688, 0.09019608],\n",
              "         [0.16862746, 0.21960786, 0.11764707],\n",
              "         [0.10980393, 0.14901961, 0.04313726],\n",
              "         ...,\n",
              "         [0.5529412 , 0.6862745 , 0.24313727],\n",
              "         [0.68235296, 0.81568635, 0.37647063],\n",
              "         [0.54901963, 0.68235296, 0.24313727]],\n",
              "\n",
              "        [[0.08627451, 0.1254902 , 0.        ],\n",
              "         [0.14117648, 0.18039216, 0.04313726],\n",
              "         [0.23529413, 0.27450982, 0.12941177],\n",
              "         ...,\n",
              "         [0.5568628 , 0.72156864, 0.14117648],\n",
              "         [0.58431375, 0.75294125, 0.16470589],\n",
              "         [0.64705884, 0.81568635, 0.227451  ]],\n",
              "\n",
              "        [[0.2392157 , 0.27058825, 0.10980393],\n",
              "         [0.454902  , 0.48627454, 0.3254902 ],\n",
              "         [0.3803922 , 0.4156863 , 0.24705884],\n",
              "         ...,\n",
              "         [0.5137255 , 0.6901961 , 0.09019608],\n",
              "         [0.5686275 , 0.7372549 , 0.14117648],\n",
              "         [0.5921569 , 0.7607844 , 0.17254902]]],\n",
              "\n",
              "\n",
              "       [[[0.67058825, 0.7411765 , 0.34117648],\n",
              "         [0.80392164, 0.8941177 , 0.4784314 ],\n",
              "         [0.5882353 , 0.7058824 , 0.26666668],\n",
              "         ...,\n",
              "         [0.49803925, 0.627451  , 0.04313726],\n",
              "         [0.64705884, 0.7137255 , 0.26666668],\n",
              "         [0.5686275 , 0.63529414, 0.        ]],\n",
              "\n",
              "        [[0.61960787, 0.7176471 , 0.36078432],\n",
              "         [0.47450984, 0.5882353 , 0.22352943],\n",
              "         [0.42352945, 0.56078434, 0.16078432],\n",
              "         ...,\n",
              "         [0.4666667 , 0.5921569 , 0.02352941],\n",
              "         [0.43921572, 0.50980395, 0.04705883],\n",
              "         [0.6       , 0.67058825, 0.        ]],\n",
              "\n",
              "        [[0.47058827, 0.60784316, 0.34117648],\n",
              "         [0.37647063, 0.5176471 , 0.24313727],\n",
              "         [0.37254903, 0.52156866, 0.21960786],\n",
              "         ...,\n",
              "         [0.29803923, 0.40000004, 0.        ],\n",
              "         [0.59607846, 0.6784314 , 0.17254902],\n",
              "         [0.54901963, 0.64705884, 0.01176471]],\n",
              "\n",
              "        ...,\n",
              "\n",
              "        [[0.14901961, 0.19215688, 0.1254902 ],\n",
              "         [0.5254902 , 0.6117647 , 0.28627452],\n",
              "         [0.7411765 , 0.82745105, 0.4039216 ],\n",
              "         ...,\n",
              "         [0.42352945, 0.39607847, 0.28235295],\n",
              "         [0.28627452, 0.28235295, 0.20392159],\n",
              "         [0.2627451 , 0.25882354, 0.1764706 ]],\n",
              "\n",
              "        [[0.09019608, 0.12156864, 0.02745098],\n",
              "         [0.14117648, 0.18823531, 0.        ],\n",
              "         [0.7254902 , 0.78823537, 0.4431373 ],\n",
              "         ...,\n",
              "         [0.30980393, 0.28235295, 0.18039216],\n",
              "         [0.227451  , 0.21176472, 0.16862746],\n",
              "         [0.2627451 , 0.24705884, 0.20392159]],\n",
              "\n",
              "        [[0.0627451 , 0.10980393, 0.        ],\n",
              "         [0.14117648, 0.16078432, 0.07450981],\n",
              "         [0.5529412 , 0.5921569 , 0.39607847],\n",
              "         ...,\n",
              "         [0.2392157 , 0.19607845, 0.10980393],\n",
              "         [0.2784314 , 0.2509804 , 0.21960786],\n",
              "         [0.19607845, 0.16862746, 0.14509805]]]], dtype=float32)"
            ]
          },
          "metadata": {},
          "execution_count": 88
        }
      ]
    },
    {
      "cell_type": "code",
      "source": [
        "b"
      ],
      "metadata": {
        "colab": {
          "base_uri": "https://localhost:8080/"
        },
        "id": "JTJZz0umQu7X",
        "outputId": "e4dedebe-a26c-4bfd-a235-9abb51ea8b5c"
      },
      "execution_count": 89,
      "outputs": [
        {
          "output_type": "execute_result",
          "data": {
            "text/plain": [
              "array([3., 8., 5., 0., 3., 5., 4., 8., 8., 3., 2., 0., 7., 7., 5., 3., 5.,\n",
              "       5., 7., 6., 5., 8., 9., 8., 8., 3., 2., 8., 4., 6., 4., 5., 8., 7.,\n",
              "       0., 3., 3., 0., 3., 7., 4., 6., 3., 6., 8., 7., 3., 6., 7., 7., 7.,\n",
              "       2., 8., 5., 5., 7., 8., 7., 1., 9., 4., 0., 6., 9.], dtype=float32)"
            ]
          },
          "metadata": {},
          "execution_count": 89
        }
      ]
    },
    {
      "cell_type": "code",
      "source": [
        ""
      ],
      "metadata": {
        "id": "GQdUSMnfQwWR"
      },
      "execution_count": null,
      "outputs": []
    },
    {
      "cell_type": "code",
      "source": [
        ""
      ],
      "metadata": {
        "id": "Udqo8mX0RoAW"
      },
      "execution_count": null,
      "outputs": []
    },
    {
      "cell_type": "code",
      "source": [
        "from keras.preprocessing.image import ImageDataGenerator\n",
        "\n",
        "image_generator = ImageDataGenerator(rescale = 1./255)\n",
        "\n",
        "train_data_gen = image_generator.flow_from_directory(\n",
        "    '/content/drive/MyDrive/Section4/mountainForest/train',\n",
        "    class_mode = 'binary',\n",
        "    batch_size = 64\n",
        ")\n",
        "\n",
        "val_data_gen= image_generator.flow_from_directory(\n",
        "    '/content/drive/MyDrive/Section4/mountainForest/validation',\n",
        "     class_mode = 'binary',\n",
        "    batch_size = 64\n",
        ")"
      ],
      "metadata": {
        "colab": {
          "base_uri": "https://localhost:8080/"
        },
        "id": "O67V0MxqRoCJ",
        "outputId": "1eb6773f-25dc-46b3-f9f4-38f7874e437a"
      },
      "execution_count": 93,
      "outputs": [
        {
          "output_type": "stream",
          "name": "stdout",
          "text": [
            "Found 533 images belonging to 2 classes.\n",
            "Found 195 images belonging to 2 classes.\n"
          ]
        }
      ]
    },
    {
      "cell_type": "code",
      "source": [
        "a, b = train_data_gen.next()"
      ],
      "metadata": {
        "id": "V5K1c82tRoP0"
      },
      "execution_count": 95,
      "outputs": []
    },
    {
      "cell_type": "code",
      "source": [
        "a.shape"
      ],
      "metadata": {
        "colab": {
          "base_uri": "https://localhost:8080/"
        },
        "id": "MpvtRNeeRrJ2",
        "outputId": "728d166e-0dd7-492b-aaa4-5dda0b8ed6b5"
      },
      "execution_count": 96,
      "outputs": [
        {
          "output_type": "execute_result",
          "data": {
            "text/plain": [
              "(64, 256, 256, 3)"
            ]
          },
          "metadata": {},
          "execution_count": 96
        }
      ]
    },
    {
      "cell_type": "code",
      "source": [
        "i=0\n",
        "for root, dirs, filename in os.walk('/content/drive/MyDrive/Section4/mountainForest/train'):\n",
        "    \n",
        "    # root directory를 제외하고 각 diretory 중 image가 있으면 레이블링 진행\n",
        "    for name in filename:\n",
        "        print(i)\n",
        "        i+=1"
      ],
      "metadata": {
        "id": "LIc_AOvhR0lv"
      },
      "execution_count": null,
      "outputs": []
    },
    {
      "cell_type": "code",
      "source": [
        ""
      ],
      "metadata": {
        "id": "L-UIngKGSHg7"
      },
      "execution_count": null,
      "outputs": []
    }
  ]
}