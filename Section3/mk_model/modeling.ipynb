{
  "nbformat": 4,
  "nbformat_minor": 0,
  "metadata": {
    "colab": {
      "name": "modeling.ipynb",
      "provenance": [],
      "collapsed_sections": []
    },
    "kernelspec": {
      "name": "python3",
      "display_name": "Python 3"
    },
    "language_info": {
      "name": "python"
    }
  },
  "cells": [
    {
      "cell_type": "code",
      "execution_count": null,
      "metadata": {
        "id": "RGsdjAGIIk6N"
      },
      "outputs": [],
      "source": [
        "import pandas as pd\n",
        "from google.colab import drive\n",
        "import numpy as np\n",
        "import matplotlib.pyplot as plt\n",
        "import seaborn as sns"
      ]
    },
    {
      "cell_type": "code",
      "source": [
        "drive.mount('/content/MyDrive')"
      ],
      "metadata": {
        "colab": {
          "base_uri": "https://localhost:8080/"
        },
        "id": "R5HjOf-1I8Zy",
        "outputId": "27d0d1d2-d737-4f87-b869-5bbd826ab970"
      },
      "execution_count": null,
      "outputs": [
        {
          "output_type": "stream",
          "name": "stdout",
          "text": [
            "Mounted at /content/MyDrive\n"
          ]
        }
      ]
    },
    {
      "cell_type": "code",
      "source": [
        "df = pd.read_csv('/content/MyDrive/MyDrive/code_states/section3/naver_data.csv')"
      ],
      "metadata": {
        "colab": {
          "base_uri": "https://localhost:8080/"
        },
        "id": "IFO8RTVSJUtx",
        "outputId": "e2a38443-4814-48c5-ece7-8158dbf5f612"
      },
      "execution_count": null,
      "outputs": [
        {
          "output_type": "stream",
          "name": "stderr",
          "text": [
            "/usr/local/lib/python3.7/dist-packages/IPython/core/interactiveshell.py:2882: DtypeWarning: Columns (19,36,57,62,63,64,67,68,69,70,71,72) have mixed types.Specify dtype option on import or set low_memory=False.\n",
            "  exec(code_obj, self.user_global_ns, self.user_ns)\n"
          ]
        }
      ]
    },
    {
      "cell_type": "code",
      "source": [
        "df['item_name'].value_counts()"
      ],
      "metadata": {
        "colab": {
          "base_uri": "https://localhost:8080/"
        },
        "id": "cgj8K_LpKS3h",
        "outputId": "737e76d3-223d-49b1-a35d-c733fd161f10"
      },
      "execution_count": null,
      "outputs": [
        {
          "output_type": "execute_result",
          "data": {
            "text/plain": [
              "ASUS E510MA-BQ160 SSD 500GB 주식용 인강용 노트북           53\n",
              "MSI GE62 6QF Apache Pro 15.6인치 게이밍노트북             51\n",
              "IT 삼성전자 노트북5 NT550EAA-K24                         50\n",
              "[유광/고화질/무결점]삼성노트북액정교환 NT630Z5J-X0A/R 노트북패널 새제품    50\n",
              "[유광/고화질/무결점]삼성노트북액정교환 NT630Z5J-X0B/R 노트북패널 새제품    50\n",
              "                                                  ..\n",
              "레노버 씽크패드 E14-20T6S04Y00                            1\n",
              "DELL 인스피론 15 5510 DN5510-WH02KR                    1\n",
              "레노버 아이디어패드 SLIM3-15ARE R3 WIN10                    1\n",
              "레노버 씽크패드 L13 YOGA G2-20VK0025KD                    1\n",
              "[중고]삼성노트북액정교체 Samsung NT500R5H-K33B 노트북패널 당일발송     1\n",
              "Name: item_name, Length: 7637, dtype: int64"
            ]
          },
          "metadata": {},
          "execution_count": 14
        }
      ]
    },
    {
      "cell_type": "code",
      "source": [
        "df.info()"
      ],
      "metadata": {
        "colab": {
          "base_uri": "https://localhost:8080/"
        },
        "id": "SpyGrXW5yWh8",
        "outputId": "ab9f8f10-2810-4d22-d7c0-a0b4f1a6471e"
      },
      "execution_count": null,
      "outputs": [
        {
          "output_type": "stream",
          "name": "stdout",
          "text": [
            "<class 'pandas.core.frame.DataFrame'>\n",
            "RangeIndex: 10034 entries, 0 to 10033\n",
            "Data columns (total 74 columns):\n",
            " #   Column               Non-Null Count  Dtype  \n",
            "---  ------               --------------  -----  \n",
            " 0   _id                  10034 non-null  object \n",
            " 1   item_name            10034 non-null  object \n",
            " 2   price                10034 non-null  object \n",
            " 3   screen_size          3133 non-null   object \n",
            " 4   weight               4871 non-null   object \n",
            " 5   type                 4856 non-null   object \n",
            " 6   release_OS           4880 non-null   object \n",
            " 7   CPU                  4976 non-null   object \n",
            " 8   chipset              5020 non-null   object \n",
            " 9   core_type            4963 non-null   object \n",
            " 10  code_name            4755 non-null   object \n",
            " 11  CPU_speed            4500 non-null   object \n",
            " 12  turbo_boost          4222 non-null   object \n",
            " 13  RAM                  5029 non-null   object \n",
            " 14  memory_type          4847 non-null   object \n",
            " 15  AMD_GPU              692 non-null    object \n",
            " 16  graphics_memory      3979 non-null   object \n",
            " 17  resolution           5067 non-null   object \n",
            " 18  panel                4082 non-null   object \n",
            " 19  Refresh_rate         666 non-null    object \n",
            " 20  bezel                2700 non-null   object \n",
            " 21  NTSC                 550 non-null    object \n",
            " 22  wireless_LAN         4751 non-null   object \n",
            " 23  Bluetooth            4790 non-null   object \n",
            " 24  video_output         4848 non-null   object \n",
            " 25  terminal             4826 non-null   object \n",
            " 26  additional_function  4634 non-null   object \n",
            " 27  SSD                  4853 non-null   object \n",
            " 28  SSD_interface        3994 non-null   object \n",
            " 29  battery_type         2087 non-null   object \n",
            " 30  battery_capacity     3388 non-null   object \n",
            " 31  battery_cells        1513 non-null   object \n",
            " 32  web_camera           2994 non-null   object \n",
            " 33  item                 4931 non-null   object \n",
            " 34  thickness            4788 non-null   object \n",
            " 35  NVIDIA_GPU           1516 non-null   object \n",
            " 36  sRGB                 606 non-null    object \n",
            " 37  brightness           2110 non-null   object \n",
            " 38  card_slot            1850 non-null   object \n",
            " 39  speaker              1292 non-null   object \n",
            " 40  sound                1740 non-null   object \n",
            " 41  Intel_GPU            3375 non-null   object \n",
            " 42  panel_coating        1512 non-null   object \n",
            " 43  wired_LAN            2470 non-null   object \n",
            " 44  charging_terminal    1537 non-null   object \n",
            " 45  lighting             2063 non-null   object \n",
            " 46  input_device         3113 non-null   object \n",
            " 47  securit              2500 non-null   object \n",
            " 48  y_function           824 non-null    object \n",
            " 49  display_feature      1214 non-null   object \n",
            " 50  screen_spread        586 non-null    object \n",
            " 51  touch                857 non-null    object \n",
            " 52  usage_time           3633 non-null   object \n",
            " 53  aspect_ratio         566 non-null    object \n",
            " 54  display_type         2350 non-null   object \n",
            " 55  color                1493 non-null   object \n",
            " 56  bit_type             349 non-null    object \n",
            " 57  DCI_P3               666 non-null    object \n",
            " 58  HDD_capacity         1732 non-null   object \n",
            " 59  ODD                  1584 non-null   object \n",
            " 60  free_AS              2847 non-null   object \n",
            " 61  features             791 non-null    object \n",
            " 62  direction_keys       4 non-null      object \n",
            " 63  external_graphics    64 non-null     object \n",
            " 64  wireless_connection  105 non-null    object \n",
            " 65  TGP                  1146 non-null   object \n",
            " 66  low_power            102 non-null    object \n",
            " 67  turbo_core           19 non-null     object \n",
            " 68  eUFS                 30 non-null     object \n",
            " 69  connector            23 non-null     object \n",
            " 70  color_exp            73 non-null     object \n",
            " 71  mobile               109 non-null    object \n",
            " 72  design               1211 non-null   object \n",
            " 73  volume               0 non-null      float64\n",
            "dtypes: float64(1), object(73)\n",
            "memory usage: 5.7+ MB\n"
          ]
        }
      ]
    },
    {
      "cell_type": "code",
      "source": [
        "df.dtypes"
      ],
      "metadata": {
        "colab": {
          "base_uri": "https://localhost:8080/"
        },
        "id": "pnHZBO0BKdDq",
        "outputId": "f9442ae5-fe10-418e-9415-8ada860f70c2"
      },
      "execution_count": null,
      "outputs": [
        {
          "output_type": "execute_result",
          "data": {
            "text/plain": [
              "_id             object\n",
              "item_name       object\n",
              "price           object\n",
              "screen_size     object\n",
              "weight          object\n",
              "                ...   \n",
              "connector       object\n",
              "color_exp       object\n",
              "mobile          object\n",
              "design          object\n",
              "volume         float64\n",
              "Length: 74, dtype: object"
            ]
          },
          "metadata": {},
          "execution_count": 21
        }
      ]
    },
    {
      "cell_type": "markdown",
      "source": [
        "# EDA 시작"
      ],
      "metadata": {
        "id": "eqVsAN8geQP4"
      }
    },
    {
      "cell_type": "code",
      "source": [
        "# _id 행 제거\n",
        "df = pd.read_csv('/content/MyDrive/MyDrive/code_states/section3/naver_data.csv')\n",
        "df = df.drop(columns=['_id'])"
      ],
      "metadata": {
        "id": "O-8g3R9BKmaa",
        "colab": {
          "base_uri": "https://localhost:8080/"
        },
        "outputId": "77fac4a3-0f82-4c74-a806-17886e1a9e48"
      },
      "execution_count": null,
      "outputs": [
        {
          "output_type": "stream",
          "name": "stderr",
          "text": [
            "/usr/local/lib/python3.7/dist-packages/IPython/core/interactiveshell.py:2882: DtypeWarning: Columns (19,36,57,62,63,64,67,68,69,70,71,72) have mixed types.Specify dtype option on import or set low_memory=False.\n",
            "  exec(code_obj, self.user_global_ns, self.user_ns)\n"
          ]
        }
      ]
    },
    {
      "cell_type": "code",
      "source": [
        "# 가격 column 치환\n",
        "\n",
        "def trans_won(data):\n",
        "    rslt = data.replace('원','')\n",
        "    rslt_final = rslt.replace(',','')\n",
        "    return int(rslt_final)\n",
        "\n",
        "df['price'] = df['price'].apply(trans_won)"
      ],
      "metadata": {
        "id": "MX-409twcNQO"
      },
      "execution_count": null,
      "outputs": []
    },
    {
      "cell_type": "code",
      "source": [
        "# 이상치를 제거한 그래프 확인\n",
        "\n",
        "condition = (df['price'] > 350000) & (df['price'] < 5000000)\n",
        "sns.histplot(data = df.loc[condition, 'price'])"
      ],
      "metadata": {
        "colab": {
          "base_uri": "https://localhost:8080/",
          "height": 296
        },
        "id": "nuJideDneFN1",
        "outputId": "8b818e80-f5aa-4c90-be05-9948d4851e2f"
      },
      "execution_count": null,
      "outputs": [
        {
          "output_type": "execute_result",
          "data": {
            "text/plain": [
              "<matplotlib.axes._subplots.AxesSubplot at 0x7fd339f08d90>"
            ]
          },
          "metadata": {},
          "execution_count": 221
        },
        {
          "output_type": "display_data",
          "data": {
            "text/plain": [
              "<Figure size 432x288 with 1 Axes>"
            ],
            "image/png": "[encoded data removed]"
          },
          "metadata": {
            "needs_background": "light"
          }
        }
      ]
    },
    {
      "cell_type": "code",
      "source": [
        "# 이상치 제거\n",
        "\n",
        "condition = (df['price'] > 350000) & (df['price'] < 5000000)\n",
        "df = df[condition]"
      ],
      "metadata": {
        "id": "ImqfibNfflq9"
      },
      "execution_count": null,
      "outputs": []
    },
    {
      "cell_type": "code",
      "source": [
        "df.head()"
      ],
      "metadata": {
        "colab": {
          "base_uri": "https://localhost:8080/",
          "height": 507
        },
        "id": "CnHiiFtTf3SL",
        "outputId": "d534d4f9-4703-4572-e888-53dffee459b7"
      },
      "execution_count": null,
      "outputs": [
        {
          "output_type": "execute_result",
          "data": {
            "text/plain": [
              "                     item_name    price      screen_size  weight       type  \\\n",
              "0           주연테크 리오나인 젠 L8CS37  1849000  43.94cm(17.3인치)   2.5kg   라이젠7-4세대   \n",
              "1           HP OMEN 16-b1033TX  2499000  40.89cm(16.1인치)   2.3kg  코어i7 12세대   \n",
              "2         HP Victus 16-d1141TX  1599000  40.89cm(16.1인치)  2.46kg  코어i7 12세대   \n",
              "3  삼성전자 노트북 플러스2 NT550XDA-K14A   522000  39.62cm(15.6인치)  1.81kg        셀러론   \n",
              "4  삼성전자 노트북 플러스2 NT550XDA-K24A   589000  39.62cm(15.6인치)  1.81kg        펜티엄   \n",
              "\n",
              "     release_OS          CPU chipset    core_type code_name  ...  \\\n",
              "0  미포함(FreeDos)   라이젠7-5800H     AMD         옥타코어        세잔  ...   \n",
              "1       윈도우11 홈  코어i7-12700H      인텔  14코어(6P+8E)     엘더레이크  ...   \n",
              "2  미포함(FreeDos)  코어i7-12700H      인텔  12코어(4P+8E)     엘더레이크  ...   \n",
              "3      윈도우11 프로     셀러론-6305      인텔         듀얼코어    타이거레이크  ...   \n",
              "4      윈도우11 프로     펜티엄-7505      인텔          NaN    타이거레이크  ...   \n",
              "\n",
              "  wireless_connection  TGP low_power turbo_core eUFS connector color_exp  \\\n",
              "0                 NaN  NaN       NaN        NaN  NaN       NaN       NaN   \n",
              "1                 NaN  NaN       NaN        NaN  NaN       NaN       NaN   \n",
              "2                 NaN  NaN       NaN        NaN  NaN       NaN       NaN   \n",
              "3                 NaN  NaN       NaN        NaN  NaN       NaN       NaN   \n",
              "4                 NaN  NaN       NaN        NaN  NaN       NaN       NaN   \n",
              "\n",
              "  mobile design volume  \n",
              "0    NaN    NaN    NaN  \n",
              "1    NaN    NaN    NaN  \n",
              "2    NaN    NaN    NaN  \n",
              "3    NaN    NaN    NaN  \n",
              "4    NaN    NaN    NaN  \n",
              "\n",
              "[5 rows x 73 columns]"
            ],
            "text/html": [
              "\n",
              "  <div id=\"df-6fdde18e-c4e2-4c5b-add0-4881c102b86e\">\n",
              "    <div class=\"colab-df-container\">\n",
              "      <div>\n",
              "<style scoped>\n",
              "    .dataframe tbody tr th:only-of-type {\n",
              "        vertical-align: middle;\n",
              "    }\n",
              "\n",
              "    .dataframe tbody tr th {\n",
              "        vertical-align: top;\n",
              "    }\n",
              "\n",
              "    .dataframe thead th {\n",
              "        text-align: right;\n",
              "    }\n",
              "</style>\n",
              "<table border=\"1\" class=\"dataframe\">\n",
              "  <thead>\n",
              "    <tr style=\"text-align: right;\">\n",
              "      <th></th>\n",
              "      <th>item_name</th>\n",
              "      <th>price</th>\n",
              "      <th>screen_size</th>\n",
              "      <th>weight</th>\n",
              "      <th>type</th>\n",
              "      <th>release_OS</th>\n",
              "      <th>CPU</th>\n",
              "      <th>chipset</th>\n",
              "      <th>core_type</th>\n",
              "      <th>code_name</th>\n",
              "      <th>...</th>\n",
              "      <th>wireless_connection</th>\n",
              "      <th>TGP</th>\n",
              "      <th>low_power</th>\n",
              "      <th>turbo_core</th>\n",
              "      <th>eUFS</th>\n",
              "      <th>connector</th>\n",
              "      <th>color_exp</th>\n",
              "      <th>mobile</th>\n",
              "      <th>design</th>\n",
              "      <th>volume</th>\n",
              "    </tr>\n",
              "  </thead>\n",
              "  <tbody>\n",
              "    <tr>\n",
              "      <th>0</th>\n",
              "      <td>주연테크 리오나인 젠 L8CS37</td>\n",
              "      <td>1849000</td>\n",
              "      <td>43.94cm(17.3인치)</td>\n",
              "      <td>2.5kg</td>\n",
              "      <td>라이젠7-4세대</td>\n",
              "      <td>미포함(FreeDos)</td>\n",
              "      <td>라이젠7-5800H</td>\n",
              "      <td>AMD</td>\n",
              "      <td>옥타코어</td>\n",
              "      <td>세잔</td>\n",
              "      <td>...</td>\n",
              "      <td>NaN</td>\n",
              "      <td>NaN</td>\n",
              "      <td>NaN</td>\n",
              "      <td>NaN</td>\n",
              "      <td>NaN</td>\n",
              "      <td>NaN</td>\n",
              "      <td>NaN</td>\n",
              "      <td>NaN</td>\n",
              "      <td>NaN</td>\n",
              "      <td>NaN</td>\n",
              "    </tr>\n",
              "    <tr>\n",
              "      <th>1</th>\n",
              "      <td>HP OMEN 16-b1033TX</td>\n",
              "      <td>2499000</td>\n",
              "      <td>40.89cm(16.1인치)</td>\n",
              "      <td>2.3kg</td>\n",
              "      <td>코어i7 12세대</td>\n",
              "      <td>윈도우11 홈</td>\n",
              "      <td>코어i7-12700H</td>\n",
              "      <td>인텔</td>\n",
              "      <td>14코어(6P+8E)</td>\n",
              "      <td>엘더레이크</td>\n",
              "      <td>...</td>\n",
              "      <td>NaN</td>\n",
              "      <td>NaN</td>\n",
              "      <td>NaN</td>\n",
              "      <td>NaN</td>\n",
              "      <td>NaN</td>\n",
              "      <td>NaN</td>\n",
              "      <td>NaN</td>\n",
              "      <td>NaN</td>\n",
              "      <td>NaN</td>\n",
              "      <td>NaN</td>\n",
              "    </tr>\n",
              "    <tr>\n",
              "      <th>2</th>\n",
              "      <td>HP Victus 16-d1141TX</td>\n",
              "      <td>1599000</td>\n",
              "      <td>40.89cm(16.1인치)</td>\n",
              "      <td>2.46kg</td>\n",
              "      <td>코어i7 12세대</td>\n",
              "      <td>미포함(FreeDos)</td>\n",
              "      <td>코어i7-12700H</td>\n",
              "      <td>인텔</td>\n",
              "      <td>12코어(4P+8E)</td>\n",
              "      <td>엘더레이크</td>\n",
              "      <td>...</td>\n",
              "      <td>NaN</td>\n",
              "      <td>NaN</td>\n",
              "      <td>NaN</td>\n",
              "      <td>NaN</td>\n",
              "      <td>NaN</td>\n",
              "      <td>NaN</td>\n",
              "      <td>NaN</td>\n",
              "      <td>NaN</td>\n",
              "      <td>NaN</td>\n",
              "      <td>NaN</td>\n",
              "    </tr>\n",
              "    <tr>\n",
              "      <th>3</th>\n",
              "      <td>삼성전자 노트북 플러스2 NT550XDA-K14A</td>\n",
              "      <td>522000</td>\n",
              "      <td>39.62cm(15.6인치)</td>\n",
              "      <td>1.81kg</td>\n",
              "      <td>셀러론</td>\n",
              "      <td>윈도우11 프로</td>\n",
              "      <td>셀러론-6305</td>\n",
              "      <td>인텔</td>\n",
              "      <td>듀얼코어</td>\n",
              "      <td>타이거레이크</td>\n",
              "      <td>...</td>\n",
              "      <td>NaN</td>\n",
              "      <td>NaN</td>\n",
              "      <td>NaN</td>\n",
              "      <td>NaN</td>\n",
              "      <td>NaN</td>\n",
              "      <td>NaN</td>\n",
              "      <td>NaN</td>\n",
              "      <td>NaN</td>\n",
              "      <td>NaN</td>\n",
              "      <td>NaN</td>\n",
              "    </tr>\n",
              "    <tr>\n",
              "      <th>4</th>\n",
              "      <td>삼성전자 노트북 플러스2 NT550XDA-K24A</td>\n",
              "      <td>589000</td>\n",
              "      <td>39.62cm(15.6인치)</td>\n",
              "      <td>1.81kg</td>\n",
              "      <td>펜티엄</td>\n",
              "      <td>윈도우11 프로</td>\n",
              "      <td>펜티엄-7505</td>\n",
              "      <td>인텔</td>\n",
              "      <td>NaN</td>\n",
              "      <td>타이거레이크</td>\n",
              "      <td>...</td>\n",
              "      <td>NaN</td>\n",
              "      <td>NaN</td>\n",
              "      <td>NaN</td>\n",
              "      <td>NaN</td>\n",
              "      <td>NaN</td>\n",
              "      <td>NaN</td>\n",
              "      <td>NaN</td>\n",
              "      <td>NaN</td>\n",
              "      <td>NaN</td>\n",
              "      <td>NaN</td>\n",
              "    </tr>\n",
              "  </tbody>\n",
              "</table>\n",
              "<p>5 rows × 73 columns</p>\n",
              "</div>\n",
              "      <button class=\"colab-df-convert\" onclick=\"convertToInteractive('df-6fdde18e-c4e2-4c5b-add0-4881c102b86e')\"\n",
              "              title=\"Convert this dataframe to an interactive table.\"\n",
              "              style=\"display:none;\">\n",
              "        \n",
              "  <svg xmlns=\"http://www.w3.org/2000/svg\" height=\"24px\"viewBox=\"0 0 24 24\"\n",
              "       width=\"24px\">\n",
              "    <path d=\"M0 0h24v24H0V0z\" fill=\"none\"/>\n",
              "    <path d=\"M18.56 5.44l.94 2.06.94-2.06 2.06-.94-2.06-.94-.94-2.06-.94 2.06-2.06.94zm-11 1L8.5 8.5l.94-2.06 2.06-.94-2.06-.94L8.5 2.5l-.94 2.06-2.06.94zm10 10l.94 2.06.94-2.06 2.06-.94-2.06-.94-.94-2.06-.94 2.06-2.06.94z\"/><path d=\"M17.41 7.96l-1.37-1.37c-.4-.4-.92-.59-1.43-.59-.52 0-1.04.2-1.43.59L10.3 9.45l-7.72 7.72c-.78.78-.78 2.05 0 2.83L4 21.41c.39.39.9.59 1.41.59.51 0 1.02-.2 1.41-.59l7.78-7.78 2.81-2.81c.8-.78.8-2.07 0-2.86zM5.41 20L4 18.59l7.72-7.72 1.47 1.35L5.41 20z\"/>\n",
              "  </svg>\n",
              "      </button>\n",
              "      \n",
              "  <style>\n",
              "    .colab-df-container {\n",
              "      display:flex;\n",
              "      flex-wrap:wrap;\n",
              "      gap: 12px;\n",
              "    }\n",
              "\n",
              "    .colab-df-convert {\n",
              "      background-color: #E8F0FE;\n",
              "      border: none;\n",
              "      border-radius: 50%;\n",
              "      cursor: pointer;\n",
              "      display: none;\n",
              "      fill: #1967D2;\n",
              "      height: 32px;\n",
              "      padding: 0 0 0 0;\n",
              "      width: 32px;\n",
              "    }\n",
              "\n",
              "    .colab-df-convert:hover {\n",
              "      background-color: #E2EBFA;\n",
              "      box-shadow: 0px 1px 2px rgba(60, 64, 67, 0.3), 0px 1px 3px 1px rgba(60, 64, 67, 0.15);\n",
              "      fill: #174EA6;\n",
              "    }\n",
              "\n",
              "    [theme=dark] .colab-df-convert {\n",
              "      background-color: #3B4455;\n",
              "      fill: #D2E3FC;\n",
              "    }\n",
              "\n",
              "    [theme=dark] .colab-df-convert:hover {\n",
              "      background-color: #434B5C;\n",
              "      box-shadow: 0px 1px 3px 1px rgba(0, 0, 0, 0.15);\n",
              "      filter: drop-shadow(0px 1px 2px rgba(0, 0, 0, 0.3));\n",
              "      fill: #FFFFFF;\n",
              "    }\n",
              "  </style>\n",
              "\n",
              "      <script>\n",
              "        const buttonEl =\n",
              "          document.querySelector('#df-6fdde18e-c4e2-4c5b-add0-4881c102b86e button.colab-df-convert');\n",
              "        buttonEl.style.display =\n",
              "          google.colab.kernel.accessAllowed ? 'block' : 'none';\n",
              "\n",
              "        async function convertToInteractive(key) {\n",
              "          const element = document.querySelector('#df-6fdde18e-c4e2-4c5b-add0-4881c102b86e');\n",
              "          const dataTable =\n",
              "            await google.colab.kernel.invokeFunction('convertToInteractive',\n",
              "                                                     [key], {});\n",
              "          if (!dataTable) return;\n",
              "\n",
              "          const docLinkHtml = 'Like what you see? Visit the ' +\n",
              "            '<a target=\"_blank\" href=https://colab.research.google.com/notebooks/data_table.ipynb>data table notebook</a>'\n",
              "            + ' to learn more about interactive tables.';\n",
              "          element.innerHTML = '';\n",
              "          dataTable['output_type'] = 'display_data';\n",
              "          await google.colab.output.renderOutput(dataTable, element);\n",
              "          const docLink = document.createElement('div');\n",
              "          docLink.innerHTML = docLinkHtml;\n",
              "          element.appendChild(docLink);\n",
              "        }\n",
              "      </script>\n",
              "    </div>\n",
              "  </div>\n",
              "  "
            ]
          },
          "metadata": {},
          "execution_count": 223
        }
      ]
    },
    {
      "cell_type": "code",
      "source": [
        "# 주요 요인 column 추출\n",
        "\n",
        "new_col = ['item_name','price','screen_size','weight','release_OS','CPU','chipset','CPU_speed','RAM','resolution','video_output','SSD']\n",
        "df = df[new_col]"
      ],
      "metadata": {
        "id": "j8IZ3QwEk01k"
      },
      "execution_count": null,
      "outputs": []
    },
    {
      "cell_type": "code",
      "source": [
        "df.dtypes"
      ],
      "metadata": {
        "colab": {
          "base_uri": "https://localhost:8080/"
        },
        "id": "GNaVij-frrVR",
        "outputId": "fc0dca5b-cc01-40fc-fbce-1d21f3f1a2ff"
      },
      "execution_count": null,
      "outputs": [
        {
          "output_type": "execute_result",
          "data": {
            "text/plain": [
              "item_name       object\n",
              "price            int64\n",
              "screen_size     object\n",
              "weight          object\n",
              "release_OS      object\n",
              "CPU             object\n",
              "chipset         object\n",
              "CPU_speed       object\n",
              "RAM             object\n",
              "resolution      object\n",
              "video_output    object\n",
              "SSD             object\n",
              "dtype: object"
            ]
          },
          "metadata": {},
          "execution_count": 225
        }
      ]
    },
    {
      "cell_type": "code",
      "source": [
        "df_origin = df.copy()\n",
        "df.head()"
      ],
      "metadata": {
        "colab": {
          "base_uri": "https://localhost:8080/",
          "height": 443
        },
        "id": "1org0_KTrveE",
        "outputId": "3abb3863-3aa6-4d1b-8e28-5667619faa3e"
      },
      "execution_count": null,
      "outputs": [
        {
          "output_type": "execute_result",
          "data": {
            "text/plain": [
              "                     item_name    price      screen_size  weight  \\\n",
              "0           주연테크 리오나인 젠 L8CS37  1849000  43.94cm(17.3인치)   2.5kg   \n",
              "1           HP OMEN 16-b1033TX  2499000  40.89cm(16.1인치)   2.3kg   \n",
              "2         HP Victus 16-d1141TX  1599000  40.89cm(16.1인치)  2.46kg   \n",
              "3  삼성전자 노트북 플러스2 NT550XDA-K14A   522000  39.62cm(15.6인치)  1.81kg   \n",
              "4  삼성전자 노트북 플러스2 NT550XDA-K24A   589000  39.62cm(15.6인치)  1.81kg   \n",
              "\n",
              "     release_OS          CPU chipset CPU_speed   RAM      resolution  \\\n",
              "0  미포함(FreeDos)   라이젠7-5800H     AMD    3.2GHz  16GB  1920x1080(FHD)   \n",
              "1       윈도우11 홈  코어i7-12700H      인텔       NaN  16GB  2560x1440(QHD)   \n",
              "2  미포함(FreeDos)  코어i7-12700H      인텔       NaN  16GB  1920x1080(FHD)   \n",
              "3      윈도우11 프로     셀러론-6305      인텔    1.8GHz   4GB  1920x1080(FHD)   \n",
              "4      윈도우11 프로     펜티엄-7505      인텔    2.0GHz   4GB  1920x1080(FHD)   \n",
              "\n",
              "      video_output    SSD  \n",
              "0  miniDisplayPort  512GB  \n",
              "1  miniDisplayPort    1TB  \n",
              "2         HDMI 2.1  256GB  \n",
              "3             HDMI  128GB  \n",
              "4             HDMI  128GB  "
            ],
            "text/html": [
              "\n",
              "  <div id=\"df-ff9c895c-656a-408e-80c0-5a9c9a546935\">\n",
              "    <div class=\"colab-df-container\">\n",
              "      <div>\n",
              "<style scoped>\n",
              "    .dataframe tbody tr th:only-of-type {\n",
              "        vertical-align: middle;\n",
              "    }\n",
              "\n",
              "    .dataframe tbody tr th {\n",
              "        vertical-align: top;\n",
              "    }\n",
              "\n",
              "    .dataframe thead th {\n",
              "        text-align: right;\n",
              "    }\n",
              "</style>\n",
              "<table border=\"1\" class=\"dataframe\">\n",
              "  <thead>\n",
              "    <tr style=\"text-align: right;\">\n",
              "      <th></th>\n",
              "      <th>item_name</th>\n",
              "      <th>price</th>\n",
              "      <th>screen_size</th>\n",
              "      <th>weight</th>\n",
              "      <th>release_OS</th>\n",
              "      <th>CPU</th>\n",
              "      <th>chipset</th>\n",
              "      <th>CPU_speed</th>\n",
              "      <th>RAM</th>\n",
              "      <th>resolution</th>\n",
              "      <th>video_output</th>\n",
              "      <th>SSD</th>\n",
              "    </tr>\n",
              "  </thead>\n",
              "  <tbody>\n",
              "    <tr>\n",
              "      <th>0</th>\n",
              "      <td>주연테크 리오나인 젠 L8CS37</td>\n",
              "      <td>1849000</td>\n",
              "      <td>43.94cm(17.3인치)</td>\n",
              "      <td>2.5kg</td>\n",
              "      <td>미포함(FreeDos)</td>\n",
              "      <td>라이젠7-5800H</td>\n",
              "      <td>AMD</td>\n",
              "      <td>3.2GHz</td>\n",
              "      <td>16GB</td>\n",
              "      <td>1920x1080(FHD)</td>\n",
              "      <td>miniDisplayPort</td>\n",
              "      <td>512GB</td>\n",
              "    </tr>\n",
              "    <tr>\n",
              "      <th>1</th>\n",
              "      <td>HP OMEN 16-b1033TX</td>\n",
              "      <td>2499000</td>\n",
              "      <td>40.89cm(16.1인치)</td>\n",
              "      <td>2.3kg</td>\n",
              "      <td>윈도우11 홈</td>\n",
              "      <td>코어i7-12700H</td>\n",
              "      <td>인텔</td>\n",
              "      <td>NaN</td>\n",
              "      <td>16GB</td>\n",
              "      <td>2560x1440(QHD)</td>\n",
              "      <td>miniDisplayPort</td>\n",
              "      <td>1TB</td>\n",
              "    </tr>\n",
              "    <tr>\n",
              "      <th>2</th>\n",
              "      <td>HP Victus 16-d1141TX</td>\n",
              "      <td>1599000</td>\n",
              "      <td>40.89cm(16.1인치)</td>\n",
              "      <td>2.46kg</td>\n",
              "      <td>미포함(FreeDos)</td>\n",
              "      <td>코어i7-12700H</td>\n",
              "      <td>인텔</td>\n",
              "      <td>NaN</td>\n",
              "      <td>16GB</td>\n",
              "      <td>1920x1080(FHD)</td>\n",
              "      <td>HDMI 2.1</td>\n",
              "      <td>256GB</td>\n",
              "    </tr>\n",
              "    <tr>\n",
              "      <th>3</th>\n",
              "      <td>삼성전자 노트북 플러스2 NT550XDA-K14A</td>\n",
              "      <td>522000</td>\n",
              "      <td>39.62cm(15.6인치)</td>\n",
              "      <td>1.81kg</td>\n",
              "      <td>윈도우11 프로</td>\n",
              "      <td>셀러론-6305</td>\n",
              "      <td>인텔</td>\n",
              "      <td>1.8GHz</td>\n",
              "      <td>4GB</td>\n",
              "      <td>1920x1080(FHD)</td>\n",
              "      <td>HDMI</td>\n",
              "      <td>128GB</td>\n",
              "    </tr>\n",
              "    <tr>\n",
              "      <th>4</th>\n",
              "      <td>삼성전자 노트북 플러스2 NT550XDA-K24A</td>\n",
              "      <td>589000</td>\n",
              "      <td>39.62cm(15.6인치)</td>\n",
              "      <td>1.81kg</td>\n",
              "      <td>윈도우11 프로</td>\n",
              "      <td>펜티엄-7505</td>\n",
              "      <td>인텔</td>\n",
              "      <td>2.0GHz</td>\n",
              "      <td>4GB</td>\n",
              "      <td>1920x1080(FHD)</td>\n",
              "      <td>HDMI</td>\n",
              "      <td>128GB</td>\n",
              "    </tr>\n",
              "  </tbody>\n",
              "</table>\n",
              "</div>\n",
              "      <button class=\"colab-df-convert\" onclick=\"convertToInteractive('df-ff9c895c-656a-408e-80c0-5a9c9a546935')\"\n",
              "              title=\"Convert this dataframe to an interactive table.\"\n",
              "              style=\"display:none;\">\n",
              "        \n",
              "  <svg xmlns=\"http://www.w3.org/2000/svg\" height=\"24px\"viewBox=\"0 0 24 24\"\n",
              "       width=\"24px\">\n",
              "    <path d=\"M0 0h24v24H0V0z\" fill=\"none\"/>\n",
              "    <path d=\"M18.56 5.44l.94 2.06.94-2.06 2.06-.94-2.06-.94-.94-2.06-.94 2.06-2.06.94zm-11 1L8.5 8.5l.94-2.06 2.06-.94-2.06-.94L8.5 2.5l-.94 2.06-2.06.94zm10 10l.94 2.06.94-2.06 2.06-.94-2.06-.94-.94-2.06-.94 2.06-2.06.94z\"/><path d=\"M17.41 7.96l-1.37-1.37c-.4-.4-.92-.59-1.43-.59-.52 0-1.04.2-1.43.59L10.3 9.45l-7.72 7.72c-.78.78-.78 2.05 0 2.83L4 21.41c.39.39.9.59 1.41.59.51 0 1.02-.2 1.41-.59l7.78-7.78 2.81-2.81c.8-.78.8-2.07 0-2.86zM5.41 20L4 18.59l7.72-7.72 1.47 1.35L5.41 20z\"/>\n",
              "  </svg>\n",
              "      </button>\n",
              "      \n",
              "  <style>\n",
              "    .colab-df-container {\n",
              "      display:flex;\n",
              "      flex-wrap:wrap;\n",
              "      gap: 12px;\n",
              "    }\n",
              "\n",
              "    .colab-df-convert {\n",
              "      background-color: #E8F0FE;\n",
              "      border: none;\n",
              "      border-radius: 50%;\n",
              "      cursor: pointer;\n",
              "      display: none;\n",
              "      fill: #1967D2;\n",
              "      height: 32px;\n",
              "      padding: 0 0 0 0;\n",
              "      width: 32px;\n",
              "    }\n",
              "\n",
              "    .colab-df-convert:hover {\n",
              "      background-color: #E2EBFA;\n",
              "      box-shadow: 0px 1px 2px rgba(60, 64, 67, 0.3), 0px 1px 3px 1px rgba(60, 64, 67, 0.15);\n",
              "      fill: #174EA6;\n",
              "    }\n",
              "\n",
              "    [theme=dark] .colab-df-convert {\n",
              "      background-color: #3B4455;\n",
              "      fill: #D2E3FC;\n",
              "    }\n",
              "\n",
              "    [theme=dark] .colab-df-convert:hover {\n",
              "      background-color: #434B5C;\n",
              "      box-shadow: 0px 1px 3px 1px rgba(0, 0, 0, 0.15);\n",
              "      filter: drop-shadow(0px 1px 2px rgba(0, 0, 0, 0.3));\n",
              "      fill: #FFFFFF;\n",
              "    }\n",
              "  </style>\n",
              "\n",
              "      <script>\n",
              "        const buttonEl =\n",
              "          document.querySelector('#df-ff9c895c-656a-408e-80c0-5a9c9a546935 button.colab-df-convert');\n",
              "        buttonEl.style.display =\n",
              "          google.colab.kernel.accessAllowed ? 'block' : 'none';\n",
              "\n",
              "        async function convertToInteractive(key) {\n",
              "          const element = document.querySelector('#df-ff9c895c-656a-408e-80c0-5a9c9a546935');\n",
              "          const dataTable =\n",
              "            await google.colab.kernel.invokeFunction('convertToInteractive',\n",
              "                                                     [key], {});\n",
              "          if (!dataTable) return;\n",
              "\n",
              "          const docLinkHtml = 'Like what you see? Visit the ' +\n",
              "            '<a target=\"_blank\" href=https://colab.research.google.com/notebooks/data_table.ipynb>data table notebook</a>'\n",
              "            + ' to learn more about interactive tables.';\n",
              "          element.innerHTML = '';\n",
              "          dataTable['output_type'] = 'display_data';\n",
              "          await google.colab.output.renderOutput(dataTable, element);\n",
              "          const docLink = document.createElement('div');\n",
              "          docLink.innerHTML = docLinkHtml;\n",
              "          element.appendChild(docLink);\n",
              "        }\n",
              "      </script>\n",
              "    </div>\n",
              "  </div>\n",
              "  "
            ]
          },
          "metadata": {},
          "execution_count": 226
        }
      ]
    },
    {
      "cell_type": "code",
      "source": [
        "# size 바꿔주기\n",
        "\n",
        "def chng_size(data):\n",
        "    if type(data) == str:\n",
        "        data = data.split('(')[1].split('인치')[0]\n",
        "    else: pass\n",
        "    return float(data)\n",
        "\n",
        "df['screen_size'] = df['screen_size'].apply(chng_size)\n",
        "df.rename(columns = {'screen_size':'screen_size-inch'}, inplace = True)"
      ],
      "metadata": {
        "id": "Sm7r1jrnxmdJ"
      },
      "execution_count": null,
      "outputs": []
    },
    {
      "cell_type": "code",
      "source": [
        "# CPU column 재정의\n",
        "\n",
        "def chng_CPU(data):\n",
        "    if type(data) == str:\n",
        "        data = data.split('-')[0]\n",
        "        return data\n",
        "\n",
        "df['CPU'] = df['CPU'].apply(chng_CPU)"
      ],
      "metadata": {
        "id": "KKPDwfcG4q_K"
      },
      "execution_count": null,
      "outputs": []
    },
    {
      "cell_type": "code",
      "source": [
        "# cpu speed column 재정의\n",
        "\n",
        "def chng_speed(data):\n",
        "    if type(data) == str:\n",
        "        data = data.replace(' 이하','')\n",
        "        data = data.replace(' 이상','')\n",
        "        data = data.split('GHz')[0]\n",
        "        return float(data)\n",
        "\n",
        "df['CPU_speed'] = df['CPU_speed'].apply(chng_speed)\n",
        "df.rename(columns = {'CPU_speed':'CPU_speed-GHz'}, inplace = True)"
      ],
      "metadata": {
        "id": "iMe2eH-L5_pi"
      },
      "execution_count": null,
      "outputs": []
    },
    {
      "cell_type": "code",
      "source": [
        "# ram column 재정의\n",
        "\n",
        "def chng_ram(data):\n",
        "    if type(data) == str:\n",
        "        data = data.split('GB')[0]\n",
        "        return int(data)\n",
        "\n",
        "df['RAM'] = df['RAM'].apply(chng_ram)\n",
        "df.rename(columns = {'RAM':'RAM-GB'}, inplace = True)"
      ],
      "metadata": {
        "id": "d4fRee0q6OCM"
      },
      "execution_count": null,
      "outputs": []
    },
    {
      "cell_type": "code",
      "source": [
        "# resolution column 재정의\n",
        "\n",
        "def chng_resolution(data):\n",
        "    if type(data) == str:\n",
        "        data = data.split('(')[0]\n",
        "        return data\n",
        "\n",
        "df['resolution'] = df['resolution'].apply(chng_resolution)"
      ],
      "metadata": {
        "id": "oMVRiNCR6kAE"
      },
      "execution_count": null,
      "outputs": []
    },
    {
      "cell_type": "code",
      "source": [
        "# ssd column 재정의\n",
        "\n",
        "def chng_SSD(data):\n",
        "    if type(data) == str:\n",
        "        if 'GB' in data:\n",
        "            data = float(data.split('GB')[0])\n",
        "        elif 'TB' in data:\n",
        "            data = float(data.split('TB')[0])*1000\n",
        "        return data\n",
        "\n",
        "df['SSD'] = df['SSD'].apply(chng_SSD)\n",
        "df.rename(columns = {'SSD':'SSD-GB'}, inplace = True)"
      ],
      "metadata": {
        "id": "4S8O2Yf77BCD"
      },
      "execution_count": null,
      "outputs": []
    },
    {
      "cell_type": "code",
      "source": [
        "# weight column 재정의\n",
        "\n",
        "def chng_weight(data):\n",
        "    if type(data) == str:\n",
        "        if '0.' in data:\n",
        "            data = '0'\n",
        "        elif '1.' in data:\n",
        "            data = '1'\n",
        "        elif '2.' in data:\n",
        "            data = '2'\n",
        "        elif '3.' in data:\n",
        "            data = '3'\n",
        "        elif '4.' in data:\n",
        "            data = '4'\n",
        "        else:\n",
        "            pass\n",
        "\n",
        "        if '2kg' in data:\n",
        "            data = '2'\n",
        "        elif '1kg' in data:\n",
        "            data = '1'\n",
        "        elif '3kg' in data:\n",
        "            data = '3'\n",
        "        elif ',' in data:\n",
        "            data = '1'\n",
        "        else:\n",
        "            pass\n",
        "\n",
        "        if '1190g' in data:\n",
        "            data = '1'\n",
        "        elif '1120g' in data:\n",
        "            data = '1'\n",
        "        elif '1350g' in data:\n",
        "            data = '1'\n",
        "        elif '1199gg' in data:\n",
        "            data = '1'\n",
        "        elif '1099g' in data:\n",
        "            data = '1'\n",
        "        elif '1700g' in data:\n",
        "            data = '1'\n",
        "        elif '1190' in data:\n",
        "            data = '1'\n",
        "        elif '1400' in data:\n",
        "            data = '1'\n",
        "\n",
        "        if 'g' in data:\n",
        "            data = '0'\n",
        "\n",
        "        return data\n",
        "\n",
        "df['weight-kg'] = df['weight'].apply(chng_weight)"
      ],
      "metadata": {
        "id": "fwP5M-et_MK2"
      },
      "execution_count": null,
      "outputs": []
    },
    {
      "cell_type": "code",
      "source": [
        "df.head(5)"
      ],
      "metadata": {
        "colab": {
          "base_uri": "https://localhost:8080/",
          "height": 461
        },
        "id": "kubsVA7SxSNs",
        "outputId": "2b05fa27-cc5b-4990-f8fe-eb71d253c8ac"
      },
      "execution_count": null,
      "outputs": [
        {
          "output_type": "execute_result",
          "data": {
            "text/plain": [
              "                     item_name    price  screen_size-inch  weight  \\\n",
              "0           주연테크 리오나인 젠 L8CS37  1849000              17.3   2.5kg   \n",
              "1           HP OMEN 16-b1033TX  2499000              16.1   2.3kg   \n",
              "2         HP Victus 16-d1141TX  1599000              16.1  2.46kg   \n",
              "3  삼성전자 노트북 플러스2 NT550XDA-K14A   522000              15.6  1.81kg   \n",
              "4  삼성전자 노트북 플러스2 NT550XDA-K24A   589000              15.6  1.81kg   \n",
              "\n",
              "     release_OS   CPU chipset  CPU_speed-GHz  RAM-GB resolution  \\\n",
              "0  미포함(FreeDos)  라이젠7     AMD            3.2    16.0  1920x1080   \n",
              "1       윈도우11 홈  코어i7      인텔            NaN    16.0  2560x1440   \n",
              "2  미포함(FreeDos)  코어i7      인텔            NaN    16.0  1920x1080   \n",
              "3      윈도우11 프로   셀러론      인텔            1.8     4.0  1920x1080   \n",
              "4      윈도우11 프로   펜티엄      인텔            2.0     4.0  1920x1080   \n",
              "\n",
              "      video_output  SSD-GB weight-kg  \n",
              "0  miniDisplayPort   512.0         2  \n",
              "1  miniDisplayPort  1000.0         2  \n",
              "2         HDMI 2.1   256.0         2  \n",
              "3             HDMI   128.0         1  \n",
              "4             HDMI   128.0         1  "
            ],
            "text/html": [
              "\n",
              "  <div id=\"df-8942150c-e0ba-4b2e-a185-eec86cabc29d\">\n",
              "    <div class=\"colab-df-container\">\n",
              "      <div>\n",
              "<style scoped>\n",
              "    .dataframe tbody tr th:only-of-type {\n",
              "        vertical-align: middle;\n",
              "    }\n",
              "\n",
              "    .dataframe tbody tr th {\n",
              "        vertical-align: top;\n",
              "    }\n",
              "\n",
              "    .dataframe thead th {\n",
              "        text-align: right;\n",
              "    }\n",
              "</style>\n",
              "<table border=\"1\" class=\"dataframe\">\n",
              "  <thead>\n",
              "    <tr style=\"text-align: right;\">\n",
              "      <th></th>\n",
              "      <th>item_name</th>\n",
              "      <th>price</th>\n",
              "      <th>screen_size-inch</th>\n",
              "      <th>weight</th>\n",
              "      <th>release_OS</th>\n",
              "      <th>CPU</th>\n",
              "      <th>chipset</th>\n",
              "      <th>CPU_speed-GHz</th>\n",
              "      <th>RAM-GB</th>\n",
              "      <th>resolution</th>\n",
              "      <th>video_output</th>\n",
              "      <th>SSD-GB</th>\n",
              "      <th>weight-kg</th>\n",
              "    </tr>\n",
              "  </thead>\n",
              "  <tbody>\n",
              "    <tr>\n",
              "      <th>0</th>\n",
              "      <td>주연테크 리오나인 젠 L8CS37</td>\n",
              "      <td>1849000</td>\n",
              "      <td>17.3</td>\n",
              "      <td>2.5kg</td>\n",
              "      <td>미포함(FreeDos)</td>\n",
              "      <td>라이젠7</td>\n",
              "      <td>AMD</td>\n",
              "      <td>3.2</td>\n",
              "      <td>16.0</td>\n",
              "      <td>1920x1080</td>\n",
              "      <td>miniDisplayPort</td>\n",
              "      <td>512.0</td>\n",
              "      <td>2</td>\n",
              "    </tr>\n",
              "    <tr>\n",
              "      <th>1</th>\n",
              "      <td>HP OMEN 16-b1033TX</td>\n",
              "      <td>2499000</td>\n",
              "      <td>16.1</td>\n",
              "      <td>2.3kg</td>\n",
              "      <td>윈도우11 홈</td>\n",
              "      <td>코어i7</td>\n",
              "      <td>인텔</td>\n",
              "      <td>NaN</td>\n",
              "      <td>16.0</td>\n",
              "      <td>2560x1440</td>\n",
              "      <td>miniDisplayPort</td>\n",
              "      <td>1000.0</td>\n",
              "      <td>2</td>\n",
              "    </tr>\n",
              "    <tr>\n",
              "      <th>2</th>\n",
              "      <td>HP Victus 16-d1141TX</td>\n",
              "      <td>1599000</td>\n",
              "      <td>16.1</td>\n",
              "      <td>2.46kg</td>\n",
              "      <td>미포함(FreeDos)</td>\n",
              "      <td>코어i7</td>\n",
              "      <td>인텔</td>\n",
              "      <td>NaN</td>\n",
              "      <td>16.0</td>\n",
              "      <td>1920x1080</td>\n",
              "      <td>HDMI 2.1</td>\n",
              "      <td>256.0</td>\n",
              "      <td>2</td>\n",
              "    </tr>\n",
              "    <tr>\n",
              "      <th>3</th>\n",
              "      <td>삼성전자 노트북 플러스2 NT550XDA-K14A</td>\n",
              "      <td>522000</td>\n",
              "      <td>15.6</td>\n",
              "      <td>1.81kg</td>\n",
              "      <td>윈도우11 프로</td>\n",
              "      <td>셀러론</td>\n",
              "      <td>인텔</td>\n",
              "      <td>1.8</td>\n",
              "      <td>4.0</td>\n",
              "      <td>1920x1080</td>\n",
              "      <td>HDMI</td>\n",
              "      <td>128.0</td>\n",
              "      <td>1</td>\n",
              "    </tr>\n",
              "    <tr>\n",
              "      <th>4</th>\n",
              "      <td>삼성전자 노트북 플러스2 NT550XDA-K24A</td>\n",
              "      <td>589000</td>\n",
              "      <td>15.6</td>\n",
              "      <td>1.81kg</td>\n",
              "      <td>윈도우11 프로</td>\n",
              "      <td>펜티엄</td>\n",
              "      <td>인텔</td>\n",
              "      <td>2.0</td>\n",
              "      <td>4.0</td>\n",
              "      <td>1920x1080</td>\n",
              "      <td>HDMI</td>\n",
              "      <td>128.0</td>\n",
              "      <td>1</td>\n",
              "    </tr>\n",
              "  </tbody>\n",
              "</table>\n",
              "</div>\n",
              "      <button class=\"colab-df-convert\" onclick=\"convertToInteractive('df-8942150c-e0ba-4b2e-a185-eec86cabc29d')\"\n",
              "              title=\"Convert this dataframe to an interactive table.\"\n",
              "              style=\"display:none;\">\n",
              "        \n",
              "  <svg xmlns=\"http://www.w3.org/2000/svg\" height=\"24px\"viewBox=\"0 0 24 24\"\n",
              "       width=\"24px\">\n",
              "    <path d=\"M0 0h24v24H0V0z\" fill=\"none\"/>\n",
              "    <path d=\"M18.56 5.44l.94 2.06.94-2.06 2.06-.94-2.06-.94-.94-2.06-.94 2.06-2.06.94zm-11 1L8.5 8.5l.94-2.06 2.06-.94-2.06-.94L8.5 2.5l-.94 2.06-2.06.94zm10 10l.94 2.06.94-2.06 2.06-.94-2.06-.94-.94-2.06-.94 2.06-2.06.94z\"/><path d=\"M17.41 7.96l-1.37-1.37c-.4-.4-.92-.59-1.43-.59-.52 0-1.04.2-1.43.59L10.3 9.45l-7.72 7.72c-.78.78-.78 2.05 0 2.83L4 21.41c.39.39.9.59 1.41.59.51 0 1.02-.2 1.41-.59l7.78-7.78 2.81-2.81c.8-.78.8-2.07 0-2.86zM5.41 20L4 18.59l7.72-7.72 1.47 1.35L5.41 20z\"/>\n",
              "  </svg>\n",
              "      </button>\n",
              "      \n",
              "  <style>\n",
              "    .colab-df-container {\n",
              "      display:flex;\n",
              "      flex-wrap:wrap;\n",
              "      gap: 12px;\n",
              "    }\n",
              "\n",
              "    .colab-df-convert {\n",
              "      background-color: #E8F0FE;\n",
              "      border: none;\n",
              "      border-radius: 50%;\n",
              "      cursor: pointer;\n",
              "      display: none;\n",
              "      fill: #1967D2;\n",
              "      height: 32px;\n",
              "      padding: 0 0 0 0;\n",
              "      width: 32px;\n",
              "    }\n",
              "\n",
              "    .colab-df-convert:hover {\n",
              "      background-color: #E2EBFA;\n",
              "      box-shadow: 0px 1px 2px rgba(60, 64, 67, 0.3), 0px 1px 3px 1px rgba(60, 64, 67, 0.15);\n",
              "      fill: #174EA6;\n",
              "    }\n",
              "\n",
              "    [theme=dark] .colab-df-convert {\n",
              "      background-color: #3B4455;\n",
              "      fill: #D2E3FC;\n",
              "    }\n",
              "\n",
              "    [theme=dark] .colab-df-convert:hover {\n",
              "      background-color: #434B5C;\n",
              "      box-shadow: 0px 1px 3px 1px rgba(0, 0, 0, 0.15);\n",
              "      filter: drop-shadow(0px 1px 2px rgba(0, 0, 0, 0.3));\n",
              "      fill: #FFFFFF;\n",
              "    }\n",
              "  </style>\n",
              "\n",
              "      <script>\n",
              "        const buttonEl =\n",
              "          document.querySelector('#df-8942150c-e0ba-4b2e-a185-eec86cabc29d button.colab-df-convert');\n",
              "        buttonEl.style.display =\n",
              "          google.colab.kernel.accessAllowed ? 'block' : 'none';\n",
              "\n",
              "        async function convertToInteractive(key) {\n",
              "          const element = document.querySelector('#df-8942150c-e0ba-4b2e-a185-eec86cabc29d');\n",
              "          const dataTable =\n",
              "            await google.colab.kernel.invokeFunction('convertToInteractive',\n",
              "                                                     [key], {});\n",
              "          if (!dataTable) return;\n",
              "\n",
              "          const docLinkHtml = 'Like what you see? Visit the ' +\n",
              "            '<a target=\"_blank\" href=https://colab.research.google.com/notebooks/data_table.ipynb>data table notebook</a>'\n",
              "            + ' to learn more about interactive tables.';\n",
              "          element.innerHTML = '';\n",
              "          dataTable['output_type'] = 'display_data';\n",
              "          await google.colab.output.renderOutput(dataTable, element);\n",
              "          const docLink = document.createElement('div');\n",
              "          docLink.innerHTML = docLinkHtml;\n",
              "          element.appendChild(docLink);\n",
              "        }\n",
              "      </script>\n",
              "    </div>\n",
              "  </div>\n",
              "  "
            ]
          },
          "metadata": {},
          "execution_count": 258
        }
      ]
    },
    {
      "cell_type": "code",
      "source": [
        "df.dtypes"
      ],
      "metadata": {
        "colab": {
          "base_uri": "https://localhost:8080/"
        },
        "id": "7Nw7oqqO1O7V",
        "outputId": "4866d577-9b62-4720-9e4a-4406c39445f1"
      },
      "execution_count": null,
      "outputs": [
        {
          "output_type": "execute_result",
          "data": {
            "text/plain": [
              "item_name            object\n",
              "price                 int64\n",
              "screen_size-inch    float64\n",
              "weight               object\n",
              "release_OS           object\n",
              "CPU                  object\n",
              "chipset              object\n",
              "CPU_speed-GHz       float64\n",
              "RAM-GB              float64\n",
              "resolution           object\n",
              "video_output         object\n",
              "SSD-GB              float64\n",
              "weight-kg            object\n",
              "dtype: object"
            ]
          },
          "metadata": {},
          "execution_count": 259
        }
      ]
    },
    {
      "cell_type": "markdown",
      "source": [
        "# 모델 학습"
      ],
      "metadata": {
        "id": "1HGv95wUIrGb"
      }
    },
    {
      "cell_type": "code",
      "source": [
        "df_model = df.drop(columns=['item_name','weight'])"
      ],
      "metadata": {
        "id": "cDVFImsGLV3f"
      },
      "execution_count": null,
      "outputs": []
    },
    {
      "cell_type": "code",
      "source": [
        "df_model.dtypes"
      ],
      "metadata": {
        "colab": {
          "base_uri": "https://localhost:8080/"
        },
        "id": "N9KWkG2SL-ur",
        "outputId": "39def21f-0ec6-46fc-9eb7-9090b2c066bc"
      },
      "execution_count": null,
      "outputs": [
        {
          "output_type": "execute_result",
          "data": {
            "text/plain": [
              "price                 int64\n",
              "screen_size-inch    float64\n",
              "release_OS           object\n",
              "CPU                  object\n",
              "chipset              object\n",
              "CPU_speed-GHz       float64\n",
              "RAM-GB              float64\n",
              "resolution           object\n",
              "video_output         object\n",
              "SSD-GB              float64\n",
              "weight-kg            object\n",
              "dtype: object"
            ]
          },
          "metadata": {},
          "execution_count": 269
        }
      ]
    },
    {
      "cell_type": "code",
      "source": [
        "df_model.columns"
      ],
      "metadata": {
        "colab": {
          "base_uri": "https://localhost:8080/"
        },
        "id": "gc4LaCaQLk44",
        "outputId": "e056c3d8-96b4-428c-c6c9-9a2f08b92e03"
      },
      "execution_count": null,
      "outputs": [
        {
          "output_type": "execute_result",
          "data": {
            "text/plain": [
              "Index(['price', 'screen_size-inch', 'release_OS', 'CPU', 'chipset',\n",
              "       'CPU_speed-GHz', 'RAM-GB', 'resolution', 'video_output', 'SSD-GB',\n",
              "       'weight-kg'],\n",
              "      dtype='object')"
            ]
          },
          "metadata": {},
          "execution_count": 268
        }
      ]
    },
    {
      "cell_type": "code",
      "source": [
        "df_model.head()"
      ],
      "metadata": {
        "colab": {
          "base_uri": "https://localhost:8080/",
          "height": 375
        },
        "id": "XQNb1zr9MFqd",
        "outputId": "59c036d2-a391-4e1d-8981-83806014facb"
      },
      "execution_count": null,
      "outputs": [
        {
          "output_type": "execute_result",
          "data": {
            "text/plain": [
              "     price  screen_size-inch    release_OS   CPU chipset  CPU_speed-GHz  \\\n",
              "0  1849000              17.3  미포함(FreeDos)  라이젠7     AMD            3.2   \n",
              "1  2499000              16.1       윈도우11 홈  코어i7      인텔            NaN   \n",
              "2  1599000              16.1  미포함(FreeDos)  코어i7      인텔            NaN   \n",
              "3   522000              15.6      윈도우11 프로   셀러론      인텔            1.8   \n",
              "4   589000              15.6      윈도우11 프로   펜티엄      인텔            2.0   \n",
              "\n",
              "   RAM-GB resolution     video_output  SSD-GB weight-kg  \n",
              "0    16.0  1920x1080  miniDisplayPort   512.0         2  \n",
              "1    16.0  2560x1440  miniDisplayPort  1000.0         2  \n",
              "2    16.0  1920x1080         HDMI 2.1   256.0         2  \n",
              "3     4.0  1920x1080             HDMI   128.0         1  \n",
              "4     4.0  1920x1080             HDMI   128.0         1  "
            ],
            "text/html": [
              "\n",
              "  <div id=\"df-e67ed416-cde6-4e1d-b258-240821bb3444\">\n",
              "    <div class=\"colab-df-container\">\n",
              "      <div>\n",
              "<style scoped>\n",
              "    .dataframe tbody tr th:only-of-type {\n",
              "        vertical-align: middle;\n",
              "    }\n",
              "\n",
              "    .dataframe tbody tr th {\n",
              "        vertical-align: top;\n",
              "    }\n",
              "\n",
              "    .dataframe thead th {\n",
              "        text-align: right;\n",
              "    }\n",
              "</style>\n",
              "<table border=\"1\" class=\"dataframe\">\n",
              "  <thead>\n",
              "    <tr style=\"text-align: right;\">\n",
              "      <th></th>\n",
              "      <th>price</th>\n",
              "      <th>screen_size-inch</th>\n",
              "      <th>release_OS</th>\n",
              "      <th>CPU</th>\n",
              "      <th>chipset</th>\n",
              "      <th>CPU_speed-GHz</th>\n",
              "      <th>RAM-GB</th>\n",
              "      <th>resolution</th>\n",
              "      <th>video_output</th>\n",
              "      <th>SSD-GB</th>\n",
              "      <th>weight-kg</th>\n",
              "    </tr>\n",
              "  </thead>\n",
              "  <tbody>\n",
              "    <tr>\n",
              "      <th>0</th>\n",
              "      <td>1849000</td>\n",
              "      <td>17.3</td>\n",
              "      <td>미포함(FreeDos)</td>\n",
              "      <td>라이젠7</td>\n",
              "      <td>AMD</td>\n",
              "      <td>3.2</td>\n",
              "      <td>16.0</td>\n",
              "      <td>1920x1080</td>\n",
              "      <td>miniDisplayPort</td>\n",
              "      <td>512.0</td>\n",
              "      <td>2</td>\n",
              "    </tr>\n",
              "    <tr>\n",
              "      <th>1</th>\n",
              "      <td>2499000</td>\n",
              "      <td>16.1</td>\n",
              "      <td>윈도우11 홈</td>\n",
              "      <td>코어i7</td>\n",
              "      <td>인텔</td>\n",
              "      <td>NaN</td>\n",
              "      <td>16.0</td>\n",
              "      <td>2560x1440</td>\n",
              "      <td>miniDisplayPort</td>\n",
              "      <td>1000.0</td>\n",
              "      <td>2</td>\n",
              "    </tr>\n",
              "    <tr>\n",
              "      <th>2</th>\n",
              "      <td>1599000</td>\n",
              "      <td>16.1</td>\n",
              "      <td>미포함(FreeDos)</td>\n",
              "      <td>코어i7</td>\n",
              "      <td>인텔</td>\n",
              "      <td>NaN</td>\n",
              "      <td>16.0</td>\n",
              "      <td>1920x1080</td>\n",
              "      <td>HDMI 2.1</td>\n",
              "      <td>256.0</td>\n",
              "      <td>2</td>\n",
              "    </tr>\n",
              "    <tr>\n",
              "      <th>3</th>\n",
              "      <td>522000</td>\n",
              "      <td>15.6</td>\n",
              "      <td>윈도우11 프로</td>\n",
              "      <td>셀러론</td>\n",
              "      <td>인텔</td>\n",
              "      <td>1.8</td>\n",
              "      <td>4.0</td>\n",
              "      <td>1920x1080</td>\n",
              "      <td>HDMI</td>\n",
              "      <td>128.0</td>\n",
              "      <td>1</td>\n",
              "    </tr>\n",
              "    <tr>\n",
              "      <th>4</th>\n",
              "      <td>589000</td>\n",
              "      <td>15.6</td>\n",
              "      <td>윈도우11 프로</td>\n",
              "      <td>펜티엄</td>\n",
              "      <td>인텔</td>\n",
              "      <td>2.0</td>\n",
              "      <td>4.0</td>\n",
              "      <td>1920x1080</td>\n",
              "      <td>HDMI</td>\n",
              "      <td>128.0</td>\n",
              "      <td>1</td>\n",
              "    </tr>\n",
              "  </tbody>\n",
              "</table>\n",
              "</div>\n",
              "      <button class=\"colab-df-convert\" onclick=\"convertToInteractive('df-e67ed416-cde6-4e1d-b258-240821bb3444')\"\n",
              "              title=\"Convert this dataframe to an interactive table.\"\n",
              "              style=\"display:none;\">\n",
              "        \n",
              "  <svg xmlns=\"http://www.w3.org/2000/svg\" height=\"24px\"viewBox=\"0 0 24 24\"\n",
              "       width=\"24px\">\n",
              "    <path d=\"M0 0h24v24H0V0z\" fill=\"none\"/>\n",
              "    <path d=\"M18.56 5.44l.94 2.06.94-2.06 2.06-.94-2.06-.94-.94-2.06-.94 2.06-2.06.94zm-11 1L8.5 8.5l.94-2.06 2.06-.94-2.06-.94L8.5 2.5l-.94 2.06-2.06.94zm10 10l.94 2.06.94-2.06 2.06-.94-2.06-.94-.94-2.06-.94 2.06-2.06.94z\"/><path d=\"M17.41 7.96l-1.37-1.37c-.4-.4-.92-.59-1.43-.59-.52 0-1.04.2-1.43.59L10.3 9.45l-7.72 7.72c-.78.78-.78 2.05 0 2.83L4 21.41c.39.39.9.59 1.41.59.51 0 1.02-.2 1.41-.59l7.78-7.78 2.81-2.81c.8-.78.8-2.07 0-2.86zM5.41 20L4 18.59l7.72-7.72 1.47 1.35L5.41 20z\"/>\n",
              "  </svg>\n",
              "      </button>\n",
              "      \n",
              "  <style>\n",
              "    .colab-df-container {\n",
              "      display:flex;\n",
              "      flex-wrap:wrap;\n",
              "      gap: 12px;\n",
              "    }\n",
              "\n",
              "    .colab-df-convert {\n",
              "      background-color: #E8F0FE;\n",
              "      border: none;\n",
              "      border-radius: 50%;\n",
              "      cursor: pointer;\n",
              "      display: none;\n",
              "      fill: #1967D2;\n",
              "      height: 32px;\n",
              "      padding: 0 0 0 0;\n",
              "      width: 32px;\n",
              "    }\n",
              "\n",
              "    .colab-df-convert:hover {\n",
              "      background-color: #E2EBFA;\n",
              "      box-shadow: 0px 1px 2px rgba(60, 64, 67, 0.3), 0px 1px 3px 1px rgba(60, 64, 67, 0.15);\n",
              "      fill: #174EA6;\n",
              "    }\n",
              "\n",
              "    [theme=dark] .colab-df-convert {\n",
              "      background-color: #3B4455;\n",
              "      fill: #D2E3FC;\n",
              "    }\n",
              "\n",
              "    [theme=dark] .colab-df-convert:hover {\n",
              "      background-color: #434B5C;\n",
              "      box-shadow: 0px 1px 3px 1px rgba(0, 0, 0, 0.15);\n",
              "      filter: drop-shadow(0px 1px 2px rgba(0, 0, 0, 0.3));\n",
              "      fill: #FFFFFF;\n",
              "    }\n",
              "  </style>\n",
              "\n",
              "      <script>\n",
              "        const buttonEl =\n",
              "          document.querySelector('#df-e67ed416-cde6-4e1d-b258-240821bb3444 button.colab-df-convert');\n",
              "        buttonEl.style.display =\n",
              "          google.colab.kernel.accessAllowed ? 'block' : 'none';\n",
              "\n",
              "        async function convertToInteractive(key) {\n",
              "          const element = document.querySelector('#df-e67ed416-cde6-4e1d-b258-240821bb3444');\n",
              "          const dataTable =\n",
              "            await google.colab.kernel.invokeFunction('convertToInteractive',\n",
              "                                                     [key], {});\n",
              "          if (!dataTable) return;\n",
              "\n",
              "          const docLinkHtml = 'Like what you see? Visit the ' +\n",
              "            '<a target=\"_blank\" href=https://colab.research.google.com/notebooks/data_table.ipynb>data table notebook</a>'\n",
              "            + ' to learn more about interactive tables.';\n",
              "          element.innerHTML = '';\n",
              "          dataTable['output_type'] = 'display_data';\n",
              "          await google.colab.output.renderOutput(dataTable, element);\n",
              "          const docLink = document.createElement('div');\n",
              "          docLink.innerHTML = docLinkHtml;\n",
              "          element.appendChild(docLink);\n",
              "        }\n",
              "      </script>\n",
              "    </div>\n",
              "  </div>\n",
              "  "
            ]
          },
          "metadata": {},
          "execution_count": 270
        }
      ]
    },
    {
      "cell_type": "code",
      "source": [
        "# 결측값 처리\n",
        "\n",
        "df_model['screen_size-inch'] = df_model['screen_size-inch'].fillna(df_model['screen_size-inch'].mean())\n",
        "df_model['CPU_speed-GHz'] = df_model['CPU_speed-GHz'].fillna(df_model['CPU_speed-GHz'].mean())"
      ],
      "metadata": {
        "id": "TsGJL2U7OTPQ"
      },
      "execution_count": null,
      "outputs": []
    },
    {
      "cell_type": "code",
      "source": [
        "# !pip install category_encoders"
      ],
      "metadata": {
        "id": "-0CBFkB0PgTQ"
      },
      "execution_count": null,
      "outputs": []
    },
    {
      "cell_type": "code",
      "source": [
        "from sklearn.impute import SimpleImputer\n",
        "from sklearn.preprocessing import StandardScaler\n",
        "from sklearn.pipeline import make_pipeline\n",
        "from category_encoders import OneHotEncoder\n",
        "from sklearn.feature_selection import f_regression, SelectKBest\n",
        "from sklearn.model_selection import train_test_split\n",
        "from xgboost import XGBRegressor\n",
        "\n",
        "# data split\n",
        "train, val = train_test_split(df_model, test_size=0.2, random_state=2)\n",
        "\n",
        "X_train = train.drop(columns=['price'])\n",
        "y_train = train['price']\n",
        "X_val = val.drop(columns=['price'])\n",
        "y_val = val['price']"
      ],
      "metadata": {
        "colab": {
          "base_uri": "https://localhost:8080/"
        },
        "id": "jteT2ZLMMGzl",
        "outputId": "5e8805a1-dd2c-4c12-984e-a79233742920"
      },
      "execution_count": null,
      "outputs": [
        {
          "output_type": "stream",
          "name": "stderr",
          "text": [
            "/usr/local/lib/python3.7/dist-packages/statsmodels/tools/_testing.py:19: FutureWarning: pandas.util.testing is deprecated. Use the functions in the public API at pandas.testing instead.\n",
            "  import pandas.util.testing as tm\n"
          ]
        }
      ]
    },
    {
      "cell_type": "code",
      "source": [
        "# pipeline 정의\n",
        "\n",
        "pipe = make_pipeline(\n",
        "    OneHotEncoder(use_cat_names=True), \n",
        "    SimpleImputer(strategy='most_frequent'), \n",
        "    StandardScaler(), \n",
        "    SelectKBest(f_regression, k=20),\n",
        "    XGBRegressor(\n",
        "    n_estimators=1000,\n",
        "    learning_rate=0.2,\n",
        "    n_jobs=-1\n",
        "        )\n",
        "    )"
      ],
      "metadata": {
        "id": "H3d0KoA0PllD"
      },
      "execution_count": null,
      "outputs": []
    },
    {
      "cell_type": "code",
      "source": [
        "pipe.fit(X_train, y_train)"
      ],
      "metadata": {
        "colab": {
          "base_uri": "https://localhost:8080/"
        },
        "id": "05s2fb5lUJqu",
        "outputId": "7f910d30-1fec-45f8-895b-5aac4481b03a"
      },
      "execution_count": null,
      "outputs": [
        {
          "output_type": "stream",
          "name": "stdout",
          "text": [
            "[04:52:51] WARNING: /workspace/src/objective/regression_obj.cu:152: reg:linear is now deprecated in favor of reg:squarederror.\n"
          ]
        },
        {
          "output_type": "execute_result",
          "data": {
            "text/plain": [
              "Pipeline(steps=[('onehotencoder',\n",
              "                 OneHotEncoder(cols=['release_OS', 'CPU', 'chipset',\n",
              "                                     'resolution', 'video_output',\n",
              "                                     'weight-kg'],\n",
              "                               use_cat_names=True)),\n",
              "                ('simpleimputer', SimpleImputer(strategy='most_frequent')),\n",
              "                ('standardscaler', StandardScaler()),\n",
              "                ('selectkbest',\n",
              "                 SelectKBest(k=20,\n",
              "                             score_func=<function f_regression at 0x7fd32e10ab90>)),\n",
              "                ('xgbregressor',\n",
              "                 XGBRegressor(learning_rate=0.2, n_estimators=1000,\n",
              "                              n_jobs=-1))])"
            ]
          },
          "metadata": {},
          "execution_count": 283
        }
      ]
    },
    {
      "cell_type": "code",
      "source": [
        "import pickle\n",
        "\n",
        "with open('pipe.pkl','wb') as pickle_file:\n",
        "    pickle.dump(pipe, pickle_file)"
      ],
      "metadata": {
        "id": "M4vZs6rZVJI1"
      },
      "execution_count": null,
      "outputs": []
    }
  ]
}